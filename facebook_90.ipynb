{
  "nbformat": 4,
  "nbformat_minor": 0,
  "metadata": {
    "colab": {
      "name": "facebook_90",
      "provenance": [],
      "collapsed_sections": []
    },
    "kernelspec": {
      "display_name": "Python 3",
      "language": "python",
      "name": "python3"
    },
    "language_info": {
      "codemirror_mode": {
        "name": "ipython",
        "version": 3
      },
      "file_extension": ".py",
      "mimetype": "text/x-python",
      "name": "python",
      "nbconvert_exporter": "python",
      "pygments_lexer": "ipython3",
      "version": "3.7.3"
    }
  },
  "cells": [
    {
      "cell_type": "markdown",
      "metadata": {
        "id": "u2qxdwnHI1Qh",
        "colab_type": "text"
      },
      "source": [
        "<p style=\"font-size:32px;text-align:center\"> <b>Social network Graph Link Prediction - Facebook Challenge</b> </p>"
      ]
    },
    {
      "cell_type": "markdown",
      "metadata": {
        "id": "uOlZeHeAI1Qs",
        "colab_type": "text"
      },
      "source": [
        "### Problem statement: \n",
        "Given a directed social graph, have to predict missing links to recommend users (Link Prediction in graph)"
      ]
    },
    {
      "cell_type": "markdown",
      "metadata": {
        "id": "iJkRm80DI1Qx",
        "colab_type": "text"
      },
      "source": [
        "### Data Overview\n",
        "Taken data from facebook's recruting challenge on kaggle https://www.kaggle.com/c/FacebookRecruiting  \n",
        "data contains two columns source and destination eac edge in graph \n",
        "    - Data columns (total 2 columns):  \n",
        "    - source_node         int64  \n",
        "    - destination_node    int64  "
      ]
    },
    {
      "cell_type": "markdown",
      "metadata": {
        "id": "CLs1W0UpI1Q2",
        "colab_type": "text"
      },
      "source": [
        "### Mapping the problem into supervised learning problem:\n",
        "- Generated training samples of good and bad links from given directed graph and for each link got some features like no of followers, is he followed back, page rank, katz score, adar index, some svd fetures of adj matrix, some weight features etc. and trained ml model based on these features to predict link. \n",
        "- Some reference papers and videos :  \n",
        "    - https://www.cs.cornell.edu/home/kleinber/link-pred.pdf\n",
        "    - https://www3.nd.edu/~dial/publications/lichtenwalter2010new.pdf\n",
        "    - https://kaggle2.blob.core.windows.net/forum-message-attachments/2594/supervised_link_prediction.pdf\n",
        "    - https://www.youtube.com/watch?v=2M77Hgy17cg"
      ]
    },
    {
      "cell_type": "markdown",
      "metadata": {
        "id": "ZUh-lr9xI1Q4",
        "colab_type": "text"
      },
      "source": [
        "### Business objectives and constraints:  \n",
        "- No low-latency requirement.\n",
        "- Probability of prediction is useful to recommend ighest probability links"
      ]
    },
    {
      "cell_type": "markdown",
      "metadata": {
        "id": "G4BspAiMI1Q_",
        "colab_type": "text"
      },
      "source": [
        "### Performance metric for supervised learning:  \n",
        "- Both precision and recall is important so F1 score is good choice\n",
        "- Confusion matrix"
      ]
    },
    {
      "cell_type": "code",
      "metadata": {
        "id": "1yq3bgjnI1RC",
        "colab_type": "code",
        "colab": {}
      },
      "source": [
        "#Importing Libraries\n",
        "# please do go through this python notebook: \n",
        "import warnings\n",
        "warnings.filterwarnings(\"ignore\")\n",
        "\n",
        "import csv\n",
        "import pandas as pd#pandas to create small dataframes \n",
        "import datetime #Convert to unix time\n",
        "import time #Convert to unix time\n",
        "# if numpy is not installed already : pip3 install numpy\n",
        "import numpy as np#Do aritmetic operations on arrays\n",
        "# matplotlib: used to plot graphs\n",
        "import matplotlib\n",
        "import matplotlib.pylab as plt\n",
        "import seaborn as sns#Plots\n",
        "from matplotlib import rcParams#Size of plots  \n",
        "from sklearn.cluster import MiniBatchKMeans, KMeans#Clustering\n",
        "import math\n",
        "import pickle\n",
        "import os\n",
        "# to install xgboost: pip3 install xgboost\n",
        "import xgboost as xgb\n",
        "\n",
        "import warnings\n",
        "import networkx as nx\n",
        "import pdb\n",
        "import pickle"
      ],
      "execution_count": 0,
      "outputs": []
    },
    {
      "cell_type": "code",
      "metadata": {
        "id": "-dsz29qyQV6q",
        "colab_type": "code",
        "outputId": "08a5c671-bed2-41ba-87a5-d23655df8452",
        "colab": {
          "base_uri": "https://localhost:8080/",
          "height": 125
        }
      },
      "source": [
        "# Load the Drive helper and mount\n",
        "from google.colab import drive\n",
        "\n",
        "# This will prompt for authorization.\n",
        "drive.mount('/content/drive')"
      ],
      "execution_count": 4,
      "outputs": [
        {
          "output_type": "stream",
          "text": [
            "Go to this URL in a browser: https://accounts.google.com/o/oauth2/auth?client_id=947318989803-6bn6qk8qdgf4n4g3pfee6491hc0brc4i.apps.googleusercontent.com&redirect_uri=urn%3Aietf%3Awg%3Aoauth%3A2.0%3Aoob&scope=email%20https%3A%2F%2Fwww.googleapis.com%2Fauth%2Fdocs.test%20https%3A%2F%2Fwww.googleapis.com%2Fauth%2Fdrive%20https%3A%2F%2Fwww.googleapis.com%2Fauth%2Fdrive.photos.readonly%20https%3A%2F%2Fwww.googleapis.com%2Fauth%2Fpeopleapi.readonly&response_type=code\n",
            "\n",
            "Enter your authorization code:\n",
            "··········\n",
            "Mounted at /content/drive\n"
          ],
          "name": "stdout"
        }
      ]
    },
    {
      "cell_type": "code",
      "metadata": {
        "id": "s0c9ZSwVQXfn",
        "colab_type": "code",
        "outputId": "8fb5db2f-d4d8-4358-e133-66aeddcde519",
        "colab": {
          "base_uri": "https://localhost:8080/",
          "height": 34
        }
      },
      "source": [
        "#lists the content of your google drive\n",
        "!ls \"/content/drive/My Drive/Facebook\""
      ],
      "execution_count": 5,
      "outputs": [
        {
          "output_type": "stream",
          "text": [
            "data  FB_EDA.ipynb  FB_featurization.ipynb  FB_Models.ipynb\n"
          ],
          "name": "stdout"
        }
      ]
    },
    {
      "cell_type": "code",
      "metadata": {
        "id": "xY1qIKf4QYCS",
        "colab_type": "code",
        "colab": {}
      },
      "source": [
        "#To open a file\n",
        "import pandas as pd\n",
        "\n",
        "#read the data\n",
        "project_data=pd.read_csv('drive/My Drive/Facebook//train_data.csv') #READ TRAIN.CSV\n",
        "resource_data=pd.read_csv('drive/My Drive/AAIC/resources.csv') #read resources.csv"
      ],
      "execution_count": 0,
      "outputs": []
    },
    {
      "cell_type": "code",
      "metadata": {
        "id": "wymtu-M3I1RS",
        "colab_type": "code",
        "outputId": "68dd90a7-3fba-447e-9e7d-63d694656e06",
        "colab": {
          "base_uri": "https://localhost:8080/",
          "height": 123
        }
      },
      "source": [
        "#reading graph\n",
        "if not os.path.isfile('drive/My Drive/Facebook/data/after_eda/train_woheader.csv'):\n",
        "    traincsv = pd.read_csv('drive/My Drive/Facebook/data/train.csv')\n",
        "    print(traincsv[traincsv.isna().any(1)])\n",
        "    print(traincsv.info())\n",
        "    print(\"Number of diplicate entries: \",sum(traincsv.duplicated()))\n",
        "    traincsv.to_csv('drive/My Drive/Facebook/data/after_eda/train_woheader.csv',header=False,index=False)\n",
        "    print(\"saved the graph into file\")\n",
        "else:\n",
        "    g=nx.read_edgelist('drive/My Drive/Facebook/data/after_eda/train_woheader.csv',delimiter=',',create_using=nx.DiGraph(),nodetype=int)\n",
        "    print(nx.info(g))"
      ],
      "execution_count": 0,
      "outputs": [
        {
          "output_type": "stream",
          "text": [
            "Name: \n",
            "Type: DiGraph\n",
            "Number of nodes: 1862220\n",
            "Number of edges: 9437519\n",
            "Average in degree:   5.0679\n",
            "Average out degree:   5.0679\n"
          ],
          "name": "stdout"
        }
      ]
    },
    {
      "cell_type": "markdown",
      "metadata": {
        "id": "GLlqcNARI1SE",
        "colab_type": "text"
      },
      "source": [
        "> Displaying a sub graph"
      ]
    },
    {
      "cell_type": "code",
      "metadata": {
        "id": "-Cv1ZAi9I1SL",
        "colab_type": "code",
        "colab": {}
      },
      "source": [
        "if not os.path.isfile('drive/My Drive/Facebook/data/train_woheader_sample.csv','r'):\n",
        "    pd.read_csv('drive/My Drive/Facebook/data/train.csv', nrows=50).to_csv('drive/My Drive/Facebook/data/train_woheader_sample.csv',header=False,index=False)\n",
        "    \n",
        "subgraph=nx.read_edgelist('drive/My Drive/Facebook/data/train_woheader_sample.csv',delimiter=',',create_using=nx.DiGraph(),nodetype=int)\n",
        "\n",
        "\n",
        "\n",
        "# https://stackoverflow.com/questions/9402255/drawing-a-huge-graph-with-networkx-and-matplotlib\n",
        "pos=nx.spring_layout(subgraph)\n",
        "nx.draw(subgraph,pos,node_color='#A0CBE2',edge_color='#00bb5e',width=1,edge_cmap=plt.cm.Blues,with_labels=True)\n",
        "plt.savefig(\"graph_sample.pdf\")\n",
        "print(nx.info(subgraph))"
      ],
      "execution_count": 0,
      "outputs": []
    },
    {
      "cell_type": "markdown",
      "metadata": {
        "id": "7BwXZhjiI1SZ",
        "colab_type": "text"
      },
      "source": [
        "# 1. Exploratory Data Analysis"
      ]
    },
    {
      "cell_type": "code",
      "metadata": {
        "id": "dyB0C03EI1Sf",
        "colab_type": "code",
        "outputId": "9f6c65c8-53aa-4929-89a8-f49331974a0d",
        "colab": {
          "base_uri": "https://localhost:8080/",
          "height": 34
        }
      },
      "source": [
        "# No of Unique persons \n",
        "print(\"The number of unique persons\",len(g.nodes()))"
      ],
      "execution_count": 0,
      "outputs": [
        {
          "output_type": "stream",
          "text": [
            "The number of unique persons 1862220\n"
          ],
          "name": "stdout"
        }
      ]
    },
    {
      "cell_type": "markdown",
      "metadata": {
        "id": "WAt1LlSOI1TQ",
        "colab_type": "text"
      },
      "source": [
        "## 1.1 No of followers for each person"
      ]
    },
    {
      "cell_type": "code",
      "metadata": {
        "id": "rbHfYtq4I1TS",
        "colab_type": "code",
        "outputId": "ae041158-80cd-4b3e-b14a-1d532abb6c46",
        "colab": {
          "base_uri": "https://localhost:8080/",
          "height": 387
        }
      },
      "source": [
        "indegree_dist = list(dict(g.in_degree()).values())\n",
        "indegree_dist.sort()\n",
        "plt.figure(figsize=(10,6))\n",
        "plt.plot(indegree_dist)\n",
        "plt.xlabel('Index No')\n",
        "plt.ylabel('No Of Followers')\n",
        "plt.show()"
      ],
      "execution_count": 0,
      "outputs": [
        {
          "output_type": "display_data",
          "data": {
            "image/png": "[encoded data removed]",
            "text/plain": [
              "<Figure size 720x432 with 1 Axes>"
            ]
          },
          "metadata": {
            "tags": []
          }
        }
      ]
    },
    {
      "cell_type": "markdown",
      "metadata": {
        "id": "YjPmGYOOPVX4",
        "colab_type": "text"
      },
      "source": [
        "only few of them have above 400 followers and mostly they are following same range."
      ]
    },
    {
      "cell_type": "code",
      "metadata": {
        "id": "2w1ScwbCI1Te",
        "colab_type": "code",
        "outputId": "f8fee5fb-5b5a-4dd6-b435-13b160b83239",
        "colab": {
          "base_uri": "https://localhost:8080/",
          "height": 387
        }
      },
      "source": [
        "indegree_dist = list(dict(g.in_degree()).values())\n",
        "indegree_dist.sort()\n",
        "plt.figure(figsize=(10,6))\n",
        "plt.plot(indegree_dist[0:1500000])\n",
        "plt.xlabel('Index No')\n",
        "plt.ylabel('No Of Followers')\n",
        "plt.show()"
      ],
      "execution_count": 0,
      "outputs": [
        {
          "output_type": "display_data",
          "data": {
            "image/png": "[encoded data removed]",
            "text/plain": [
              "<Figure size 720x432 with 1 Axes>"
            ]
          },
          "metadata": {
            "tags": []
          }
        }
      ]
    },
    {
      "cell_type": "markdown",
      "metadata": {
        "id": "eoU_Y1htO7xX",
        "colab_type": "text"
      },
      "source": [
        "Most of the 1 followers are from 200k to 750k,most they are all spending same range of followers."
      ]
    },
    {
      "cell_type": "code",
      "metadata": {
        "id": "xstWleIgI1Tq",
        "colab_type": "code",
        "outputId": "c6db4fd1-eab0-4127-cfee-9703b5e67773",
        "colab": {
          "base_uri": "https://localhost:8080/",
          "height": 264
        }
      },
      "source": [
        "plt.boxplot(indegree_dist)\n",
        "plt.ylabel('No Of Followers')\n",
        "plt.show()"
      ],
      "execution_count": 0,
      "outputs": [
        {
          "output_type": "display_data",
          "data": {
            "image/png": "[encoded data removed]",
            "text/plain": [
              "<Figure size 432x288 with 1 Axes>"
            ]
          },
          "metadata": {
            "tags": []
          }
        }
      ]
    },
    {
      "cell_type": "markdown",
      "metadata": {
        "id": "TQ2sT9hYOiPH",
        "colab_type": "text"
      },
      "source": [
        "it shows like most of the values are under 400 and few of them are above 400 and one more from one."
      ]
    },
    {
      "cell_type": "code",
      "metadata": {
        "id": "-IivqHkCI1T1",
        "colab_type": "code",
        "outputId": "605027cb-3660-4afa-8e22-ea6920053740",
        "colab": {
          "base_uri": "https://localhost:8080/",
          "height": 212
        }
      },
      "source": [
        "### 90-100 percentile\n",
        "for i in range(0,11):\n",
        "    print(90+i,'percentile value is',np.percentile(indegree_dist,90+i))"
      ],
      "execution_count": 0,
      "outputs": [
        {
          "output_type": "stream",
          "text": [
            "90 percentile value is 12.0\n",
            "91 percentile value is 13.0\n",
            "92 percentile value is 14.0\n",
            "93 percentile value is 15.0\n",
            "94 percentile value is 17.0\n",
            "95 percentile value is 19.0\n",
            "96 percentile value is 21.0\n",
            "97 percentile value is 24.0\n",
            "98 percentile value is 29.0\n",
            "99 percentile value is 40.0\n",
            "100 percentile value is 552.0\n"
          ],
          "name": "stdout"
        }
      ]
    },
    {
      "cell_type": "code",
      "metadata": {
        "id": "VeQlzuJWI1T_",
        "colab_type": "code",
        "outputId": "5dd6ed1c-7ea8-46b5-9e64-964458743534",
        "colab": {
          "base_uri": "https://localhost:8080/",
          "height": 194
        }
      },
      "source": [
        "### 99-100 percentile\n",
        "for i in range(10,110,10):\n",
        "    print(99+(i/100),'percentile value is',np.percentile(indegree_dist,99+(i/100)))"
      ],
      "execution_count": 0,
      "outputs": [
        {
          "output_type": "stream",
          "text": [
            "99.1 percentile value is 42.0\n",
            "99.2 percentile value is 44.0\n",
            "99.3 percentile value is 47.0\n",
            "99.4 percentile value is 50.0\n",
            "99.5 percentile value is 55.0\n",
            "99.6 percentile value is 61.0\n",
            "99.7 percentile value is 70.0\n",
            "99.8 percentile value is 84.0\n",
            "99.9 percentile value is 112.0\n",
            "100.0 percentile value is 552.0\n"
          ],
          "name": "stdout"
        }
      ]
    },
    {
      "cell_type": "code",
      "metadata": {
        "id": "B0U186BXI1UI",
        "colab_type": "code",
        "outputId": "806e20be-1e3a-47da-a695-674d36dca0e9",
        "colab": {
          "base_uri": "https://localhost:8080/",
          "height": 511
        }
      },
      "source": [
        "%matplotlib inline\n",
        "sns.set_style('ticks')\n",
        "fig, ax = plt.subplots()\n",
        "fig.set_size_inches(11.7, 8.27)\n",
        "sns.distplot(indegree_dist, color='#16A085')\n",
        "plt.xlabel('PDF of Indegree')\n",
        "sns.despine()\n",
        "#plt.show()"
      ],
      "execution_count": 0,
      "outputs": [
        {
          "output_type": "display_data",
          "data": {
            "image/png": "[encoded data removed]",
            "text/plain": [
              "<Figure size 842.4x595.44 with 1 Axes>"
            ]
          },
          "metadata": {
            "tags": []
          }
        }
      ]
    },
    {
      "cell_type": "markdown",
      "metadata": {
        "id": "azg01zdyI1UR",
        "colab_type": "text"
      },
      "source": [
        "## 1.2 No of people each person is following"
      ]
    },
    {
      "cell_type": "code",
      "metadata": {
        "id": "entf9bLPI1UT",
        "colab_type": "code",
        "outputId": "5393108c-9217-45ca-a881-9da7930c7f43",
        "colab": {
          "base_uri": "https://localhost:8080/",
          "height": 387
        }
      },
      "source": [
        "outdegree_dist = list(dict(g.out_degree()).values())\n",
        "outdegree_dist.sort()\n",
        "plt.figure(figsize=(10,6))\n",
        "plt.plot(outdegree_dist)\n",
        "plt.xlabel('Index No')\n",
        "plt.ylabel('No Of people each person is following')\n",
        "plt.show()"
      ],
      "execution_count": 0,
      "outputs": [
        {
          "output_type": "display_data",
          "data": {
            "image/png": "[encoded data removed]",
            "text/plain": [
              "<Figure size 720x432 with 1 Axes>"
            ]
          },
          "metadata": {
            "tags": []
          }
        }
      ]
    },
    {
      "cell_type": "code",
      "metadata": {
        "id": "klN3yQe1I1Ud",
        "colab_type": "code",
        "outputId": "18ffe2fd-0496-40bb-aac4-fb2dab002565",
        "colab": {
          "base_uri": "https://localhost:8080/",
          "height": 387
        }
      },
      "source": [
        "indegree_dist = list(dict(g.in_degree()).values())\n",
        "indegree_dist.sort()\n",
        "plt.figure(figsize=(10,6))\n",
        "plt.plot(outdegree_dist[0:1500000])\n",
        "plt.xlabel('Index No')\n",
        "plt.ylabel('No Of people each person is following')\n",
        "plt.show()"
      ],
      "execution_count": 0,
      "outputs": [
        {
          "output_type": "display_data",
          "data": {
            "image/png": "[encoded data removed]",
            "text/plain": [
              "<Figure size 720x432 with 1 Axes>"
            ]
          },
          "metadata": {
            "tags": []
          }
        }
      ]
    },
    {
      "cell_type": "code",
      "metadata": {
        "id": "5ge-RmLGI1Um",
        "colab_type": "code",
        "outputId": "feba8608-934b-4135-b6d4-763daa13f58b",
        "colab": {
          "base_uri": "https://localhost:8080/",
          "height": 264
        }
      },
      "source": [
        "plt.boxplot(indegree_dist)\n",
        "plt.ylabel('No Of people each person is following')\n",
        "plt.show()"
      ],
      "execution_count": 0,
      "outputs": [
        {
          "output_type": "display_data",
          "data": {
            "image/png": "[encoded data removed]",
            "text/plain": [
              "<Figure size 432x288 with 1 Axes>"
            ]
          },
          "metadata": {
            "tags": []
          }
        }
      ]
    },
    {
      "cell_type": "code",
      "metadata": {
        "id": "BWopmhF_I1Uy",
        "colab_type": "code",
        "outputId": "a84852fe-e16e-4c82-f7bd-28b76845eca8",
        "colab": {
          "base_uri": "https://localhost:8080/",
          "height": 212
        }
      },
      "source": [
        "### 90-100 percentile\n",
        "for i in range(0,11):\n",
        "    print(90+i,'percentile value is',np.percentile(outdegree_dist,90+i))"
      ],
      "execution_count": 0,
      "outputs": [
        {
          "output_type": "stream",
          "text": [
            "90 percentile value is 12.0\n",
            "91 percentile value is 13.0\n",
            "92 percentile value is 14.0\n",
            "93 percentile value is 15.0\n",
            "94 percentile value is 17.0\n",
            "95 percentile value is 19.0\n",
            "96 percentile value is 21.0\n",
            "97 percentile value is 24.0\n",
            "98 percentile value is 29.0\n",
            "99 percentile value is 40.0\n",
            "100 percentile value is 1566.0\n"
          ],
          "name": "stdout"
        }
      ]
    },
    {
      "cell_type": "code",
      "metadata": {
        "id": "2_w9F1qXI1U9",
        "colab_type": "code",
        "outputId": "c17c5fb8-1044-4825-ef40-176f92b787dd",
        "colab": {
          "base_uri": "https://localhost:8080/",
          "height": 194
        }
      },
      "source": [
        "### 99-100 percentile\n",
        "for i in range(10,110,10):\n",
        "    print(99+(i/100),'percentile value is',np.percentile(outdegree_dist,99+(i/100)))"
      ],
      "execution_count": 0,
      "outputs": [
        {
          "output_type": "stream",
          "text": [
            "99.1 percentile value is 42.0\n",
            "99.2 percentile value is 45.0\n",
            "99.3 percentile value is 48.0\n",
            "99.4 percentile value is 52.0\n",
            "99.5 percentile value is 56.0\n",
            "99.6 percentile value is 63.0\n",
            "99.7 percentile value is 73.0\n",
            "99.8 percentile value is 90.0\n",
            "99.9 percentile value is 123.0\n",
            "100.0 percentile value is 1566.0\n"
          ],
          "name": "stdout"
        }
      ]
    },
    {
      "cell_type": "code",
      "metadata": {
        "id": "XHIJ5Fi-I1VJ",
        "colab_type": "code",
        "outputId": "b5c4a5f5-6ac7-43a8-b348-723db262229b",
        "colab": {
          "base_uri": "https://localhost:8080/",
          "height": 511
        }
      },
      "source": [
        "sns.set_style('ticks')\n",
        "fig, ax = plt.subplots()\n",
        "fig.set_size_inches(11.7, 8.27)\n",
        "sns.distplot(outdegree_dist, color='#16A085')\n",
        "plt.xlabel('PDF of Outdegree')\n",
        "sns.despine()"
      ],
      "execution_count": 0,
      "outputs": [
        {
          "output_type": "display_data",
          "data": {
            "image/png": "[encoded data removed]",
            "text/plain": [
              "<Figure size 842.4x595.44 with 1 Axes>"
            ]
          },
          "metadata": {
            "tags": []
          }
        }
      ]
    },
    {
      "cell_type": "code",
      "metadata": {
        "id": "qNunl25tI1VR",
        "colab_type": "code",
        "outputId": "3ec89a38-41ec-48dd-b23e-fc87590d365b",
        "colab": {
          "base_uri": "https://localhost:8080/",
          "height": 34
        }
      },
      "source": [
        "print('No of persons those are not following anyone are' ,sum(np.array(outdegree_dist)==0),'and % is',\n",
        "                                sum(np.array(outdegree_dist)==0)*100/len(outdegree_dist) )"
      ],
      "execution_count": 0,
      "outputs": [
        {
          "output_type": "stream",
          "text": [
            "No of persons those are not following anyone are 274512 and % is 14.741115442858524\n"
          ],
          "name": "stdout"
        }
      ]
    },
    {
      "cell_type": "code",
      "metadata": {
        "id": "SXASPvWjI1Vc",
        "colab_type": "code",
        "outputId": "b6d6e153-86a5-4acd-b36d-afcc455d25d1",
        "colab": {
          "base_uri": "https://localhost:8080/",
          "height": 34
        }
      },
      "source": [
        "print('No of persons having zero followers are' ,sum(np.array(indegree_dist)==0),'and % is',\n",
        "                                sum(np.array(indegree_dist)==0)*100/len(indegree_dist) )"
      ],
      "execution_count": 0,
      "outputs": [
        {
          "output_type": "stream",
          "text": [
            "No of persons having zero followers are 188043 and % is 10.097786512871734\n"
          ],
          "name": "stdout"
        }
      ]
    },
    {
      "cell_type": "code",
      "metadata": {
        "id": "NKplNLXTI1V7",
        "colab_type": "code",
        "outputId": "80b19beb-d25e-4834-f0b9-792311d84671",
        "colab": {
          "base_uri": "https://localhost:8080/",
          "height": 34
        }
      },
      "source": [
        "count=0\n",
        "for i in g.nodes():\n",
        "    if len(list(g.predecessors(i)))==0 :\n",
        "        if len(list(g.successors(i)))==0:\n",
        "            count+=1\n",
        "print('No of persons those are not not following anyone and also not having any followers are',count)"
      ],
      "execution_count": 0,
      "outputs": [
        {
          "output_type": "stream",
          "text": [
            "No of persons those are not not following anyone and also not having any followers are 0\n"
          ],
          "name": "stdout"
        }
      ]
    },
    {
      "cell_type": "markdown",
      "metadata": {
        "id": "wTjgXqL4I1WN",
        "colab_type": "text"
      },
      "source": [
        "## 1.3 both followers + following "
      ]
    },
    {
      "cell_type": "code",
      "metadata": {
        "id": "DUHY2kPUI1WP",
        "colab_type": "code",
        "colab": {}
      },
      "source": [
        "from collections import Counter\n",
        "dict_in = dict(g.in_degree())\n",
        "dict_out = dict(g.out_degree())\n",
        "d = Counter(dict_in) + Counter(dict_out)\n",
        "in_out_degree = np.array(list(d.values()))"
      ],
      "execution_count": 0,
      "outputs": []
    },
    {
      "cell_type": "code",
      "metadata": {
        "id": "vfBpQAxlI1WX",
        "colab_type": "code",
        "outputId": "8975dceb-cfad-495a-c9b0-ecdd73522f65",
        "colab": {
          "base_uri": "https://localhost:8080/",
          "height": 387
        }
      },
      "source": [
        "in_out_degree_sort = sorted(in_out_degree)\n",
        "plt.figure(figsize=(10,6))\n",
        "plt.plot(in_out_degree_sort)\n",
        "plt.xlabel('Index No')\n",
        "plt.ylabel('No Of people each person is following + followers')\n",
        "plt.show()"
      ],
      "execution_count": 0,
      "outputs": [
        {
          "output_type": "display_data",
          "data": {
            "image/png": "[encoded data removed]",
            "text/plain": [
              "<Figure size 720x432 with 1 Axes>"
            ]
          },
          "metadata": {
            "tags": []
          }
        }
      ]
    },
    {
      "cell_type": "code",
      "metadata": {
        "id": "jv4ywuX2I1Wf",
        "colab_type": "code",
        "outputId": "c210f7a8-103b-43a3-a759-c2602f61d4e2",
        "colab": {
          "base_uri": "https://localhost:8080/",
          "height": 387
        }
      },
      "source": [
        "in_out_degree_sort = sorted(in_out_degree)\n",
        "plt.figure(figsize=(10,6))\n",
        "plt.plot(in_out_degree_sort[0:1500000])\n",
        "plt.xlabel('Index No')\n",
        "plt.ylabel('No Of people each person is following + followers')\n",
        "plt.show()"
      ],
      "execution_count": 0,
      "outputs": [
        {
          "output_type": "display_data",
          "data": {
            "image/png": "[encoded data removed]",
            "text/plain": [
              "<Figure size 720x432 with 1 Axes>"
            ]
          },
          "metadata": {
            "tags": []
          }
        }
      ]
    },
    {
      "cell_type": "code",
      "metadata": {
        "id": "Yi2HYfC_I1Wo",
        "colab_type": "code",
        "outputId": "bbee251b-f073-4e7e-ed15-6dd26ab5ea01",
        "colab": {
          "base_uri": "https://localhost:8080/",
          "height": 212
        }
      },
      "source": [
        "### 90-100 percentile\n",
        "for i in range(0,11):\n",
        "    print(90+i,'percentile value is',np.percentile(in_out_degree_sort,90+i))"
      ],
      "execution_count": 0,
      "outputs": [
        {
          "output_type": "stream",
          "text": [
            "90 percentile value is 24.0\n",
            "91 percentile value is 26.0\n",
            "92 percentile value is 28.0\n",
            "93 percentile value is 31.0\n",
            "94 percentile value is 33.0\n",
            "95 percentile value is 37.0\n",
            "96 percentile value is 41.0\n",
            "97 percentile value is 48.0\n",
            "98 percentile value is 58.0\n",
            "99 percentile value is 79.0\n",
            "100 percentile value is 1579.0\n"
          ],
          "name": "stdout"
        }
      ]
    },
    {
      "cell_type": "code",
      "metadata": {
        "id": "jCmEE4zdI1Wv",
        "colab_type": "code",
        "outputId": "a83f21f2-bb7f-4a08-e8b0-aaf919f7b231",
        "colab": {
          "base_uri": "https://localhost:8080/",
          "height": 194
        }
      },
      "source": [
        "### 99-100 percentile\n",
        "for i in range(10,110,10):\n",
        "    print(99+(i/100),'percentile value is',np.percentile(in_out_degree_sort,99+(i/100)))"
      ],
      "execution_count": 0,
      "outputs": [
        {
          "output_type": "stream",
          "text": [
            "99.1 percentile value is 83.0\n",
            "99.2 percentile value is 87.0\n",
            "99.3 percentile value is 93.0\n",
            "99.4 percentile value is 99.0\n",
            "99.5 percentile value is 108.0\n",
            "99.6 percentile value is 120.0\n",
            "99.7 percentile value is 138.0\n",
            "99.8 percentile value is 168.0\n",
            "99.9 percentile value is 221.0\n",
            "100.0 percentile value is 1579.0\n"
          ],
          "name": "stdout"
        }
      ]
    },
    {
      "cell_type": "code",
      "metadata": {
        "id": "9SOHVUVlI1W5",
        "colab_type": "code",
        "outputId": "7aa5f102-d946-45b8-a03e-e7ab7e33d306",
        "colab": {
          "base_uri": "https://localhost:8080/",
          "height": 34
        }
      },
      "source": [
        "len(in_out_degree==in_out_degree.min())"
      ],
      "execution_count": 0,
      "outputs": [
        {
          "output_type": "execute_result",
          "data": {
            "text/plain": [
              "1862220"
            ]
          },
          "metadata": {
            "tags": []
          },
          "execution_count": 32
        }
      ]
    },
    {
      "cell_type": "code",
      "metadata": {
        "id": "BYdNnDAMI1XB",
        "colab_type": "code",
        "outputId": "0e34efbc-fd8a-4e8c-9231-d5fa5dbc9227",
        "colab": {
          "base_uri": "https://localhost:8080/",
          "height": 52
        }
      },
      "source": [
        "print('Min of no of followers + following is',in_out_degree.min())\n",
        "print(np.sum(in_out_degree==in_out_degree.min()),' persons having minimum no of followers + following')"
      ],
      "execution_count": 0,
      "outputs": [
        {
          "output_type": "stream",
          "text": [
            "Min of no of followers + following is 1\n",
            "334291  persons having minimum no of followers + following\n"
          ],
          "name": "stdout"
        }
      ]
    },
    {
      "cell_type": "code",
      "metadata": {
        "id": "R_VbQ0d4I1XI",
        "colab_type": "code",
        "outputId": "3837740b-fe9c-4ce7-8307-c2fb6b603ff1",
        "colab": {
          "base_uri": "https://localhost:8080/",
          "height": 52
        }
      },
      "source": [
        "print('Max of no of followers + following is',in_out_degree.max())\n",
        "print(np.sum(in_out_degree==in_out_degree.max()),' persons having maximum no of followers + following')"
      ],
      "execution_count": 0,
      "outputs": [
        {
          "output_type": "stream",
          "text": [
            "Max of no of followers + following is 1579\n",
            "1  persons having maximum no of followers + following\n"
          ],
          "name": "stdout"
        }
      ]
    },
    {
      "cell_type": "code",
      "metadata": {
        "id": "-LMrdT8ZI1XT",
        "colab_type": "code",
        "outputId": "da05c9ce-e734-4a20-f859-02bc3080a47f",
        "colab": {
          "base_uri": "https://localhost:8080/",
          "height": 52
        }
      },
      "source": [
        "(in_out_degree[:10]<10)"
      ],
      "execution_count": 0,
      "outputs": [
        {
          "output_type": "execute_result",
          "data": {
            "text/plain": [
              "array([ True, False, False,  True, False, False, False, False, False,\n",
              "       False])"
            ]
          },
          "metadata": {
            "tags": []
          },
          "execution_count": 35
        }
      ]
    },
    {
      "cell_type": "code",
      "metadata": {
        "id": "5RRhVmZPI1Xc",
        "colab_type": "code",
        "outputId": "a4ce8bac-cae7-4f3d-c4fa-40510e2d05ac",
        "colab": {
          "base_uri": "https://localhost:8080/",
          "height": 34
        }
      },
      "source": [
        "print('No of persons having followers + following less than 10 are',np.sum(in_out_degree<10))"
      ],
      "execution_count": 0,
      "outputs": [
        {
          "output_type": "stream",
          "text": [
            "No of persons having followers + following less than 10 are 1320326\n"
          ],
          "name": "stdout"
        }
      ]
    },
    {
      "cell_type": "code",
      "metadata": {
        "id": "MVxAAIuCI1Xk",
        "colab_type": "code",
        "outputId": "ff2c86ff-fb21-414d-96e3-e18714fcdebe",
        "colab": {
          "base_uri": "https://localhost:8080/",
          "height": 52
        }
      },
      "source": [
        "print('No of weakly connected components',len(list(nx.weakly_connected_components(g))))\n",
        "count=0\n",
        "for i in list(nx.weakly_connected_components(g)):\n",
        "    if len(i)==2:\n",
        "        count+=1\n",
        "print('weakly connected components wit 2 nodes',count)"
      ],
      "execution_count": 0,
      "outputs": [
        {
          "output_type": "stream",
          "text": [
            "No of weakly connected components 45558\n",
            "weakly connected components wit 2 nodes 32195\n"
          ],
          "name": "stdout"
        }
      ]
    },
    {
      "cell_type": "markdown",
      "metadata": {
        "id": "O0-DmXBjI1Xr",
        "colab_type": "text"
      },
      "source": [
        "# 2. Posing a problem as classification problem "
      ]
    },
    {
      "cell_type": "markdown",
      "metadata": {
        "id": "CPyin0IwI1Xs",
        "colab_type": "text"
      },
      "source": [
        "## 2.1 Generating some edges which are not present in graph for supervised learning  \n",
        "Generated Bad links from graph which are not in graph and whose shortest path is greater than 2. "
      ]
    },
    {
      "cell_type": "code",
      "metadata": {
        "id": "_C4xbuvPI1Xw",
        "colab_type": "code",
        "outputId": "493765e3-e367-4a92-a74d-597cf52abcce",
        "colab": {
          "base_uri": "https://localhost:8080/",
          "height": 1000
        }
      },
      "source": [
        "r = csv.reader(open('drive/My Drive/Facebook/data/after_eda/train_woheader.csv','r'))\n",
        "edges = dict()\n",
        "for edge in r:\n",
        "    edges[(edge[0], edge[1])] = 1\n",
        "edges"
      ],
      "execution_count": 0,
      "outputs": [
        {
          "output_type": "execute_result",
          "data": {
            "text/plain": [
              "{('1', '690569'): 1,\n",
              " ('1', '315892'): 1,\n",
              " ('1', '189226'): 1,\n",
              " ('2', '834328'): 1,\n",
              " ('2', '1615927'): 1,\n",
              " ('2', '1194519'): 1,\n",
              " ('2', '470294'): 1,\n",
              " ('2', '961886'): 1,\n",
              " ('2', '626040'): 1,\n",
              " ('3', '176995'): 1,\n",
              " ('3', '624722'): 1,\n",
              " ('3', '412447'): 1,\n",
              " ('3', '1263124'): 1,\n",
              " ('3', '278432'): 1,\n",
              " ('3', '539336'): 1,\n",
              " ('4', '6271'): 1,\n",
              " ('4', '1859286'): 1,\n",
              " ('5', '1646876'): 1,\n",
              " ('5', '677005'): 1,\n",
              " ('6', '1576703'): 1,\n",
              " ('7', '1760879'): 1,\n",
              " ('7', '80397'): 1,\n",
              " ('7', '778186'): 1,\n",
              " ('8', '772194'): 1,\n",
              " ('9', '296377'): 1,\n",
              " ('9', '1657609'): 1,\n",
              " ('10', '31186'): 1,\n",
              " ('11', '572660'): 1,\n",
              " ('12', '1244587'): 1,\n",
              " ('12', '456253'): 1,\n",
              " ('12', '708009'): 1,\n",
              " ('13', '206036'): 1,\n",
              " ('13', '1244435'): 1,\n",
              " ('13', '28583'): 1,\n",
              " ('13', '1771842'): 1,\n",
              " ('13', '1589497'): 1,\n",
              " ('13', '731455'): 1,\n",
              " ('13', '328678'): 1,\n",
              " ('13', '1324981'): 1,\n",
              " ('13', '431522'): 1,\n",
              " ('13', '531778'): 1,\n",
              " ('13', '680313'): 1,\n",
              " ('13', '37329'): 1,\n",
              " ('14', '382658'): 1,\n",
              " ('15', '7462'): 1,\n",
              " ('18', '619456'): 1,\n",
              " ('18', '316287'): 1,\n",
              " ('18', '795106'): 1,\n",
              " ('18', '578933'): 1,\n",
              " ('18', '1246523'): 1,\n",
              " ('18', '1323975'): 1,\n",
              " ('18', '984426'): 1,\n",
              " ('18', '1003537'): 1,\n",
              " ('18', '1468933'): 1,\n",
              " ('18', '1688534'): 1,\n",
              " ('18', '1269182'): 1,\n",
              " ('18', '1753748'): 1,\n",
              " ('18', '248374'): 1,\n",
              " ('18', '1377966'): 1,\n",
              " ('18', '78146'): 1,\n",
              " ('19', '254810'): 1,\n",
              " ('19', '860701'): 1,\n",
              " ('19', '1205150'): 1,\n",
              " ('19', '220385'): 1,\n",
              " ('19', '401594'): 1,\n",
              " ('20', '493028'): 1,\n",
              " ('21', '212060'): 1,\n",
              " ('22', '57396'): 1,\n",
              " ('24', '322832'): 1,\n",
              " ('24', '423929'): 1,\n",
              " ('24', '1435'): 1,\n",
              " ('24', '1310872'): 1,\n",
              " ('25', '721394'): 1,\n",
              " ('25', '899566'): 1,\n",
              " ('25', '604764'): 1,\n",
              " ('25', '1465410'): 1,\n",
              " ('25', '1068517'): 1,\n",
              " ('25', '138314'): 1,\n",
              " ('25', '1094367'): 1,\n",
              " ('25', '422912'): 1,\n",
              " ('25', '788104'): 1,\n",
              " ('25', '992602'): 1,\n",
              " ('25', '942867'): 1,\n",
              " ('25', '1030016'): 1,\n",
              " ('25', '1526567'): 1,\n",
              " ('25', '95722'): 1,\n",
              " ('25', '1860295'): 1,\n",
              " ('25', '499524'): 1,\n",
              " ('25', '730230'): 1,\n",
              " ('25', '177460'): 1,\n",
              " ('25', '1199618'): 1,\n",
              " ('25', '1229587'): 1,\n",
              " ('25', '4067'): 1,\n",
              " ('25', '1098536'): 1,\n",
              " ('25', '1200994'): 1,\n",
              " ('25', '210114'): 1,\n",
              " ('25', '1593893'): 1,\n",
              " ('25', '1634916'): 1,\n",
              " ('25', '1130945'): 1,\n",
              " ('25', '958524'): 1,\n",
              " ('25', '1625018'): 1,\n",
              " ('25', '396162'): 1,\n",
              " ('26', '803083'): 1,\n",
              " ('27', '1662028'): 1,\n",
              " ('28', '1682122'): 1,\n",
              " ('29', '720972'): 1,\n",
              " ('30', '917075'): 1,\n",
              " ('31', '679692'): 1,\n",
              " ('31', '742710'): 1,\n",
              " ('31', '538636'): 1,\n",
              " ('31', '577282'): 1,\n",
              " ('32', '1324739'): 1,\n",
              " ('32', '214896'): 1,\n",
              " ('32', '1116131'): 1,\n",
              " ('33', '700696'): 1,\n",
              " ('33', '1593284'): 1,\n",
              " ('34', '1518929'): 1,\n",
              " ('34', '1125104'): 1,\n",
              " ('36', '881549'): 1,\n",
              " ('36', '1242489'): 1,\n",
              " ('37', '575581'): 1,\n",
              " ('37', '743846'): 1,\n",
              " ('37', '874856'): 1,\n",
              " ('38', '1084554'): 1,\n",
              " ('38', '926898'): 1,\n",
              " ('38', '27623'): 1,\n",
              " ('38', '389596'): 1,\n",
              " ('38', '1125093'): 1,\n",
              " ('38', '811551'): 1,\n",
              " ('38', '1070165'): 1,\n",
              " ('38', '384225'): 1,\n",
              " ('39', '1652563'): 1,\n",
              " ('40', '1273789'): 1,\n",
              " ('41', '1229344'): 1,\n",
              " ('42', '186751'): 1,\n",
              " ('43', '406191'): 1,\n",
              " ('44', '899392'): 1,\n",
              " ('44', '81763'): 1,\n",
              " ('44', '826890'): 1,\n",
              " ('44', '611366'): 1,\n",
              " ('44', '1244292'): 1,\n",
              " ('45', '1844351'): 1,\n",
              " ('47', '1028853'): 1,\n",
              " ('49', '1854076'): 1,\n",
              " ('49', '1053836'): 1,\n",
              " ('49', '450855'): 1,\n",
              " ('49', '527674'): 1,\n",
              " ('49', '1206006'): 1,\n",
              " ('49', '1819413'): 1,\n",
              " ('49', '306893'): 1,\n",
              " ('49', '1315486'): 1,\n",
              " ('49', '1186111'): 1,\n",
              " ('50', '1065918'): 1,\n",
              " ('50', '1566117'): 1,\n",
              " ('51', '694124'): 1,\n",
              " ('51', '262606'): 1,\n",
              " ('51', '1060463'): 1,\n",
              " ('52', '1524285'): 1,\n",
              " ('53', '175439'): 1,\n",
              " ('53', '1134531'): 1,\n",
              " ('53', '989733'): 1,\n",
              " ('53', '1159365'): 1,\n",
              " ('53', '1066109'): 1,\n",
              " ('53', '321039'): 1,\n",
              " ('53', '1141033'): 1,\n",
              " ('53', '204553'): 1,\n",
              " ('53', '1364025'): 1,\n",
              " ('53', '813204'): 1,\n",
              " ('53', '528206'): 1,\n",
              " ('53', '1611430'): 1,\n",
              " ('53', '482808'): 1,\n",
              " ('53', '1386771'): 1,\n",
              " ('53', '1711782'): 1,\n",
              " ('53', '1007233'): 1,\n",
              " ('54', '946584'): 1,\n",
              " ('54', '867555'): 1,\n",
              " ('54', '1757684'): 1,\n",
              " ('54', '237014'): 1,\n",
              " ('54', '127561'): 1,\n",
              " ('54', '766708'): 1,\n",
              " ('54', '978393'): 1,\n",
              " ('54', '1844797'): 1,\n",
              " ('54', '1834300'): 1,\n",
              " ('54', '494483'): 1,\n",
              " ('54', '1101058'): 1,\n",
              " ('54', '761994'): 1,\n",
              " ('54', '679014'): 1,\n",
              " ('54', '609116'): 1,\n",
              " ('54', '577031'): 1,\n",
              " ('54', '1786857'): 1,\n",
              " ('54', '1194176'): 1,\n",
              " ('54', '1130353'): 1,\n",
              " ('54', '444771'): 1,\n",
              " ('54', '1336174'): 1,\n",
              " ('54', '230597'): 1,\n",
              " ('55', '279010'): 1,\n",
              " ('55', '1007648'): 1,\n",
              " ('55', '13589'): 1,\n",
              " ('56', '1707687'): 1,\n",
              " ('56', '1429792'): 1,\n",
              " ('57', '373871'): 1,\n",
              " ('58', '916140'): 1,\n",
              " ('59', '1389095'): 1,\n",
              " ('59', '1778028'): 1,\n",
              " ('60', '83366'): 1,\n",
              " ('60', '878202'): 1,\n",
              " ('60', '1168174'): 1,\n",
              " ('60', '296792'): 1,\n",
              " ('61', '1685730'): 1,\n",
              " ('61', '871534'): 1,\n",
              " ('61', '1705344'): 1,\n",
              " ('61', '208925'): 1,\n",
              " ('61', '1737228'): 1,\n",
              " ('61', '1031786'): 1,\n",
              " ('61', '1286823'): 1,\n",
              " ('61', '260181'): 1,\n",
              " ('61', '1408376'): 1,\n",
              " ('61', '803963'): 1,\n",
              " ('61', '1483341'): 1,\n",
              " ('61', '1499185'): 1,\n",
              " ('61', '122289'): 1,\n",
              " ('61', '1473016'): 1,\n",
              " ('61', '1740009'): 1,\n",
              " ('61', '89946'): 1,\n",
              " ('61', '817445'): 1,\n",
              " ('62', '1822914'): 1,\n",
              " ('62', '1601368'): 1,\n",
              " ('62', '402932'): 1,\n",
              " ('63', '268939'): 1,\n",
              " ('63', '1788531'): 1,\n",
              " ('63', '1630186'): 1,\n",
              " ('63', '1330009'): 1,\n",
              " ('63', '1765456'): 1,\n",
              " ('63', '1382381'): 1,\n",
              " ('63', '758777'): 1,\n",
              " ('63', '258969'): 1,\n",
              " ('63', '1732515'): 1,\n",
              " ('63', '732009'): 1,\n",
              " ('63', '1168913'): 1,\n",
              " ('63', '259286'): 1,\n",
              " ('64', '1709106'): 1,\n",
              " ('64', '1313246'): 1,\n",
              " ('64', '947828'): 1,\n",
              " ('65', '602159'): 1,\n",
              " ('65', '1812382'): 1,\n",
              " ('65', '171318'): 1,\n",
              " ('65', '442729'): 1,\n",
              " ('65', '76799'): 1,\n",
              " ('65', '1705481'): 1,\n",
              " ('65', '1119900'): 1,\n",
              " ('65', '1156069'): 1,\n",
              " ('65', '880042'): 1,\n",
              " ('65', '1673827'): 1,\n",
              " ('65', '1454964'): 1,\n",
              " ('65', '341285'): 1,\n",
              " ('65', '1405545'): 1,\n",
              " ('65', '557790'): 1,\n",
              " ('65', '1774222'): 1,\n",
              " ('65', '717601'): 1,\n",
              " ('66', '1741841'): 1,\n",
              " ('66', '1672048'): 1,\n",
              " ('67', '566600'): 1,\n",
              " ('67', '451245'): 1,\n",
              " ('67', '1541531'): 1,\n",
              " ('68', '1752782'): 1,\n",
              " ('68', '1045772'): 1,\n",
              " ('69', '131924'): 1,\n",
              " ('70', '871386'): 1,\n",
              " ('71', '746824'): 1,\n",
              " ('71', '1854232'): 1,\n",
              " ('71', '1575746'): 1,\n",
              " ('71', '1315204'): 1,\n",
              " ('71', '1674297'): 1,\n",
              " ('71', '1300876'): 1,\n",
              " ('71', '1105698'): 1,\n",
              " ('72', '1756934'): 1,\n",
              " ('73', '611306'): 1,\n",
              " ('73', '489181'): 1,\n",
              " ('73', '217164'): 1,\n",
              " ('73', '471806'): 1,\n",
              " ('73', '202447'): 1,\n",
              " ('74', '1061504'): 1,\n",
              " ('74', '1434864'): 1,\n",
              " ('74', '1709589'): 1,\n",
              " ('74', '1704181'): 1,\n",
              " ('74', '370494'): 1,\n",
              " ('74', '237909'): 1,\n",
              " ('74', '720583'): 1,\n",
              " ('74', '1400239'): 1,\n",
              " ('74', '142356'): 1,\n",
              " ('74', '1576900'): 1,\n",
              " ('74', '1481411'): 1,\n",
              " ('75', '1145079'): 1,\n",
              " ('75', '1247899'): 1,\n",
              " ('75', '512330'): 1,\n",
              " ('75', '1102064'): 1,\n",
              " ('75', '56206'): 1,\n",
              " ('75', '13121'): 1,\n",
              " ('76', '1183714'): 1,\n",
              " ('78', '1400162'): 1,\n",
              " ('79', '1595558'): 1,\n",
              " ('79', '419087'): 1,\n",
              " ('79', '1181051'): 1,\n",
              " ('79', '459884'): 1,\n",
              " ('79', '1716876'): 1,\n",
              " ('79', '253105'): 1,\n",
              " ('79', '792819'): 1,\n",
              " ('79', '973169'): 1,\n",
              " ('79', '348828'): 1,\n",
              " ('79', '1444240'): 1,\n",
              " ('79', '609109'): 1,\n",
              " ('79', '783907'): 1,\n",
              " ('79', '906140'): 1,\n",
              " ('79', '1041727'): 1,\n",
              " ('79', '756378'): 1,\n",
              " ('80', '361048'): 1,\n",
              " ('81', '1022657'): 1,\n",
              " ('81', '997656'): 1,\n",
              " ('81', '380597'): 1,\n",
              " ('81', '1698750'): 1,\n",
              " ('81', '1738080'): 1,\n",
              " ('81', '1490625'): 1,\n",
              " ('81', '869268'): 1,\n",
              " ('81', '719978'): 1,\n",
              " ('81', '711543'): 1,\n",
              " ('81', '167186'): 1,\n",
              " ('81', '276421'): 1,\n",
              " ('81', '98471'): 1,\n",
              " ('81', '980119'): 1,\n",
              " ('81', '1813867'): 1,\n",
              " ('81', '1398225'): 1,\n",
              " ('81', '1600230'): 1,\n",
              " ('82', '611092'): 1,\n",
              " ('82', '112566'): 1,\n",
              " ('82', '288597'): 1,\n",
              " ('83', '1521498'): 1,\n",
              " ('83', '19406'): 1,\n",
              " ('83', '1768082'): 1,\n",
              " ('83', '1711525'): 1,\n",
              " ('84', '628304'): 1,\n",
              " ('84', '1831501'): 1,\n",
              " ('84', '495318'): 1,\n",
              " ('84', '344428'): 1,\n",
              " ('84', '219656'): 1,\n",
              " ('84', '1812006'): 1,\n",
              " ('84', '489480'): 1,\n",
              " ('84', '1182549'): 1,\n",
              " ('84', '946366'): 1,\n",
              " ('84', '164496'): 1,\n",
              " ('84', '941898'): 1,\n",
              " ('84', '447831'): 1,\n",
              " ('84', '1362510'): 1,\n",
              " ('84', '1354719'): 1,\n",
              " ('84', '1498955'): 1,\n",
              " ('84', '1125968'): 1,\n",
              " ('84', '244887'): 1,\n",
              " ('84', '636422'): 1,\n",
              " ('84', '751223'): 1,\n",
              " ('84', '1354664'): 1,\n",
              " ('84', '597299'): 1,\n",
              " ('86', '907649'): 1,\n",
              " ('87', '1194997'): 1,\n",
              " ('87', '1003093'): 1,\n",
              " ('87', '109627'): 1,\n",
              " ('87', '1854354'): 1,\n",
              " ('87', '454942'): 1,\n",
              " ('87', '521421'): 1,\n",
              " ('87', '1159153'): 1,\n",
              " ('87', '508650'): 1,\n",
              " ('87', '231172'): 1,\n",
              " ('87', '1234791'): 1,\n",
              " ('87', '441051'): 1,\n",
              " ('87', '3347'): 1,\n",
              " ('87', '295799'): 1,\n",
              " ('87', '80780'): 1,\n",
              " ('87', '1184475'): 1,\n",
              " ('88', '201540'): 1,\n",
              " ('89', '948959'): 1,\n",
              " ('89', '878526'): 1,\n",
              " ('89', '1755151'): 1,\n",
              " ('89', '1820119'): 1,\n",
              " ('89', '412572'): 1,\n",
              " ('89', '436243'): 1,\n",
              " ('89', '1436178'): 1,\n",
              " ('89', '236707'): 1,\n",
              " ('89', '874621'): 1,\n",
              " ('89', '704901'): 1,\n",
              " ('89', '1024220'): 1,\n",
              " ('89', '627987'): 1,\n",
              " ('91', '800472'): 1,\n",
              " ('93', '232270'): 1,\n",
              " ('94', '1571211'): 1,\n",
              " ('94', '785283'): 1,\n",
              " ('95', '236966'): 1,\n",
              " ('96', '453195'): 1,\n",
              " ('98', '472174'): 1,\n",
              " ('98', '1144628'): 1,\n",
              " ('99', '237694'): 1,\n",
              " ('99', '1723995'): 1,\n",
              " ('99', '582267'): 1,\n",
              " ('101', '1058638'): 1,\n",
              " ('102', '124268'): 1,\n",
              " ('102', '429822'): 1,\n",
              " ('102', '837022'): 1,\n",
              " ('102', '531989'): 1,\n",
              " ('102', '793303'): 1,\n",
              " ('104', '644509'): 1,\n",
              " ('105', '1625115'): 1,\n",
              " ('105', '578479'): 1,\n",
              " ('105', '566519'): 1,\n",
              " ('105', '45974'): 1,\n",
              " ('105', '1154097'): 1,\n",
              " ('105', '1766921'): 1,\n",
              " ('105', '1407805'): 1,\n",
              " ('105', '1418762'): 1,\n",
              " ('105', '1391542'): 1,\n",
              " ('106', '266064'): 1,\n",
              " ('106', '1122174'): 1,\n",
              " ('106', '1784331'): 1,\n",
              " ('106', '1266933'): 1,\n",
              " ('106', '237219'): 1,\n",
              " ('107', '615816'): 1,\n",
              " ('107', '1321486'): 1,\n",
              " ('107', '933251'): 1,\n",
              " ('107', '486260'): 1,\n",
              " ('108', '358350'): 1,\n",
              " ('109', '1003858'): 1,\n",
              " ('110', '412863'): 1,\n",
              " ('111', '184581'): 1,\n",
              " ('111', '1519665'): 1,\n",
              " ('111', '297069'): 1,\n",
              " ('111', '1276690'): 1,\n",
              " ('111', '1390248'): 1,\n",
              " ('111', '1226594'): 1,\n",
              " ('111', '1850951'): 1,\n",
              " ('111', '1723555'): 1,\n",
              " ('111', '1178224'): 1,\n",
              " ('111', '1847174'): 1,\n",
              " ('111', '468743'): 1,\n",
              " ('111', '524048'): 1,\n",
              " ('111', '233077'): 1,\n",
              " ('111', '1724509'): 1,\n",
              " ('111', '1861931'): 1,\n",
              " ('111', '1121338'): 1,\n",
              " ('111', '1382582'): 1,\n",
              " ('111', '1384121'): 1,\n",
              " ('111', '806470'): 1,\n",
              " ('111', '1233289'): 1,\n",
              " ('111', '1775946'): 1,\n",
              " ('111', '1850147'): 1,\n",
              " ('111', '648943'): 1,\n",
              " ('111', '1273025'): 1,\n",
              " ('111', '671541'): 1,\n",
              " ('111', '747365'): 1,\n",
              " ('111', '175669'): 1,\n",
              " ('112', '675562'): 1,\n",
              " ('112', '821470'): 1,\n",
              " ('113', '547644'): 1,\n",
              " ('115', '1270945'): 1,\n",
              " ('116', '1394223'): 1,\n",
              " ('117', '245746'): 1,\n",
              " ('117', '1315537'): 1,\n",
              " ('117', '323398'): 1,\n",
              " ('117', '259972'): 1,\n",
              " ('117', '1618429'): 1,\n",
              " ('117', '296239'): 1,\n",
              " ('117', '981622'): 1,\n",
              " ('117', '1452096'): 1,\n",
              " ('117', '185553'): 1,\n",
              " ('117', '416110'): 1,\n",
              " ('117', '1082885'): 1,\n",
              " ('117', '1519107'): 1,\n",
              " ('117', '1405921'): 1,\n",
              " ('118', '146690'): 1,\n",
              " ('118', '707932'): 1,\n",
              " ('119', '1495706'): 1,\n",
              " ('119', '255000'): 1,\n",
              " ('119', '852555'): 1,\n",
              " ('119', '809936'): 1,\n",
              " ('119', '875039'): 1,\n",
              " ('119', '93610'): 1,\n",
              " ('119', '86004'): 1,\n",
              " ('119', '779396'): 1,\n",
              " ('119', '327613'): 1,\n",
              " ('119', '1293375'): 1,\n",
              " ('119', '261599'): 1,\n",
              " ('120', '862294'): 1,\n",
              " ('121', '103376'): 1,\n",
              " ('121', '487812'): 1,\n",
              " ('121', '385535'): 1,\n",
              " ('121', '508962'): 1,\n",
              " ('122', '1739931'): 1,\n",
              " ('122', '862700'): 1,\n",
              " ('122', '1405347'): 1,\n",
              " ('122', '1500867'): 1,\n",
              " ('122', '1171449'): 1,\n",
              " ('122', '581797'): 1,\n",
              " ('122', '252892'): 1,\n",
              " ('122', '1049126'): 1,\n",
              " ('122', '1638581'): 1,\n",
              " ('122', '1586443'): 1,\n",
              " ('122', '1687614'): 1,\n",
              " ('122', '1502201'): 1,\n",
              " ('122', '113017'): 1,\n",
              " ('122', '1032567'): 1,\n",
              " ('122', '603098'): 1,\n",
              " ('122', '1601261'): 1,\n",
              " ('122', '1789585'): 1,\n",
              " ('122', '1757805'): 1,\n",
              " ('122', '922781'): 1,\n",
              " ('122', '721778'): 1,\n",
              " ('122', '1646238'): 1,\n",
              " ('122', '1163641'): 1,\n",
              " ('122', '1418295'): 1,\n",
              " ('123', '525674'): 1,\n",
              " ('125', '1254433'): 1,\n",
              " ('125', '30404'): 1,\n",
              " ('125', '1171122'): 1,\n",
              " ('125', '344575'): 1,\n",
              " ('125', '652927'): 1,\n",
              " ('125', '666374'): 1,\n",
              " ('125', '671301'): 1,\n",
              " ('125', '1824545'): 1,\n",
              " ('125', '199458'): 1,\n",
              " ('125', '1608293'): 1,\n",
              " ('125', '1304583'): 1,\n",
              " ('125', '134946'): 1,\n",
              " ('126', '193651'): 1,\n",
              " ('127', '580880'): 1,\n",
              " ('127', '880649'): 1,\n",
              " ('127', '1049839'): 1,\n",
              " ('127', '1612915'): 1,\n",
              " ('127', '1073850'): 1,\n",
              " ('127', '178165'): 1,\n",
              " ('128', '857471'): 1,\n",
              " ('130', '499097'): 1,\n",
              " ('130', '282933'): 1,\n",
              " ('130', '904365'): 1,\n",
              " ('130', '953250'): 1,\n",
              " ('130', '202772'): 1,\n",
              " ('130', '485035'): 1,\n",
              " ('130', '4072'): 1,\n",
              " ('130', '1570182'): 1,\n",
              " ('132', '1730988'): 1,\n",
              " ('132', '482928'): 1,\n",
              " ('132', '982571'): 1,\n",
              " ('133', '1210717'): 1,\n",
              " ('133', '1336080'): 1,\n",
              " ('133', '37527'): 1,\n",
              " ('133', '819390'): 1,\n",
              " ('133', '345681'): 1,\n",
              " ('133', '1101843'): 1,\n",
              " ('133', '1325424'): 1,\n",
              " ('135', '612535'): 1,\n",
              " ('135', '593597'): 1,\n",
              " ('135', '1166489'): 1,\n",
              " ('135', '1746180'): 1,\n",
              " ('135', '168795'): 1,\n",
              " ('135', '347708'): 1,\n",
              " ('135', '36562'): 1,\n",
              " ('135', '428269'): 1,\n",
              " ('135', '161908'): 1,\n",
              " ('135', '717660'): 1,\n",
              " ('135', '684382'): 1,\n",
              " ('135', '1146696'): 1,\n",
              " ('135', '1623787'): 1,\n",
              " ('135', '839774'): 1,\n",
              " ('135', '100378'): 1,\n",
              " ('135', '71740'): 1,\n",
              " ('135', '1498540'): 1,\n",
              " ('135', '808799'): 1,\n",
              " ('135', '1647182'): 1,\n",
              " ('135', '1578593'): 1,\n",
              " ('135', '1025388'): 1,\n",
              " ('135', '1769211'): 1,\n",
              " ('135', '956320'): 1,\n",
              " ('135', '1643728'): 1,\n",
              " ('135', '925682'): 1,\n",
              " ('135', '564165'): 1,\n",
              " ('135', '951962'): 1,\n",
              " ('135', '962111'): 1,\n",
              " ('135', '969308'): 1,\n",
              " ('135', '607835'): 1,\n",
              " ('135', '1832076'): 1,\n",
              " ('135', '508098'): 1,\n",
              " ('135', '1084361'): 1,\n",
              " ('135', '618863'): 1,\n",
              " ('135', '1646757'): 1,\n",
              " ('135', '1617835'): 1,\n",
              " ('135', '250674'): 1,\n",
              " ('135', '1465671'): 1,\n",
              " ('135', '491567'): 1,\n",
              " ('135', '740672'): 1,\n",
              " ('135', '1231569'): 1,\n",
              " ('135', '953125'): 1,\n",
              " ('135', '242147'): 1,\n",
              " ('135', '1835285'): 1,\n",
              " ('135', '1844669'): 1,\n",
              " ('135', '822004'): 1,\n",
              " ('135', '506857'): 1,\n",
              " ('136', '433374'): 1,\n",
              " ('136', '1527751'): 1,\n",
              " ('136', '1222229'): 1,\n",
              " ('136', '1541805'): 1,\n",
              " ('136', '1483192'): 1,\n",
              " ('136', '1721537'): 1,\n",
              " ('136', '61698'): 1,\n",
              " ('136', '1427267'): 1,\n",
              " ('136', '754689'): 1,\n",
              " ('136', '1146329'): 1,\n",
              " ('137', '1768787'): 1,\n",
              " ('138', '479543'): 1,\n",
              " ('138', '1007606'): 1,\n",
              " ('139', '1102059'): 1,\n",
              " ('139', '1364631'): 1,\n",
              " ('140', '1122310'): 1,\n",
              " ('140', '100170'): 1,\n",
              " ('140', '625577'): 1,\n",
              " ('141', '368227'): 1,\n",
              " ('142', '694465'): 1,\n",
              " ('142', '1068238'): 1,\n",
              " ('143', '1608536'): 1,\n",
              " ('143', '29868'): 1,\n",
              " ('143', '30678'): 1,\n",
              " ('143', '20832'): 1,\n",
              " ('143', '385744'): 1,\n",
              " ('143', '1003694'): 1,\n",
              " ('143', '1784446'): 1,\n",
              " ('143', '283299'): 1,\n",
              " ('143', '1579486'): 1,\n",
              " ('145', '1790320'): 1,\n",
              " ('146', '44123'): 1,\n",
              " ('146', '1804972'): 1,\n",
              " ('146', '882846'): 1,\n",
              " ('146', '1829224'): 1,\n",
              " ('147', '775423'): 1,\n",
              " ('147', '1065996'): 1,\n",
              " ('148', '1315276'): 1,\n",
              " ('148', '1165746'): 1,\n",
              " ('148', '143737'): 1,\n",
              " ('148', '1773940'): 1,\n",
              " ('148', '679568'): 1,\n",
              " ('149', '1165815'): 1,\n",
              " ('150', '1455822'): 1,\n",
              " ('151', '1741895'): 1,\n",
              " ('152', '1319086'): 1,\n",
              " ('152', '629024'): 1,\n",
              " ('152', '150431'): 1,\n",
              " ('152', '1760659'): 1,\n",
              " ('152', '1536764'): 1,\n",
              " ('152', '588919'): 1,\n",
              " ('152', '376997'): 1,\n",
              " ('152', '1675448'): 1,\n",
              " ('152', '936670'): 1,\n",
              " ('153', '527826'): 1,\n",
              " ('153', '166580'): 1,\n",
              " ('153', '626388'): 1,\n",
              " ('153', '1045001'): 1,\n",
              " ('154', '1273853'): 1,\n",
              " ('154', '962460'): 1,\n",
              " ('154', '93121'): 1,\n",
              " ('154', '1304780'): 1,\n",
              " ('154', '380280'): 1,\n",
              " ('154', '736969'): 1,\n",
              " ('154', '767212'): 1,\n",
              " ('154', '591467'): 1,\n",
              " ('154', '1857731'): 1,\n",
              " ('154', '27544'): 1,\n",
              " ('154', '1812401'): 1,\n",
              " ('154', '652098'): 1,\n",
              " ('154', '1823990'): 1,\n",
              " ('154', '813453'): 1,\n",
              " ('154', '1714716'): 1,\n",
              " ('154', '296977'): 1,\n",
              " ('154', '1739769'): 1,\n",
              " ('154', '248243'): 1,\n",
              " ('154', '1359304'): 1,\n",
              " ('154', '280203'): 1,\n",
              " ('154', '26862'): 1,\n",
              " ('154', '496603'): 1,\n",
              " ('154', '1030041'): 1,\n",
              " ('154', '1088677'): 1,\n",
              " ('154', '371906'): 1,\n",
              " ('154', '745099'): 1,\n",
              " ('154', '1269699'): 1,\n",
              " ('154', '1622333'): 1,\n",
              " ('154', '1534571'): 1,\n",
              " ('154', '830762'): 1,\n",
              " ('154', '667918'): 1,\n",
              " ('154', '234148'): 1,\n",
              " ('154', '1692748'): 1,\n",
              " ('154', '1271971'): 1,\n",
              " ('154', '908717'): 1,\n",
              " ('154', '505050'): 1,\n",
              " ('154', '1081991'): 1,\n",
              " ('155', '611954'): 1,\n",
              " ('155', '990325'): 1,\n",
              " ('155', '1594405'): 1,\n",
              " ('155', '391505'): 1,\n",
              " ('155', '1259916'): 1,\n",
              " ('155', '50571'): 1,\n",
              " ('156', '332995'): 1,\n",
              " ('156', '1474531'): 1,\n",
              " ('156', '1709921'): 1,\n",
              " ('156', '1118944'): 1,\n",
              " ('156', '1164808'): 1,\n",
              " ('156', '1365638'): 1,\n",
              " ('157', '1110246'): 1,\n",
              " ('159', '217322'): 1,\n",
              " ('160', '873150'): 1,\n",
              " ('160', '504273'): 1,\n",
              " ('160', '935558'): 1,\n",
              " ('160', '1080124'): 1,\n",
              " ('160', '1065503'): 1,\n",
              " ('160', '1223149'): 1,\n",
              " ('161', '612043'): 1,\n",
              " ('161', '1542729'): 1,\n",
              " ('163', '1579539'): 1,\n",
              " ('163', '1614761'): 1,\n",
              " ('163', '1772229'): 1,\n",
              " ('163', '1746941'): 1,\n",
              " ('163', '742658'): 1,\n",
              " ('163', '928359'): 1,\n",
              " ('163', '705565'): 1,\n",
              " ('163', '1533384'): 1,\n",
              " ('163', '315604'): 1,\n",
              " ('163', '810753'): 1,\n",
              " ('163', '1294153'): 1,\n",
              " ('164', '1478790'): 1,\n",
              " ('164', '1188073'): 1,\n",
              " ('164', '1847742'): 1,\n",
              " ('165', '139728'): 1,\n",
              " ('166', '1281467'): 1,\n",
              " ('166', '536060'): 1,\n",
              " ('166', '663272'): 1,\n",
              " ('167', '597139'): 1,\n",
              " ('168', '952523'): 1,\n",
              " ('168', '1063176'): 1,\n",
              " ('168', '204709'): 1,\n",
              " ('168', '942370'): 1,\n",
              " ('168', '1608317'): 1,\n",
              " ('168', '1149931'): 1,\n",
              " ('168', '1166908'): 1,\n",
              " ('170', '930854'): 1,\n",
              " ('170', '177989'): 1,\n",
              " ('170', '789700'): 1,\n",
              " ('170', '1778092'): 1,\n",
              " ('170', '509793'): 1,\n",
              " ('170', '1861582'): 1,\n",
              " ('170', '1252327'): 1,\n",
              " ('170', '1672986'): 1,\n",
              " ('170', '705856'): 1,\n",
              " ('170', '676802'): 1,\n",
              " ('170', '545836'): 1,\n",
              " ('170', '358857'): 1,\n",
              " ('171', '652545'): 1,\n",
              " ('171', '495157'): 1,\n",
              " ('171', '956716'): 1,\n",
              " ('171', '1784396'): 1,\n",
              " ('171', '665233'): 1,\n",
              " ('171', '1773998'): 1,\n",
              " ('171', '124205'): 1,\n",
              " ('171', '1686016'): 1,\n",
              " ('171', '167372'): 1,\n",
              " ('171', '1072213'): 1,\n",
              " ('171', '1210546'): 1,\n",
              " ('171', '382635'): 1,\n",
              " ('171', '391144'): 1,\n",
              " ('171', '1405597'): 1,\n",
              " ('171', '1622184'): 1,\n",
              " ('171', '429565'): 1,\n",
              " ('171', '1262028'): 1,\n",
              " ('171', '651379'): 1,\n",
              " ('171', '1131806'): 1,\n",
              " ('171', '183303'): 1,\n",
              " ('171', '1730708'): 1,\n",
              " ('171', '255580'): 1,\n",
              " ('171', '597356'): 1,\n",
              " ('171', '1071272'): 1,\n",
              " ('171', '143917'): 1,\n",
              " ('171', '1170552'): 1,\n",
              " ('171', '1471278'): 1,\n",
              " ('171', '1756610'): 1,\n",
              " ('171', '127181'): 1,\n",
              " ('171', '1571476'): 1,\n",
              " ('171', '1267832'): 1,\n",
              " ('171', '1825254'): 1,\n",
              " ('171', '927274'): 1,\n",
              " ('171', '912681'): 1,\n",
              " ('171', '799586'): 1,\n",
              " ('171', '187805'): 1,\n",
              " ('171', '1400484'): 1,\n",
              " ('171', '864239'): 1,\n",
              " ('172', '4769'): 1,\n",
              " ('172', '906059'): 1,\n",
              " ('172', '372997'): 1,\n",
              " ('172', '1208963'): 1,\n",
              " ('172', '346991'): 1,\n",
              " ('172', '1172153'): 1,\n",
              " ('172', '161309'): 1,\n",
              " ('172', '200086'): 1,\n",
              " ('172', '642842'): 1,\n",
              " ('172', '153393'): 1,\n",
              " ('172', '625473'): 1,\n",
              " ('172', '1453902'): 1,\n",
              " ('172', '703254'): 1,\n",
              " ('172', '1591526'): 1,\n",
              " ('172', '94719'): 1,\n",
              " ('172', '1851039'): 1,\n",
              " ('172', '1556441'): 1,\n",
              " ('172', '1359168'): 1,\n",
              " ('172', '1233403'): 1,\n",
              " ('172', '891719'): 1,\n",
              " ('174', '1454201'): 1,\n",
              " ('175', '262454'): 1,\n",
              " ('175', '945369'): 1,\n",
              " ('175', '979716'): 1,\n",
              " ('176', '1410138'): 1,\n",
              " ('177', '1337513'): 1,\n",
              " ('178', '185820'): 1,\n",
              " ('178', '31865'): 1,\n",
              " ('178', '336157'): 1,\n",
              " ('179', '1483220'): 1,\n",
              " ('179', '271130'): 1,\n",
              " ('179', '1084031'): 1,\n",
              " ('179', '861489'): 1,\n",
              " ('179', '781383'): 1,\n",
              " ('179', '1228513'): 1,\n",
              " ('179', '1567328'): 1,\n",
              " ('179', '96588'): 1,\n",
              " ('179', '1497030'): 1,\n",
              " ('179', '462643'): 1,\n",
              " ('179', '330270'): 1,\n",
              " ('179', '1786977'): 1,\n",
              " ('179', '310769'): 1,\n",
              " ('179', '232801'): 1,\n",
              " ('179', '1503576'): 1,\n",
              " ('179', '486560'): 1,\n",
              " ('179', '707486'): 1,\n",
              " ('179', '934657'): 1,\n",
              " ('179', '529357'): 1,\n",
              " ('180', '1272584'): 1,\n",
              " ('181', '541439'): 1,\n",
              " ('181', '337912'): 1,\n",
              " ('181', '409469'): 1,\n",
              " ('181', '446899'): 1,\n",
              " ('181', '1673573'): 1,\n",
              " ('182', '24725'): 1,\n",
              " ('182', '1418688'): 1,\n",
              " ('183', '455180'): 1,\n",
              " ('185', '1357074'): 1,\n",
              " ('186', '1265993'): 1,\n",
              " ('186', '327167'): 1,\n",
              " ('186', '711951'): 1,\n",
              " ('186', '83430'): 1,\n",
              " ('186', '1442515'): 1,\n",
              " ('186', '311232'): 1,\n",
              " ('186', '974920'): 1,\n",
              " ('186', '699686'): 1,\n",
              " ('186', '236128'): 1,\n",
              " ('186', '388013'): 1,\n",
              " ('186', '1631284'): 1,\n",
              " ('186', '1458006'): 1,\n",
              " ('188', '153986'): 1,\n",
              " ('189', '1749543'): 1,\n",
              " ('190', '64429'): 1,\n",
              " ('190', '1048960'): 1,\n",
              " ('190', '526223'): 1,\n",
              " ('190', '1289987'): 1,\n",
              " ('190', '271006'): 1,\n",
              " ('190', '1285203'): 1,\n",
              " ('191', '683870'): 1,\n",
              " ('191', '585770'): 1,\n",
              " ('191', '1157784'): 1,\n",
              " ('191', '1414695'): 1,\n",
              " ('191', '572524'): 1,\n",
              " ('192', '1009108'): 1,\n",
              " ('192', '576042'): 1,\n",
              " ('192', '1193622'): 1,\n",
              " ('192', '1519661'): 1,\n",
              " ('192', '1032428'): 1,\n",
              " ('192', '1566459'): 1,\n",
              " ('192', '1152050'): 1,\n",
              " ('192', '1370403'): 1,\n",
              " ('192', '377436'): 1,\n",
              " ('192', '1725345'): 1,\n",
              " ('192', '395920'): 1,\n",
              " ('192', '1272965'): 1,\n",
              " ('192', '135660'): 1,\n",
              " ('192', '13971'): 1,\n",
              " ('192', '656285'): 1,\n",
              " ('192', '128661'): 1,\n",
              " ('192', '1466700'): 1,\n",
              " ('192', '1289600'): 1,\n",
              " ('192', '1524820'): 1,\n",
              " ('192', '144188'): 1,\n",
              " ('192', '1654697'): 1,\n",
              " ('193', '6569'): 1,\n",
              " ('193', '1677350'): 1,\n",
              " ('193', '1026303'): 1,\n",
              " ('193', '479169'): 1,\n",
              " ('193', '1611937'): 1,\n",
              " ('193', '1571677'): 1,\n",
              " ('193', '1153484'): 1,\n",
              " ('193', '704075'): 1,\n",
              " ('193', '781535'): 1,\n",
              " ('193', '659531'): 1,\n",
              " ('193', '1760872'): 1,\n",
              " ('194', '1561139'): 1,\n",
              " ('195', '316120'): 1,\n",
              " ('195', '667575'): 1,\n",
              " ('197', '1682373'): 1,\n",
              " ('197', '500407'): 1,\n",
              " ('197', '1125507'): 1,\n",
              " ('197', '1423204'): 1,\n",
              " ('197', '257310'): 1,\n",
              " ('197', '916907'): 1,\n",
              " ('198', '1186809'): 1,\n",
              " ('199', '157525'): 1,\n",
              " ('200', '860695'): 1,\n",
              " ('201', '625238'): 1,\n",
              " ('202', '684918'): 1,\n",
              " ('202', '1759109'): 1,\n",
              " ('202', '1127522'): 1,\n",
              " ('202', '427502'): 1,\n",
              " ('203', '1388870'): 1,\n",
              " ('203', '974831'): 1,\n",
              " ('203', '1628507'): 1,\n",
              " ('203', '252539'): 1,\n",
              " ('203', '917890'): 1,\n",
              " ('204', '119966'): 1,\n",
              " ('204', '541063'): 1,\n",
              " ('205', '1006837'): 1,\n",
              " ('205', '946356'): 1,\n",
              " ('205', '66945'): 1,\n",
              " ('205', '1469189'): 1,\n",
              " ('206', '964836'): 1,\n",
              " ('206', '1559022'): 1,\n",
              " ('206', '1353017'): 1,\n",
              " ('206', '1075632'): 1,\n",
              " ('206', '1467586'): 1,\n",
              " ('206', '1058463'): 1,\n",
              " ('206', '292683'): 1,\n",
              " ('207', '848686'): 1,\n",
              " ('207', '1468946'): 1,\n",
              " ('207', '1086203'): 1,\n",
              " ('207', '495569'): 1,\n",
              " ('207', '229654'): 1,\n",
              " ('207', '1668614'): 1,\n",
              " ('207', '55206'): 1,\n",
              " ('208', '779848'): 1,\n",
              " ('209', '1605441'): 1,\n",
              " ('209', '1680525'): 1,\n",
              " ('209', '766605'): 1,\n",
              " ('209', '1532595'): 1,\n",
              " ('209', '1677577'): 1,\n",
              " ('211', '479718'): 1,\n",
              " ('211', '771626'): 1,\n",
              " ('211', '854473'): 1,\n",
              " ('211', '888971'): 1,\n",
              " ('211', '1791428'): 1,\n",
              " ('211', '1376720'): 1,\n",
              " ('211', '1605669'): 1,\n",
              " ('211', '1562874'): 1,\n",
              " ('211', '319655'): 1,\n",
              " ('211', '1756947'): 1,\n",
              " ('212', '1145629'): 1,\n",
              " ('212', '791075'): 1,\n",
              " ('212', '404628'): 1,\n",
              " ('212', '137141'): 1,\n",
              " ('212', '1691472'): 1,\n",
              " ('213', '1650053'): 1,\n",
              " ('213', '1850048'): 1,\n",
              " ('213', '479034'): 1,\n",
              " ('213', '1365529'): 1,\n",
              " ('213', '1709815'): 1,\n",
              " ('214', '595373'): 1,\n",
              " ('214', '837744'): 1,\n",
              " ('214', '472064'): 1,\n",
              " ('214', '290758'): 1,\n",
              " ('214', '838744'): 1,\n",
              " ('214', '1383691'): 1,\n",
              " ('214', '23720'): 1,\n",
              " ('214', '929669'): 1,\n",
              " ('214', '271427'): 1,\n",
              " ('215', '1310257'): 1,\n",
              " ('216', '1780520'): 1,\n",
              " ('216', '29376'): 1,\n",
              " ('216', '1352408'): 1,\n",
              " ('216', '18447'): 1,\n",
              " ('216', '385559'): 1,\n",
              " ('216', '850654'): 1,\n",
              " ('216', '863514'): 1,\n",
              " ('216', '1239300'): 1,\n",
              " ('216', '995717'): 1,\n",
              " ('216', '1805592'): 1,\n",
              " ('216', '1216771'): 1,\n",
              " ('216', '1198938'): 1,\n",
              " ('216', '530173'): 1,\n",
              " ('216', '1287580'): 1,\n",
              " ...}"
            ]
          },
          "metadata": {
            "tags": []
          },
          "execution_count": 39
        }
      ]
    },
    {
      "cell_type": "code",
      "metadata": {
        "id": "616UYTnVI1X2",
        "colab_type": "code",
        "outputId": "48adbd5d-a932-4077-ae91-773e7f454064",
        "colab": {
          "base_uri": "https://localhost:8080/",
          "height": 52
        }
      },
      "source": [
        "%%time\n",
        "###generating bad edges from given graph\n",
        "import random\n",
        "if not os.path.isfile('drive/My Drive/Facebook/data/after_eda/missing_edges_final.p'):\n",
        "    #getting all set of edges\n",
        "    r = csv.reader(open('drive/My Drive/Facebook/data/after_eda/train_woheader.csv','r'))\n",
        "    edges = dict()\n",
        "    for edge in r:\n",
        "        edges[(edge[0], edge[1])] = 1\n",
        "        \n",
        "        \n",
        "    missing_edges = set([])\n",
        "    while (len(missing_edges)<9437519):\n",
        "        a=random.randint(1, 1862220)\n",
        "        b=random.randint(1, 1862220)\n",
        "        tmp = edges.get((a,b),-1)\n",
        "        if tmp == -1 and a!=b:\n",
        "            try:\n",
        "                if nx.shortest_path_length(g,source=a,target=b) > 2: \n",
        "\n",
        "                    missing_edges.add((a,b))\n",
        "                else:\n",
        "                    continue  \n",
        "            except:  \n",
        "                    missing_edges.add((a,b))              \n",
        "        else:\n",
        "            continue\n",
        "    pickle.dump(missing_edges,open('drive/My Drive/Facebook/data/after_eda/missing_edges_final.p','wb'))\n",
        "else:\n",
        "    missing_edges = pickle.load(open('drive/My Drive/Facebook/data/after_eda/missing_edges_final.p','rb'))"
      ],
      "execution_count": 0,
      "outputs": [
        {
          "output_type": "stream",
          "text": [
            "CPU times: user 2.75 s, sys: 1.14 s, total: 3.89 s\n",
            "Wall time: 4.18 s\n"
          ],
          "name": "stdout"
        }
      ]
    },
    {
      "cell_type": "code",
      "metadata": {
        "id": "HSuINHGjI1YD",
        "colab_type": "code",
        "outputId": "9d231864-cd2b-4fd3-a4ac-d4278deef53d",
        "colab": {
          "base_uri": "https://localhost:8080/",
          "height": 34
        }
      },
      "source": [
        "missing_edges = pickle.load(open('drive/My Drive/Facebook/data/after_eda/missing_edges_final.p','rb'))\n",
        "len(missing_edges)"
      ],
      "execution_count": 0,
      "outputs": [
        {
          "output_type": "execute_result",
          "data": {
            "text/plain": [
              "9437519"
            ]
          },
          "metadata": {
            "tags": []
          },
          "execution_count": 19
        }
      ]
    },
    {
      "cell_type": "markdown",
      "metadata": {
        "id": "4rO5fgPqI1YR",
        "colab_type": "text"
      },
      "source": [
        "## 2.2 Training and Test data split:  \n",
        "Removed edges from Graph and used as test data and after removing used that graph for creating features for Train and test data"
      ]
    },
    {
      "cell_type": "code",
      "metadata": {
        "id": "jRAN3tAiI1YV",
        "colab_type": "code",
        "colab": {}
      },
      "source": [
        "from sklearn.model_selection import train_test_split\n",
        "if (not os.path.isfile('drive/My Drive/Facebook/data/after_eda/train_pos_after_eda.csv')) and (not os.path.isfile('drive/My Drive/Facebook/data/after_eda/test_pos_after_eda.csv')):\n",
        "    #reading total data df\n",
        "    df_pos = pd.read_csv('drive/My Drive/Facebook/data/train.csv')\n",
        "    df_neg = pd.DataFrame(list(missing_edges), columns=['source_node', 'destination_node'])\n",
        "    \n",
        "    print(\"Number of nodes in the graph with edges\", df_pos.shape[0])\n",
        "    print(\"Number of nodes in the graph without edges\", df_neg.shape[0])\n",
        "    \n",
        "    #Trian test split \n",
        "    #Spiltted data into 80-20 \n",
        "    #positive links and negative links seperatly because we need positive training data only for creating graph \n",
        "    #and for feature generation\n",
        "    X_train_pos, X_test_pos, y_train_pos, y_test_pos  = train_test_split(df_pos,np.ones(len(df_pos)),test_size=0.2, random_state=9)\n",
        "    X_train_neg, X_test_neg, y_train_neg, y_test_neg  = train_test_split(df_neg,np.zeros(len(df_neg)),test_size=0.2, random_state=9)\n",
        "    \n",
        "    print('='*60)\n",
        "    print(\"Number of nodes in the train data graph with edges\", X_train_pos.shape[0],\"=\",y_train_pos.shape[0])\n",
        "    print(\"Number of nodes in the train data graph without edges\", X_train_neg.shape[0],\"=\", y_train_neg.shape[0])\n",
        "    print('='*60)\n",
        "    print(\"Number of nodes in the test data graph with edges\", X_test_pos.shape[0],\"=\",y_test_pos.shape[0])\n",
        "    print(\"Number of nodes in the test data graph without edges\", X_test_neg.shape[0],\"=\",y_test_neg.shape[0])\n",
        "\n",
        "    #removing header and saving\n",
        "    X_train_pos.to_csv('drive/My Drive/Facebook/data/after_eda/train_pos_after_eda.csv',header=False, index=False)\n",
        "    X_test_pos.to_csv('drive/My Drive/Facebook/data/after_eda/test_pos_after_eda.csv',header=False, index=False)\n",
        "    X_train_neg.to_csv('drive/My Drive/Facebook/data/after_eda/train_neg_after_eda.csv',header=False, index=False)\n",
        "    X_test_neg.to_csv('drive/My Drive/Facebook/data/after_eda/test_neg_after_eda.csv',header=False, index=False)\n",
        "else:\n",
        "    #Graph from Traing data only \n",
        "    del missing_edges"
      ],
      "execution_count": 0,
      "outputs": []
    },
    {
      "cell_type": "code",
      "metadata": {
        "id": "34ClCdEtI1Ye",
        "colab_type": "code",
        "outputId": "6d561dfa-ab0f-4337-f0e8-f6f4f28a1858",
        "colab": {
          "base_uri": "https://localhost:8080/",
          "height": 301
        }
      },
      "source": [
        "if (os.path.isfile('drive/My Drive/Facebook/data/after_eda/train_pos_after_eda.csv')) and (os.path.isfile('drive/My Drive/Facebook/data/after_eda/test_pos_after_eda.csv')):        \n",
        "    train_graph=nx.read_edgelist('drive/My Drive/Facebook/data/after_eda/train_pos_after_eda.csv',delimiter=',',create_using=nx.DiGraph(),nodetype=int)\n",
        "    test_graph=nx.read_edgelist('drive/My Drive/Facebook/data/after_eda/test_pos_after_eda.csv',delimiter=',',create_using=nx.DiGraph(),nodetype=int)\n",
        "    print(nx.info(train_graph))\n",
        "    print(nx.info(test_graph))\n",
        "\n",
        "    # finding the unique nodes in the both train and test graphs\n",
        "    train_nodes_pos = set(train_graph.nodes())\n",
        "    test_nodes_pos = set(test_graph.nodes())\n",
        "\n",
        "    trY_teY = len(train_nodes_pos.intersection(test_nodes_pos))\n",
        "    trY_teN = len(train_nodes_pos - test_nodes_pos)\n",
        "    teY_trN = len(test_nodes_pos - train_nodes_pos)\n",
        "\n",
        "    print('no of people common in train and test -- ',trY_teY)\n",
        "    print('no of people present in train but not present in test -- ',trY_teN)\n",
        "\n",
        "    print('no of people present in test but not present in train -- ',teY_trN)\n",
        "    print(' % of people not there in Train but exist in Test in total Test data are {} %'.format(teY_trN/len(test_nodes_pos)*100))"
      ],
      "execution_count": 26,
      "outputs": [
        {
          "output_type": "stream",
          "text": [
            "Name: \n",
            "Type: DiGraph\n",
            "Number of nodes: 1780722\n",
            "Number of edges: 7550015\n",
            "Average in degree:   4.2399\n",
            "Average out degree:   4.2399\n",
            "Name: \n",
            "Type: DiGraph\n",
            "Number of nodes: 1144623\n",
            "Number of edges: 1887504\n",
            "Average in degree:   1.6490\n",
            "Average out degree:   1.6490\n",
            "no of people common in train and test --  1063125\n",
            "no of people present in train but not present in test --  717597\n",
            "no of people present in test but not present in train --  81498\n",
            " % of people not there in Train but exist in Test in total Test data are 7.1200735962845405 %\n"
          ],
          "name": "stdout"
        }
      ]
    },
    {
      "cell_type": "markdown",
      "metadata": {
        "id": "MhQK2rHTI1Ym",
        "colab_type": "text"
      },
      "source": [
        "> we have a cold start problem here"
      ]
    },
    {
      "cell_type": "code",
      "metadata": {
        "id": "SexC58EcI1Yo",
        "colab_type": "code",
        "colab": {}
      },
      "source": [
        "#final train and test data sets\n",
        "if (not os.path.isfile('drive/My Drive/Facebook/data/after_eda/train_after_eda.csv')) and \\\n",
        "(not os.path.isfile('drive/My Drive/Facebook/data/after_eda/test_after_eda.csv')) and \\\n",
        "(not os.path.isfile('drive/My Drive/Facebook/data/train_y.csv')) and \\\n",
        "(not os.path.isfile('drive/My Drive/Facebook/data/test_y.csv')) and \\\n",
        "(os.path.isfile('drive/My Drive/Facebook/data/after_eda/train_pos_after_eda.csv')) and \\\n",
        "(os.path.isfile('drive/My Drive/Facebook/data/after_eda/test_pos_after_eda.csv')) and \\\n",
        "(os.path.isfile('drive/My Drive/Facebook/data/after_eda/train_neg_after_eda.csv')) and \\\n",
        "(os.path.isfile('drive/My Drive/Facebook/data/after_eda/test_neg_after_eda.csv')):\n",
        "    \n",
        "    X_train_pos = pd.read_csv('drive/My Drive/Facebook/data/after_eda/train_pos_after_eda.csv', names=['source_node', 'destination_node'])\n",
        "    X_test_pos = pd.read_csv('drive/My Drive/Facebook/data/after_eda/test_pos_after_eda.csv', names=['source_node', 'destination_node'])\n",
        "    X_train_neg = pd.read_csv('drive/My Drive/Facebook/data/after_eda/train_neg_after_eda.csv', names=['source_node', 'destination_node'])\n",
        "    X_test_neg = pd.read_csv('drive/My Drive/Facebook/data/after_eda/test_neg_after_eda.csv', names=['source_node', 'destination_node'])\n",
        "\n",
        "    print('='*60)\n",
        "    print(\"Number of nodes in the train data graph with edges\", X_train_pos.shape[0])\n",
        "    print(\"Number of nodes in the train data graph without edges\", X_train_neg.shape[0])\n",
        "    print('='*60)\n",
        "    print(\"Number of nodes in the test data graph with edges\", X_test_pos.shape[0])\n",
        "    print(\"Number of nodes in the test data graph without edges\", X_test_neg.shape[0])\n",
        "\n",
        "    X_train = X_train_pos.append(X_train_neg,ignore_index=True)\n",
        "    y_train = np.concatenate((y_train_pos,y_train_neg))\n",
        "    X_test = X_test_pos.append(X_test_neg,ignore_index=True)\n",
        "    y_test = np.concatenate((y_test_pos,y_test_neg)) \n",
        "    \n",
        "    X_train.to_csv('drive/My Drive/Facebook/data/after_eda/train_after_eda.csv',header=False,index=False)\n",
        "    X_test.to_csv('drive/My Drive/Facebook/data/after_eda/test_after_eda.csv',header=False,index=False)\n",
        "    pd.DataFrame(y_train.astype(int)).to_csv('drive/My Drive/Facebook/data/train_y.csv',header=False,index=False)\n",
        "    pd.DataFrame(y_test.astype(int)).to_csv('drive/My Drive/Facebook/data/test_y.csv',header=False,index=False)"
      ],
      "execution_count": 0,
      "outputs": []
    },
    {
      "cell_type": "code",
      "metadata": {
        "id": "FKPIsMX6I1Yv",
        "colab_type": "code",
        "colab": {}
      },
      "source": [
        "X_train = pd.read_csv('drive/My Drive/Facebook/data/after_eda/train_after_eda.csv')\n",
        "X_test = pd.read_csv('drive/My Drive/Facebook/data/after_eda/test_after_eda.csv')\n",
        "\n",
        "y_train = pd.read_csv('drive/My Drive/Facebook/data/train_y.csv')\n",
        "y_test = pd.read_csv('drive/My Drive/Facebook/data/test_y.csv')"
      ],
      "execution_count": 0,
      "outputs": []
    },
    {
      "cell_type": "code",
      "metadata": {
        "id": "TtGZpXJKI1Y1",
        "colab_type": "code",
        "outputId": "7a47fa2b-6466-4009-b17b-463679d0b0ed",
        "colab": {
          "base_uri": "https://localhost:8080/",
          "height": 87
        }
      },
      "source": [
        "print(\"Data points in train data\",X_train.shape)\n",
        "print(\"Data points in test data\",X_test.shape)\n",
        "print(\"Shape of traget variable in train\",y_train.shape)\n",
        "print(\"Shape of traget variable in test\", y_test.shape)"
      ],
      "execution_count": 0,
      "outputs": [
        {
          "output_type": "stream",
          "text": [
            "Data points in train data (15100029, 2)\n",
            "Data points in test data (3775007, 2)\n",
            "Shape of traget variable in train (15100029, 1)\n",
            "Shape of traget variable in test (3775007, 1)\n"
          ],
          "name": "stdout"
        }
      ]
    },
    {
      "cell_type": "code",
      "metadata": {
        "id": "vl4Zy2TEI1ZB",
        "colab_type": "code",
        "colab": {}
      },
      "source": [
        "# computed and store the data for featurization\n",
        "# please check out FB_featurization.ipynb"
      ],
      "execution_count": 0,
      "outputs": []
    },
    {
      "cell_type": "markdown",
      "metadata": {
        "id": "YCf47ddcI1Z5",
        "colab_type": "text"
      },
      "source": [
        "# 2nd Notebook:"
      ]
    },
    {
      "cell_type": "markdown",
      "metadata": {
        "id": "S4djXfxtI1Z9",
        "colab_type": "text"
      },
      "source": [
        "<p style=\"font-size:32px;text-align:center\"> <b>Social network Graph Link Prediction - Facebook Challenge</b> </p>"
      ]
    },
    {
      "cell_type": "code",
      "metadata": {
        "id": "ua8nrtHfI1aA",
        "colab_type": "code",
        "colab": {}
      },
      "source": [
        "#Importing Libraries\n",
        "# please do go through this python notebook: \n",
        "import warnings\n",
        "warnings.filterwarnings(\"ignore\")\n",
        "\n",
        "import csv\n",
        "import pandas as pd#pandas to create small dataframes \n",
        "import datetime #Convert to unix time\n",
        "import time #Convert to unix time\n",
        "# if numpy is not installed already : pip3 install numpy\n",
        "import numpy as np#Do aritmetic operations on arrays\n",
        "# matplotlib: used to plot graphs\n",
        "import matplotlib\n",
        "import matplotlib.pylab as plt\n",
        "import seaborn as sns#Plots\n",
        "from matplotlib import rcParams#Size of plots  \n",
        "from sklearn.cluster import MiniBatchKMeans, KMeans#Clustering\n",
        "import math\n",
        "import pickle\n",
        "import os\n",
        "# to install xgboost: pip3 install xgboost\n",
        "import xgboost as xgb\n",
        "\n",
        "import warnings\n",
        "import networkx as nx\n",
        "import pdb\n",
        "import pickle\n",
        "from pandas import HDFStore,DataFrame\n",
        "from pandas import read_hdf\n",
        "from scipy.sparse.linalg import svds, eigs\n",
        "import gc\n",
        "from tqdm import tqdm"
      ],
      "execution_count": 0,
      "outputs": []
    },
    {
      "cell_type": "markdown",
      "metadata": {
        "id": "6NmPXcI4I1a4",
        "colab_type": "text"
      },
      "source": [
        "# 1. Reading Data"
      ]
    },
    {
      "cell_type": "code",
      "metadata": {
        "id": "4JPOoMwMI1bq",
        "colab_type": "code",
        "outputId": "02132b20-18e6-4521-84e1-e50db00c2593",
        "colab": {
          "base_uri": "https://localhost:8080/",
          "height": 123
        }
      },
      "source": [
        "if os.path.isfile('drive/My Drive/Facebook/data/after_eda/train_pos_after_eda.csv'):\n",
        "    train_graph=nx.read_edgelist('drive/My Drive/Facebook/data/after_eda/train_pos_after_eda.csv',delimiter=',',create_using=nx.DiGraph(),nodetype=int)\n",
        "    print(nx.info(train_graph))\n",
        "else:\n",
        "    print(\"please run the FB_EDA.ipynb or download the files from drive\")"
      ],
      "execution_count": 0,
      "outputs": [
        {
          "output_type": "stream",
          "text": [
            "Name: \n",
            "Type: DiGraph\n",
            "Number of nodes: 1780722\n",
            "Number of edges: 7550015\n",
            "Average in degree:   4.2399\n",
            "Average out degree:   4.2399\n"
          ],
          "name": "stdout"
        }
      ]
    },
    {
      "cell_type": "markdown",
      "metadata": {
        "id": "pIxmraEHI1by",
        "colab_type": "text"
      },
      "source": [
        "# 2. Similarity measures"
      ]
    },
    {
      "cell_type": "markdown",
      "metadata": {
        "id": "sSWSxbzNI1bz",
        "colab_type": "text"
      },
      "source": [
        "## 2.1 Jaccard Distance:\n",
        "http://www.statisticshowto.com/jaccard-index/"
      ]
    },
    {
      "cell_type": "markdown",
      "metadata": {
        "id": "pgjQqBhuI1b3",
        "colab_type": "text"
      },
      "source": [
        "\\begin{equation}\n",
        "j = \\frac{|X\\cap Y|}{|X \\cup Y|} \n",
        "\\end{equation}"
      ]
    },
    {
      "cell_type": "code",
      "metadata": {
        "id": "F5_unye0I1b7",
        "colab_type": "code",
        "colab": {}
      },
      "source": [
        "#for followees\n",
        "def jaccard_for_followees(a,b):\n",
        "    try:\n",
        "        if len(set(train_graph.successors(a))) == 0  | len(set(train_graph.successors(b))) == 0:\n",
        "            return 0\n",
        "        sim = (len(set(train_graph.successors(a)).intersection(set(train_graph.successors(b)))))/\\\n",
        "                                    (len(set(train_graph.successors(a)).union(set(train_graph.successors(b)))))\n",
        "    except:\n",
        "        return 0\n",
        "    return sim"
      ],
      "execution_count": 0,
      "outputs": []
    },
    {
      "cell_type": "code",
      "metadata": {
        "id": "rMFBJx20I1de",
        "colab_type": "code",
        "outputId": "dba36c8d-2404-4158-9c40-ab591eb9cc41",
        "colab": {
          "base_uri": "https://localhost:8080/",
          "height": 34
        }
      },
      "source": [
        "#one test case\n",
        "print(jaccard_for_followees(273084,1505602))"
      ],
      "execution_count": 0,
      "outputs": [
        {
          "output_type": "stream",
          "text": [
            "0.0\n"
          ],
          "name": "stdout"
        }
      ]
    },
    {
      "cell_type": "code",
      "metadata": {
        "id": "9Fyt3LtUI1dr",
        "colab_type": "code",
        "outputId": "9c2aca23-7bef-4a96-b7e6-72ca5f06353f",
        "colab": {
          "base_uri": "https://localhost:8080/",
          "height": 34
        }
      },
      "source": [
        "#node 1635354 not in graph \n",
        "print(jaccard_for_followees(273084,1505602))"
      ],
      "execution_count": 0,
      "outputs": [
        {
          "output_type": "stream",
          "text": [
            "0.0\n"
          ],
          "name": "stdout"
        }
      ]
    },
    {
      "cell_type": "code",
      "metadata": {
        "id": "sr0Q-yZeI1dz",
        "colab_type": "code",
        "colab": {}
      },
      "source": [
        "#for followers\n",
        "def jaccard_for_followers(a,b):\n",
        "    try:\n",
        "        if len(set(train_graph.predecessors(a))) == 0  | len(set(g.predecessors(b))) == 0:\n",
        "            return 0\n",
        "        sim = (len(set(train_graph.predecessors(a)).intersection(set(train_graph.predecessors(b)))))/\\\n",
        "                                 (len(set(train_graph.predecessors(a)).union(set(train_graph.predecessors(b)))))\n",
        "        return sim\n",
        "    except:\n",
        "        return 0"
      ],
      "execution_count": 0,
      "outputs": []
    },
    {
      "cell_type": "code",
      "metadata": {
        "id": "7jdIdaufI1d7",
        "colab_type": "code",
        "outputId": "0668f16b-b207-4574-e4c1-2e49a86efab3",
        "colab": {
          "base_uri": "https://localhost:8080/",
          "height": 34
        }
      },
      "source": [
        "print(jaccard_for_followers(273084,470294))"
      ],
      "execution_count": 0,
      "outputs": [
        {
          "output_type": "stream",
          "text": [
            "0\n"
          ],
          "name": "stdout"
        }
      ]
    },
    {
      "cell_type": "code",
      "metadata": {
        "id": "0NgOUHktI1l7",
        "colab_type": "code",
        "outputId": "2a014f67-26eb-4f1f-d213-f6d015d64b36",
        "colab": {
          "base_uri": "https://localhost:8080/",
          "height": 34
        }
      },
      "source": [
        "#node 1635354 not in graph \n",
        "print(jaccard_for_followees(669354,1635354))"
      ],
      "execution_count": 0,
      "outputs": [
        {
          "output_type": "stream",
          "text": [
            "0\n"
          ],
          "name": "stdout"
        }
      ]
    },
    {
      "cell_type": "markdown",
      "metadata": {
        "id": "Sr0gxTA_I1mH",
        "colab_type": "text"
      },
      "source": [
        "## 2.2 Cosine distance"
      ]
    },
    {
      "cell_type": "markdown",
      "metadata": {
        "id": "GVc2_2HWI1mI",
        "colab_type": "text"
      },
      "source": [
        "\\begin{equation}\n",
        "CosineDistance = \\frac{|X\\cap Y|}{|X|\\cdot|Y|} \n",
        "\\end{equation}"
      ]
    },
    {
      "cell_type": "code",
      "metadata": {
        "id": "Hl6LhtC8I1mN",
        "colab_type": "code",
        "colab": {}
      },
      "source": [
        "#for followees\n",
        "def cosine_for_followees(a,b):\n",
        "    try:\n",
        "        if len(set(train_graph.successors(a))) == 0  | len(set(train_graph.successors(b))) == 0:\n",
        "            return 0\n",
        "        sim = (len(set(train_graph.successors(a)).intersection(set(train_graph.successors(b)))))/\\\n",
        "                                    (math.sqrt(len(set(train_graph.successors(a)))*len((set(train_graph.successors(b))))))\n",
        "        return sim\n",
        "    except:\n",
        "        return 0"
      ],
      "execution_count": 0,
      "outputs": []
    },
    {
      "cell_type": "code",
      "metadata": {
        "id": "PUadyBbBI1mW",
        "colab_type": "code",
        "outputId": "09556323-7f1a-452d-f813-82aa0b8a2db6",
        "colab": {
          "base_uri": "https://localhost:8080/",
          "height": 34
        }
      },
      "source": [
        "print(cosine_for_followees(273084,1505602))"
      ],
      "execution_count": 0,
      "outputs": [
        {
          "output_type": "stream",
          "text": [
            "0.0\n"
          ],
          "name": "stdout"
        }
      ]
    },
    {
      "cell_type": "code",
      "metadata": {
        "id": "e8dy-bRXI1mo",
        "colab_type": "code",
        "outputId": "5d1fd8b0-ff78-4870-d1a2-752603554dea",
        "colab": {
          "base_uri": "https://localhost:8080/",
          "height": 34
        }
      },
      "source": [
        "print(cosine_for_followees(273084,1635354))"
      ],
      "execution_count": 0,
      "outputs": [
        {
          "output_type": "stream",
          "text": [
            "0\n"
          ],
          "name": "stdout"
        }
      ]
    },
    {
      "cell_type": "code",
      "metadata": {
        "id": "sLcfodRWI1mw",
        "colab_type": "code",
        "colab": {}
      },
      "source": [
        "def cosine_for_followers(a,b):\n",
        "    try:\n",
        "        \n",
        "        if len(set(train_graph.predecessors(a))) == 0  | len(set(train_graph.predecessors(b))) == 0:\n",
        "            return 0\n",
        "        sim = (len(set(train_graph.predecessors(a)).intersection(set(train_graph.predecessors(b)))))/\\\n",
        "                                     (math.sqrt(len(set(train_graph.predecessors(a))))*(len(set(train_graph.predecessors(b)))))\n",
        "        return sim\n",
        "    except:\n",
        "        return 0"
      ],
      "execution_count": 0,
      "outputs": []
    },
    {
      "cell_type": "code",
      "metadata": {
        "id": "nB1CX5cHI1nI",
        "colab_type": "code",
        "outputId": "24d8c87a-662e-4377-bf18-5833c68f24e7",
        "colab": {
          "base_uri": "https://localhost:8080/",
          "height": 34
        }
      },
      "source": [
        "print(cosine_for_followers(2,470294))"
      ],
      "execution_count": 0,
      "outputs": [
        {
          "output_type": "stream",
          "text": [
            "0.02886751345948129\n"
          ],
          "name": "stdout"
        }
      ]
    },
    {
      "cell_type": "code",
      "metadata": {
        "id": "L7MNBntdI1nR",
        "colab_type": "code",
        "outputId": "348f5cce-7a55-42fa-ea42-063b4ac3783b",
        "colab": {
          "base_uri": "https://localhost:8080/",
          "height": 34
        }
      },
      "source": [
        "print(cosine_for_followers(669354,1635354))"
      ],
      "execution_count": 0,
      "outputs": [
        {
          "output_type": "stream",
          "text": [
            "0\n"
          ],
          "name": "stdout"
        }
      ]
    },
    {
      "cell_type": "markdown",
      "metadata": {
        "id": "VJuzfRSNI1ne",
        "colab_type": "text"
      },
      "source": [
        "## 3. Ranking Measures"
      ]
    },
    {
      "cell_type": "markdown",
      "metadata": {
        "id": "c8nmkB_pI1nh",
        "colab_type": "text"
      },
      "source": [
        "https://networkx.github.io/documentation/networkx-1.10/reference/generated/networkx.algorithms.link_analysis.pagerank_alg.pagerank.html\n",
        "\n",
        "PageRank computes a ranking of the nodes in the graph G based on the structure of the incoming links.\n",
        "\n",
        "<img src='PageRanks-Example.jpg'/>\n",
        "\n",
        "Mathematical PageRanks for a simple network, expressed as percentages. (Google uses a logarithmic scale.) Page C has a higher PageRank than Page E, even though there are fewer links to C; the one link to C comes from an important page and hence is of high value. If web surfers who start on a random page have an 85% likelihood of choosing a random link from the page they are currently visiting, and a 15% likelihood of jumping to a page chosen at random from the entire web, they will reach Page E 8.1% of the time. <b>(The 15% likelihood of jumping to an arbitrary page corresponds to a damping factor of 85%.) Without damping, all web surfers would eventually end up on Pages A, B, or C, and all other pages would have PageRank zero. In the presence of damping, Page A effectively links to all pages in the web, even though it has no outgoing links of its own.</b>"
      ]
    },
    {
      "cell_type": "markdown",
      "metadata": {
        "id": "cVQhEUaII1nk",
        "colab_type": "text"
      },
      "source": [
        "## 3.1 Page Ranking\n",
        "\n",
        "https://en.wikipedia.org/wiki/PageRank\n"
      ]
    },
    {
      "cell_type": "code",
      "metadata": {
        "id": "zdhcvA6pI1nu",
        "colab_type": "code",
        "outputId": "40a7c473-781a-4838-dcff-a7d7604aeef2",
        "colab": {
          "base_uri": "https://localhost:8080/",
          "height": 238
        }
      },
      "source": [
        "if not os.path.isfile('data/fea_sample/page_rank.p'):\n",
        "    pr = nx.pagerank(train_graph, alpha=0.85)\n",
        "    pickle.dump(pr,open('data/fea_sample/page_rank.p','wb'))\n",
        "else:\n",
        "    pr = pickle.load(open('data/fea_sample/page_rank.p','rb'))"
      ],
      "execution_count": 0,
      "outputs": [
        {
          "output_type": "error",
          "ename": "FileNotFoundError",
          "evalue": "ignored",
          "traceback": [
            "\u001b[0;31m---------------------------------------------------------------------------\u001b[0m",
            "\u001b[0;31mFileNotFoundError\u001b[0m                         Traceback (most recent call last)",
            "\u001b[0;32m<ipython-input-42-ba4ac7197c18>\u001b[0m in \u001b[0;36m<module>\u001b[0;34m()\u001b[0m\n\u001b[1;32m      1\u001b[0m \u001b[0;32mif\u001b[0m \u001b[0;32mnot\u001b[0m \u001b[0mos\u001b[0m\u001b[0;34m.\u001b[0m\u001b[0mpath\u001b[0m\u001b[0;34m.\u001b[0m\u001b[0misfile\u001b[0m\u001b[0;34m(\u001b[0m\u001b[0;34m'data/fea_sample/page_rank.p'\u001b[0m\u001b[0;34m)\u001b[0m\u001b[0;34m:\u001b[0m\u001b[0;34m\u001b[0m\u001b[0;34m\u001b[0m\u001b[0m\n\u001b[1;32m      2\u001b[0m     \u001b[0mpr\u001b[0m \u001b[0;34m=\u001b[0m \u001b[0mnx\u001b[0m\u001b[0;34m.\u001b[0m\u001b[0mpagerank\u001b[0m\u001b[0;34m(\u001b[0m\u001b[0mtrain_graph\u001b[0m\u001b[0;34m,\u001b[0m \u001b[0malpha\u001b[0m\u001b[0;34m=\u001b[0m\u001b[0;36m0.85\u001b[0m\u001b[0;34m)\u001b[0m\u001b[0;34m\u001b[0m\u001b[0;34m\u001b[0m\u001b[0m\n\u001b[0;32m----> 3\u001b[0;31m     \u001b[0mpickle\u001b[0m\u001b[0;34m.\u001b[0m\u001b[0mdump\u001b[0m\u001b[0;34m(\u001b[0m\u001b[0mpr\u001b[0m\u001b[0;34m,\u001b[0m\u001b[0mopen\u001b[0m\u001b[0;34m(\u001b[0m\u001b[0;34m'data/fea_sample/page_rank.p'\u001b[0m\u001b[0;34m,\u001b[0m\u001b[0;34m'wb'\u001b[0m\u001b[0;34m)\u001b[0m\u001b[0;34m)\u001b[0m\u001b[0;34m\u001b[0m\u001b[0;34m\u001b[0m\u001b[0m\n\u001b[0m\u001b[1;32m      4\u001b[0m \u001b[0;32melse\u001b[0m\u001b[0;34m:\u001b[0m\u001b[0;34m\u001b[0m\u001b[0;34m\u001b[0m\u001b[0m\n\u001b[1;32m      5\u001b[0m     \u001b[0mpr\u001b[0m \u001b[0;34m=\u001b[0m \u001b[0mpickle\u001b[0m\u001b[0;34m.\u001b[0m\u001b[0mload\u001b[0m\u001b[0;34m(\u001b[0m\u001b[0mopen\u001b[0m\u001b[0;34m(\u001b[0m\u001b[0;34m'data/fea_sample/page_rank.p'\u001b[0m\u001b[0;34m,\u001b[0m\u001b[0;34m'rb'\u001b[0m\u001b[0;34m)\u001b[0m\u001b[0;34m)\u001b[0m\u001b[0;34m\u001b[0m\u001b[0;34m\u001b[0m\u001b[0m\n",
            "\u001b[0;31mFileNotFoundError\u001b[0m: [Errno 2] No such file or directory: 'data/fea_sample/page_rank.p'"
          ]
        }
      ]
    },
    {
      "cell_type": "code",
      "metadata": {
        "id": "vZv7-eH3I1n2",
        "colab_type": "code",
        "colab": {}
      },
      "source": [
        "pr[min(pr, key=pr.get)]"
      ],
      "execution_count": 0,
      "outputs": []
    },
    {
      "cell_type": "code",
      "metadata": {
        "id": "XDNtiLrcI1n8",
        "colab_type": "code",
        "colab": {}
      },
      "source": [
        "(pr.get)"
      ],
      "execution_count": 0,
      "outputs": []
    },
    {
      "cell_type": "code",
      "metadata": {
        "id": "_7gT1RuMI1oI",
        "colab_type": "code",
        "colab": {}
      },
      "source": [
        "min(pr,key=pr.get)"
      ],
      "execution_count": 0,
      "outputs": []
    },
    {
      "cell_type": "code",
      "metadata": {
        "id": "W2Lf46WJI1oQ",
        "colab_type": "code",
        "colab": {}
      },
      "source": [
        "pr.get(3.459962832379924e-07)"
      ],
      "execution_count": 0,
      "outputs": []
    },
    {
      "cell_type": "code",
      "metadata": {
        "id": "V7fb8WdeI1oV",
        "colab_type": "code",
        "outputId": "39a61727-8d70-43ff-faec-7e8ad7d3a5ab",
        "colab": {
          "base_uri": "https://localhost:8080/",
          "height": 1000
        }
      },
      "source": [
        "pr"
      ],
      "execution_count": 0,
      "outputs": [
        {
          "output_type": "execute_result",
          "data": {
            "text/plain": [
              "{273084: 2.0452904537613205e-06,\n",
              " 1505602: 3.459962832379924e-07,\n",
              " 912810: 1.039181158882892e-06,\n",
              " 1678443: 1.7938059019480253e-06,\n",
              " 365429: 1.033021623853361e-06,\n",
              " 1523458: 3.096855642103832e-06,\n",
              " 527014: 1.6556497245737814e-07,\n",
              " 1605979: 6.428994469008903e-07,\n",
              " 1228116: 8.348032485214042e-07,\n",
              " 471233: 2.6658762149907754e-06,\n",
              " 866691: 1.5084114559632217e-06,\n",
              " 535232: 1.2802253685038755e-06,\n",
              " 660560: 1.4090493321512168e-06,\n",
              " 1272982: 1.2307217955919252e-06,\n",
              " 1409846: 1.7424392231291614e-06,\n",
              " 845593: 1.3746924926171e-06,\n",
              " 628879: 4.3605450797536837e-07,\n",
              " 858706: 8.815666841226465e-07,\n",
              " 1114859: 1.6556497245737814e-07,\n",
              " 813966: 9.482419757909467e-07,\n",
              " 976987: 1.0694172129407271e-06,\n",
              " 182524: 2.848985910682562e-07,\n",
              " 1408148: 2.0895901558860652e-07,\n",
              " 973346: 2.2658366600088316e-06,\n",
              " 1085939: 5.465731937112257e-07,\n",
              " 569150: 8.059887256690902e-07,\n",
              " 396322: 7.515436589181799e-06,\n",
              " 149376: 1.841840696914121e-06,\n",
              " 117851: 5.042451471815843e-07,\n",
              " 598891: 5.042451471815843e-07,\n",
              " 1046713: 1.738626852658722e-06,\n",
              " 1790645: 1.5043745222060861e-06,\n",
              " 1038318: 5.7262520483004e-07,\n",
              " 1593467: 3.472432137074377e-06,\n",
              " 70574: 7.166902835298391e-07,\n",
              " 1328148: 3.764618765214357e-07,\n",
              " 1814022: 2.848985910682562e-07,\n",
              " 1791177: 8.815666841226464e-07,\n",
              " 1757093: 4.6962691525976323e-07,\n",
              " 912379: 8.759933076103603e-07,\n",
              " 1570978: 3.4361830816249777e-07,\n",
              " 1499086: 2.251325164653729e-06,\n",
              " 333578: 3.246764639385488e-07,\n",
              " 879520: 8.02010938382061e-07,\n",
              " 463464: 1.2926047037823373e-06,\n",
              " 745738: 2.451207181979635e-07,\n",
              " 791618: 3.3263203851260736e-07,\n",
              " 1356611: 8.454049815132893e-07,\n",
              " 546636: 5.254600127124071e-07,\n",
              " 283651: 4.823673171029233e-07,\n",
              " 882823: 2.0144008977942957e-06,\n",
              " 1306607: 1.1781184753069518e-06,\n",
              " 436949: 6.066111421036863e-07,\n",
              " 36283: 6.367136221548575e-07,\n",
              " 1355641: 1.781264059953653e-07,\n",
              " 642709: 1.8959361279336687e-06,\n",
              " 1566025: 2.5814077847798203e-06,\n",
              " 1225769: 1.0362028841473486e-06,\n",
              " 1722386: 2.0749028702314266e-06,\n",
              " 948062: 8.461432781851012e-07,\n",
              " 679765: 6.832455750979015e-07,\n",
              " 1773023: 7.628013208384869e-07,\n",
              " 1802245: 1.189750489646295e-06,\n",
              " 686760: 7.798644083864676e-07,\n",
              " 989325: 5.95014146564786e-07,\n",
              " 562993: 3.146912988925782e-06,\n",
              " 1722833: 7.821220019469146e-07,\n",
              " 544361: 6.230105104657439e-07,\n",
              " 334572: 1.6556497245737814e-07,\n",
              " 1169048: 6.428994469008903e-07,\n",
              " 424175: 1.021500239860429e-06,\n",
              " 1404855: 5.965698498511969e-07,\n",
              " 1770842: 7.202208584352477e-07,\n",
              " 1477860: 6.178540272856873e-07,\n",
              " 1687319: 1.6556497245737814e-07,\n",
              " 750411: 1.247523114529339e-06,\n",
              " 1106259: 7.257700153806667e-07,\n",
              " 154784: 2.6103186734608056e-07,\n",
              " 1662480: 1.6556497245737814e-07,\n",
              " 1551903: 2.419220784801087e-06,\n",
              " 562675: 4.996991045678367e-07,\n",
              " 219692: 5.832326375954513e-07,\n",
              " 708359: 4.042322096791342e-07,\n",
              " 888200: 4.476262528103626e-07,\n",
              " 730672: 2.4736383816731444e-06,\n",
              " 1840032: 1.2340505567282848e-06,\n",
              " 1825190: 8.815666841226464e-07,\n",
              " 1686004: 3.246764639385488e-07,\n",
              " 501189: 1.6556497245737814e-07,\n",
              " 61: 7.697806619025419e-07,\n",
              " 203305: 1.3070334880443694e-06,\n",
              " 725502: 3.0442591047730896e-07,\n",
              " 301556: 4.661720402914471e-07,\n",
              " 1756878: 2.008391167217788e-06,\n",
              " 275557: 3.4881855022556557e-07,\n",
              " 839980: 3.5996888127604563e-07,\n",
              " 842723: 8.392197408416998e-07,\n",
              " 524527: 4.6623760821376076e-07,\n",
              " 276086: 3.1598550011814876e-07,\n",
              " 661895: 6.057957167445669e-07,\n",
              " 1542325: 1.7689887569574746e-06,\n",
              " 1079302: 7.7578831024002e-06,\n",
              " 1791610: 4.64866588865202e-07,\n",
              " 1321724: 2.6103186734608056e-07,\n",
              " 832016: 2.3534578623285186e-07,\n",
              " 1543415: 6.427659659497299e-07,\n",
              " 1831478: 1.3905512582785386e-06,\n",
              " 561277: 1.3270788602699243e-06,\n",
              " 1122952: 1.2869393703735384e-06,\n",
              " 720171: 1.7899297789489588e-06,\n",
              " 1452769: 1.5547856576293684e-06,\n",
              " 154251: 2.536077154958819e-06,\n",
              " 132017: 7.6674996682671e-07,\n",
              " 970018: 1.249417298951734e-06,\n",
              " 1402038: 2.02690987136318e-07,\n",
              " 182580: 1.1041951426576642e-06,\n",
              " 1284805: 5.733451532438204e-06,\n",
              " 1252082: 2.202787454691224e-07,\n",
              " 1172937: 8.321154338013055e-07,\n",
              " 1098851: 2.1866172860334186e-07,\n",
              " 65493: 7.948262736117935e-07,\n",
              " 26839: 4.225280159962275e-07,\n",
              " 531012: 1.0641552758865631e-06,\n",
              " 614833: 1.3197570975227974e-06,\n",
              " 438469: 1.6556497245737814e-07,\n",
              " 1286875: 2.8110776459952012e-06,\n",
              " 1077631: 3.3793575489531305e-07,\n",
              " 1517929: 8.815666841226464e-07,\n",
              " 321689: 7.477187627975572e-07,\n",
              " 1539523: 1.0073475100616797e-06,\n",
              " 1252341: 1.1141725311927388e-06,\n",
              " 1374700: 1.9966029206048615e-07,\n",
              " 1553030: 1.920835543709066e-07,\n",
              " 1283053: 7.383663417895928e-07,\n",
              " 1561705: 1.419008593659695e-06,\n",
              " 648602: 1.1281479656717669e-06,\n",
              " 227087: 2.1329841990172935e-07,\n",
              " 1736008: 7.3398184333227e-07,\n",
              " 392731: 1.6556497245737814e-07,\n",
              " 267971: 7.980331510950318e-07,\n",
              " 1268337: 2.1827760818409467e-07,\n",
              " 956952: 3.715055823757338e-07,\n",
              " 1492633: 2.4185251443122455e-06,\n",
              " 1370536: 2.817230465954177e-07,\n",
              " 151196: 6.362698014225082e-07,\n",
              " 384061: 1.2233544400933129e-06,\n",
              " 983414: 1.653005229404363e-06,\n",
              " 1490571: 2.2485362191794104e-06,\n",
              " 1728893: 6.4891084325695e-07,\n",
              " 1575103: 5.700405589759644e-07,\n",
              " 322123: 4.042322096791342e-07,\n",
              " 1677099: 6.042735124304612e-07,\n",
              " 1622310: 1.7700358497352313e-06,\n",
              " 1645746: 4.19148912005494e-07,\n",
              " 1496122: 5.216218387387488e-07,\n",
              " 716889: 1.1257193943781065e-06,\n",
              " 131993: 1.885185950446591e-06,\n",
              " 1130115: 2.2773304739462613e-06,\n",
              " 443328: 1.1998395345481853e-06,\n",
              " 1193183: 1.1049577344821517e-06,\n",
              " 331160: 2.5922929334947988e-06,\n",
              " 1036556: 2.6754933082706956e-06,\n",
              " 79771: 1.5498404501570903e-06,\n",
              " 209829: 2.223861878345837e-06,\n",
              " 1325247: 6.211018987265075e-07,\n",
              " 760242: 5.179801024857924e-07,\n",
              " 1612865: 6.524547962713255e-07,\n",
              " 1659365: 2.066893260650331e-06,\n",
              " 364413: 5.757305626997536e-07,\n",
              " 591806: 3.288211822288675e-06,\n",
              " 1201562: 2.2834028668974645e-06,\n",
              " 550101: 5.639000350466027e-07,\n",
              " 1092078: 3.904907626875786e-07,\n",
              " 1019460: 9.420481251901643e-07,\n",
              " 696941: 5.474783360241401e-07,\n",
              " 1289468: 9.888494997249078e-07,\n",
              " 1368400: 2.9981529339461594e-07,\n",
              " 1006992: 1.704245418485518e-06,\n",
              " 335122: 7.698270230597332e-07,\n",
              " 1021192: 3.7564724475935674e-07,\n",
              " 826445: 4.125339475602225e-07,\n",
              " 1364513: 3.6705674309919015e-07,\n",
              " 1579986: 6.786995324841537e-07,\n",
              " 393085: 3.530892302744722e-07,\n",
              " 85816: 9.59846812499545e-07,\n",
              " 1506520: 1.9068783953335247e-07,\n",
              " 1538840: 2.826081903894172e-06,\n",
              " 1141034: 2.4952606144707123e-07,\n",
              " 583350: 5.766029921170691e-07,\n",
              " 751732: 7.58261963581524e-07,\n",
              " 1400831: 1.3155578687017503e-06,\n",
              " 1754364: 2.6279977280698244e-07,\n",
              " 1431711: 8.971162162446698e-07,\n",
              " 672511: 1.1054791057099567e-06,\n",
              " 427712: 4.349179973219314e-07,\n",
              " 363634: 1.7936164835057857e-06,\n",
              " 258962: 4.4539014834246463e-07,\n",
              " 496866: 2.371163353791835e-06,\n",
              " 1811820: 1.4127329781098869e-06,\n",
              " 1395145: 5.418906808771705e-07,\n",
              " 1677755: 7.135970949014525e-07,\n",
              " 298631: 1.4392591471209348e-06,\n",
              " 739876: 6.428994469008903e-07,\n",
              " 852055: 1.3597601322430988e-06,\n",
              " 201818: 9.293001315669976e-07,\n",
              " 992764: 3.7240991138290006e-07,\n",
              " 1711901: 1.282919568738907e-06,\n",
              " 1539921: 2.1131807970856097e-06,\n",
              " 1163581: 2.2387571791496628e-07,\n",
              " 1222329: 9.60361970528947e-07,\n",
              " 554602: 4.953597002547138e-07,\n",
              " 513262: 1.9075812497478914e-06,\n",
              " 1222366: 2.655779099598283e-07,\n",
              " 1493194: 9.102134379460421e-07,\n",
              " 536820: 2.555559523795208e-07,\n",
              " 226930: 7.900775765209734e-07,\n",
              " 150725: 6.408407675154979e-07,\n",
              " 1426561: 1.2077021972523907e-06,\n",
              " 1136749: 1.3285529010625231e-06,\n",
              " 143756: 1.8088836521618618e-06,\n",
              " 1796497: 8.229697396803144e-06,\n",
              " 1321708: 9.475696430755246e-06,\n",
              " 175024: 2.5336743373354695e-06,\n",
              " 205843: 5.42545556202409e-07,\n",
              " 369819: 2.2161692526708737e-06,\n",
              " 486651: 2.4960119288939756e-07,\n",
              " 24884: 1.4153650742119117e-06,\n",
              " 1515472: 1.7377089017463304e-06,\n",
              " 1014884: 1.018137380977318e-06,\n",
              " 740353: 8.152702293388252e-07,\n",
              " 198080: 1.9539837711009766e-07,\n",
              " 851163: 1.44419409750919e-06,\n",
              " 570124: 9.794713671454386e-07,\n",
              " 220362: 8.661376910093207e-07,\n",
              " 606966: 1.7653728856021655e-06,\n",
              " 1224294: 9.35310846962992e-07,\n",
              " 1316661: 1.3634497392930281e-06,\n",
              " 1170389: 1.7947329317527943e-06,\n",
              " 1431257: 3.802376151660755e-07,\n",
              " 671321: 2.601114057162728e-07,\n",
              " 1163375: 6.835546262405028e-07,\n",
              " 278734: 5.519785946259356e-07,\n",
              " 101504: 3.0459780758883195e-07,\n",
              " 1691337: 1.467965742491569e-06,\n",
              " 1116394: 1.6556497245737814e-07,\n",
              " 1030314: 6.428994469008903e-07,\n",
              " 529989: 6.518484064252917e-07,\n",
              " 99844: 5.764289983900896e-07,\n",
              " 1801683: 7.238256907823848e-07,\n",
              " 1245657: 2.7826894558987406e-07,\n",
              " 764724: 1.9171464909743544e-06,\n",
              " 584026: 1.804802354238633e-06,\n",
              " 398432: 6.898460792774775e-07,\n",
              " 1244349: 6.997249795727369e-07,\n",
              " 742520: 2.1329841990172935e-07,\n",
              " 124581: 2.1140369141765626e-06,\n",
              " 130375: 2.417427481840292e-07,\n",
              " 209755: 4.824578617601297e-06,\n",
              " 1381070: 3.799263094420106e-07,\n",
              " 117351: 2.5001645639738415e-07,\n",
              " 425049: 6.138007055971836e-06,\n",
              " 1307553: 5.57604996180994e-07,\n",
              " 464647: 6.554010640886966e-07,\n",
              " 590147: 4.5602136570949614e-07,\n",
              " 1668806: 2.2781362530993315e-06,\n",
              " 1430666: 9.029769964387037e-07,\n",
              " 569324: 6.275565530794917e-07,\n",
              " 1194578: 4.77051679279797e-07,\n",
              " 587091: 1.425334465908727e-06,\n",
              " 298888: 5.191394183766263e-07,\n",
              " 1829309: 6.135894353122536e-07,\n",
              " 1310254: 2.848985910682562e-07,\n",
              " 1785474: 1.3367272793837176e-06,\n",
              " 1478421: 4.290168843137012e-07,\n",
              " 1488737: 5.85318889669068e-07,\n",
              " 457662: 1.4008324913535024e-06,\n",
              " 605761: 6.35384498114929e-07,\n",
              " 1236701: 2.4739373950483736e-07,\n",
              " 873749: 1.5271789071177992e-06,\n",
              " 93650: 7.363705182030693e-07,\n",
              " 1144584: 4.2014335882725124e-07,\n",
              " 1298861: 4.996991045678367e-07,\n",
              " 959250: 6.826773197711829e-07,\n",
              " 1189845: 4.042322096791342e-07,\n",
              " 707628: 1.354913567587685e-06,\n",
              " 681447: 1.2873449954359037e-06,\n",
              " 1050142: 1.8793070887401622e-06,\n",
              " 773379: 1.8606123294609527e-06,\n",
              " 1336855: 2.6755240602541587e-06,\n",
              " 1290325: 9.378043664565084e-07,\n",
              " 819936: 4.880936696906324e-07,\n",
              " 1783381: 3.259664665893349e-06,\n",
              " 1076063: 2.848985910682562e-07,\n",
              " 58393: 7.582552782247392e-07,\n",
              " 1331983: 3.903472378950631e-07,\n",
              " 270629: 2.9938594145607136e-06,\n",
              " 1430596: 5.976690657675505e-06,\n",
              " 400599: 7.277832990242691e-07,\n",
              " 1457021: 2.0144437518254062e-06,\n",
              " 59618: 4.85429238881857e-07,\n",
              " 196674: 4.151069821857665e-07,\n",
              " 421096: 1.2401845752821743e-06,\n",
              " 868419: 1.6425801992990353e-06,\n",
              " 144309: 2.451207181979635e-07,\n",
              " 768675: 1.6556497245737814e-07,\n",
              " 338516: 1.0802561895399825e-06,\n",
              " 669549: 1.6556497245737814e-07,\n",
              " 719049: 4.996991045678367e-07,\n",
              " 38611: 1.962804429281559e-06,\n",
              " 1664439: 2.2773879055716332e-07,\n",
              " 1371356: 1.035429451672084e-06,\n",
              " 325548: 3.514500322166305e-07,\n",
              " 132660: 3.1483177299406166e-07,\n",
              " 449350: 1.241862417236259e-06,\n",
              " 686204: 1.6869528814133762e-06,\n",
              " 716722: 2.4877474738814806e-06,\n",
              " 1082463: 1.205489858506713e-06,\n",
              " 640572: 1.8726199402299234e-07,\n",
              " 423597: 3.725304717561864e-07,\n",
              " 1169977: 3.3134799274291216e-06,\n",
              " 21320: 4.6299969116824117e-07,\n",
              " 1134485: 6.54267412251264e-07,\n",
              " 1090680: 1.4987226439902762e-06,\n",
              " 1258804: 1.4787911110633345e-06,\n",
              " 1008202: 5.655875811683727e-07,\n",
              " 960995: 1.6088490830165409e-06,\n",
              " 1462461: 1.4384569043067437e-06,\n",
              " 1600294: 1.9210950951329615e-06,\n",
              " 940996: 1.6180255875497794e-06,\n",
              " 1780134: 5.678897437740526e-07,\n",
              " 679604: 6.680503209770881e-07,\n",
              " 1001122: 3.451408112338334e-06,\n",
              " 381406: 2.848985910682562e-07,\n",
              " 181524: 8.897240305156123e-07,\n",
              " 1076923: 1.315183472558079e-06,\n",
              " 1402350: 4.7254955639535513e-07,\n",
              " 1218356: 1.3303729191939423e-06,\n",
              " 128623: 1.5622092386907159e-06,\n",
              " 944692: 4.1572470808363677e-07,\n",
              " 559417: 4.305785930088086e-07,\n",
              " 132222: 2.3736396588582715e-06,\n",
              " 1858489: 1.13367459795037e-06,\n",
              " 413266: 1.4217278118853202e-06,\n",
              " 387141: 4.774596574630821e-07,\n",
              " 130676: 1.0862949548798042e-06,\n",
              " 632613: 4.166022882040599e-07,\n",
              " 335520: 1.6556497245737814e-07,\n",
              " 573770: 2.6843553795385293e-06,\n",
              " 1443670: 7.813264444895089e-07,\n",
              " 271786: 2.848985910682562e-07,\n",
              " 1011666: 3.1672088936449034e-07,\n",
              " 450550: 5.805109936622207e-07,\n",
              " 170193: 1.4482185675059502e-06,\n",
              " 1034617: 2.053428453276708e-07,\n",
              " 95630: 7.774149706761755e-07,\n",
              " 1626277: 5.689066635567434e-07,\n",
              " 1295556: 3.058380666657837e-07,\n",
              " 963526: 8.828118305781181e-07,\n",
              " 1226438: 1.1088688148100331e-06,\n",
              " 714629: 6.11633482490954e-07,\n",
              " 910865: 1.2103273141085217e-06,\n",
              " 1597016: 2.5269745588754305e-07,\n",
              " 1814537: 6.228469431756712e-07,\n",
              " 613441: 2.1215428225446808e-06,\n",
              " 397744: 1.1809721053172119e-06,\n",
              " 1238388: 5.266204285810144e-07,\n",
              " 690085: 4.042322096791342e-07,\n",
              " 1100574: 7.622330655117683e-07,\n",
              " 1344889: 2.106006999139705e-06,\n",
              " 154548: 6.464983973034406e-07,\n",
              " 180103: 2.953104309959461e-07,\n",
              " 516777: 1.974487460744753e-06,\n",
              " 658286: 3.070622152481846e-07,\n",
              " 1287262: 5.465026796593757e-07,\n",
              " 428941: 5.418150286562157e-06,\n",
              " 1316097: 5.467271186224247e-07,\n",
              " 1320959: 3.9627663510507573e-07,\n",
              " 1310495: 3.0765513938328194e-06,\n",
              " 1215945: 7.4757805971745e-07,\n",
              " 175973: 4.440100825494269e-07,\n",
              " 1411900: 2.765396231675111e-06,\n",
              " 1315420: 2.3375561166359416e-07,\n",
              " 1641402: 9.232387414153339e-07,\n",
              " 1162798: 1.584033587096984e-06,\n",
              " 766587: 4.415185015015074e-07,\n",
              " 612474: 9.607435929787526e-07,\n",
              " 10432: 4.964670696093447e-07,\n",
              " 153962: 6.497185108215119e-07,\n",
              " 884929: 1.0163873617544212e-06,\n",
              " 1851310: 9.551764545923658e-07,\n",
              " 733044: 8.815666841226464e-07,\n",
              " 1115294: 6.826773197711829e-07,\n",
              " 53024: 1.711219461131608e-06,\n",
              " 470337: 9.779806712225463e-07,\n",
              " 1618992: 7.124160152027828e-07,\n",
              " 157861: 3.1406903117313744e-07,\n",
              " 1191128: 1.0804560484741096e-06,\n",
              " 1653707: 6.428994469008903e-07,\n",
              " 314714: 2.451207181979635e-07,\n",
              " 259983: 8.815666841226464e-07,\n",
              " 637303: 4.933522528201219e-07,\n",
              " 68370: 5.19001048053502e-06,\n",
              " 1218786: 2.370730576774298e-06,\n",
              " 1770244: 6.551827370761489e-07,\n",
              " 294519: 7.502997036506805e-07,\n",
              " 1351298: 2.5109184274832154e-06,\n",
              " 222126: 1.7909646253144328e-06,\n",
              " 1387912: 5.247023389434492e-07,\n",
              " 336155: 3.5312654622603567e-07,\n",
              " 231810: 9.102015842130724e-07,\n",
              " 1794113: 1.8978338339303247e-06,\n",
              " 1593902: 2.2275713443118368e-06,\n",
              " 1499199: 8.612925761243842e-07,\n",
              " 1096475: 6.90310509552083e-07,\n",
              " 626646: 4.201433588272513e-07,\n",
              " 614513: 1.9752841973598824e-06,\n",
              " 409669: 4.859638923525929e-07,\n",
              " 775250: 1.0874075054994108e-06,\n",
              " 726427: 6.724139205612108e-07,\n",
              " 128572: 8.726450754931666e-07,\n",
              " 1283364: 1.6773307798291252e-06,\n",
              " 664879: 2.1860213628443504e-07,\n",
              " 1430336: 1.8439638796321369e-06,\n",
              " 300365: 3.952764435312316e-07,\n",
              " 34503: 2.533534765851714e-06,\n",
              " 437532: 1.4090032304610087e-06,\n",
              " 1658696: 4.584894225495387e-07,\n",
              " 1426508: 2.4291083637183615e-07,\n",
              " 1804087: 3.022959464554831e-07,\n",
              " 202280: 2.71864144618233e-06,\n",
              " 1219779: 1.0425532914966784e-06,\n",
              " 706355: 1.2447060006554393e-06,\n",
              " 156424: 1.881361791307902e-06,\n",
              " 1758591: 5.260971474726672e-07,\n",
              " 1582569: 4.042322096791342e-07,\n",
              " 1655182: 1.1202339213444023e-06,\n",
              " 1492413: 1.236011639198694e-06,\n",
              " 20010: 3.102515210295416e-07,\n",
              " 1235227: 1.920835543709066e-07,\n",
              " 160369: 1.8239234342641041e-06,\n",
              " 1071699: 4.492114865133545e-07,\n",
              " 800041: 1.6594842936762339e-06,\n",
              " 471874: 6.031154908075581e-07,\n",
              " 1256320: 5.181710229551157e-07,\n",
              " 212986: 1.5180126500473293e-06,\n",
              " 778666: 2.848985910682562e-07,\n",
              " 27317: 7.902008651699291e-06,\n",
              " 603112: 4.206849716058284e-06,\n",
              " 1072684: 2.7007632463784843e-06,\n",
              " 458008: 5.311597858379772e-07,\n",
              " 599127: 4.686397784585253e-07,\n",
              " 1831260: 6.706737538720624e-07,\n",
              " 1511622: 2.3020062517056226e-06,\n",
              " 1352161: 1.7533712739904472e-06,\n",
              " 1573105: 3.763179129280516e-07,\n",
              " 1150488: 5.195182552611053e-07,\n",
              " 1533080: 6.800254615798302e-07,\n",
              " 553980: 5.733880659211021e-07,\n",
              " 1420459: 4.042322096791342e-07,\n",
              " 6065: 4.837879554197195e-07,\n",
              " 233058: 1.6556497245737814e-07,\n",
              " 1622037: 4.042322096791342e-07,\n",
              " 139595: 3.7068555039147856e-07,\n",
              " 766895: 1.0132098727215367e-06,\n",
              " 567090: 1.3767412102272819e-06,\n",
              " 351885: 1.0803938295402215e-06,\n",
              " 960433: 2.509565337098201e-06,\n",
              " 1371463: 1.3282861939224626e-06,\n",
              " 220723: 6.820653524962553e-07,\n",
              " 849050: 5.036768918548659e-07,\n",
              " 1243504: 9.54806485283262e-07,\n",
              " 1053312: 4.848599760152817e-07,\n",
              " 169495: 4.6454044518293876e-07,\n",
              " 1354251: 2.979037956242245e-07,\n",
              " 205195: 1.3601573019199571e-06,\n",
              " 79777: 1.8298771549854421e-06,\n",
              " 1613640: 1.7219461793576026e-07,\n",
              " 1313162: 1.6725791480500487e-06,\n",
              " 81598: 6.267024826135591e-07,\n",
              " 1353944: 2.5046837008320644e-07,\n",
              " 591299: 3.825395802231487e-07,\n",
              " 1552488: 8.621762172723408e-07,\n",
              " 1808831: 2.6103186734608056e-07,\n",
              " 1173705: 2.9443990880329947e-06,\n",
              " 1764008: 1.7850997686836787e-06,\n",
              " 713641: 1.1128472365525842e-06,\n",
              " 1733241: 7.880862144751073e-07,\n",
              " 674485: 7.454365713129734e-07,\n",
              " 1110877: 3.6207968134853146e-06,\n",
              " 1801859: 2.0364601209126604e-07,\n",
              " 535958: 2.861547344220549e-07,\n",
              " 992930: 3.485431876607245e-07,\n",
              " 901833: 7.007260948087101e-07,\n",
              " 1416532: 5.751119420638322e-07,\n",
              " 140165: 4.3491799732193146e-07,\n",
              " 1708748: 2.0895901558860652e-07,\n",
              " 41281: 2.4556611280124743e-06,\n",
              " 1139928: 2.3078403821089897e-06,\n",
              " 1107040: 9.119995288689036e-06,\n",
              " 835997: 4.544836741018556e-07,\n",
              " 805612: 4.445132018900788e-07,\n",
              " 1310090: 3.5730831670600226e-06,\n",
              " 1160801: 1.8362356330096707e-06,\n",
              " 71690: 4.042322096791342e-07,\n",
              " 829118: 5.748803309899641e-07,\n",
              " 1209271: 2.9857645704423495e-07,\n",
              " 1007826: 1.1202339213444023e-06,\n",
              " 1757704: 6.428994469008903e-07,\n",
              " 327433: 5.354991901511e-07,\n",
              " 1363519: 1.162916210329034e-06,\n",
              " 124045: 1.3755929412944144e-06,\n",
              " 578411: 5.072930621158016e-07,\n",
              " 939582: 6.731669067232698e-07,\n",
              " 1411821: 2.053428453276708e-07,\n",
              " 1336711: 1.2259294121140373e-06,\n",
              " 111141: 2.7694301649419764e-07,\n",
              " 974254: 6.465156171618259e-07,\n",
              " 215735: 5.189760737280554e-07,\n",
              " 1118480: 2.34804426394077e-06,\n",
              " 132008: 2.1329841990172935e-07,\n",
              " 316236: 1.1049669482751565e-06,\n",
              " 1677011: 4.191697745262301e-07,\n",
              " 389782: 1.6012562472115408e-06,\n",
              " 1415429: 2.1349412337612146e-06,\n",
              " 1013979: 9.514501678685972e-07,\n",
              " 1628559: 4.990897865018915e-07,\n",
              " 1221960: 1.6556497245737814e-07,\n",
              " 1610659: 1.0730687292267699e-06,\n",
              " 674707: 9.445029955912224e-07,\n",
              " 1326729: 6.623019223366488e-07,\n",
              " 711219: 2.6008911695991627e-06,\n",
              " 91841: 5.342001687074407e-07,\n",
              " 1104580: 6.428994469008903e-07,\n",
              " 1570516: 6.428994469008903e-07,\n",
              " 30447: 1.3321931582103904e-06,\n",
              " 792190: 3.9883378407530885e-07,\n",
              " 5411: 1.5817748059600964e-06,\n",
              " 815927: 1.5625526130914836e-06,\n",
              " 367871: 4.6384318687077223e-07,\n",
              " 1214389: 1.1562011445857285e-06,\n",
              " 1665942: 1.4980536490062022e-06,\n",
              " 1757866: 1.0037376055536431e-06,\n",
              " 1031590: 8.815666841226464e-07,\n",
              " 1656574: 4.042322096791342e-07,\n",
              " 545029: 5.977355018034399e-07,\n",
              " 1119764: 2.3148185471861252e-06,\n",
              " 1377733: 5.942343349917684e-07,\n",
              " 375423: 1.1433875403428527e-06,\n",
              " 1567186: 2.665219417066131e-06,\n",
              " 1005023: 1.0334337684032637e-06,\n",
              " 1580187: 4.837879554197195e-07,\n",
              " 612293: 8.02010938382061e-07,\n",
              " 1740713: 5.122007217556429e-07,\n",
              " 1136962: 4.485561251631746e-07,\n",
              " 491547: 8.545543799536566e-07,\n",
              " 135396: 1.9242286016661525e-06,\n",
              " 1536027: 1.407771116663947e-06,\n",
              " 1500498: 5.931322435503887e-07,\n",
              " 538664: 2.1238486109896667e-07,\n",
              " 52205: 2.490053320890804e-07,\n",
              " 1610529: 3.776135664263393e-07,\n",
              " 235333: 1.0845231338603522e-06,\n",
              " 648114: 4.042322096791342e-07,\n",
              " 1545191: 4.042322096791342e-07,\n",
              " 1245581: 3.863321668875025e-07,\n",
              " 742541: 8.324169904711276e-07,\n",
              " 1587544: 2.054498949746397e-06,\n",
              " 175227: 5.048893232604555e-07,\n",
              " 399979: 1.9364347095405532e-07,\n",
              " 1071433: 2.805948529760495e-06,\n",
              " 1675985: 4.531363771276947e-07,\n",
              " 918120: 2.6653066295205816e-07,\n",
              " 1487059: 2.457476115039869e-07,\n",
              " 177707: 3.013584005318256e-07,\n",
              " 831251: 2.020810623355921e-06,\n",
              " 1136007: 2.7656417960971867e-07,\n",
              " 197515: 7.415573140088579e-07,\n",
              " 805550: 4.555646075260357e-07,\n",
              " 1368835: 1.6556497245737814e-07,\n",
              " 1397351: 2.0483842883178986e-06,\n",
              " 1210429: 4.803784234594087e-07,\n",
              " 1684048: 5.052094592511672e-07,\n",
              " 993658: 4.6457124616526645e-07,\n",
              " 643063: 6.082925800680327e-07,\n",
              " 1503975: 2.451207181979635e-07,\n",
              " 493782: 8.707698329149955e-07,\n",
              " 1432233: 1.8850387375396097e-06,\n",
              " 311527: 2.6670319813754473e-06,\n",
              " 937184: 8.920116127383585e-07,\n",
              " 259011: 7.425534111488368e-07,\n",
              " 1440399: 6.929317454396935e-07,\n",
              " 525049: 5.205424185388819e-07,\n",
              " 1116286: 3.455847048942508e-07,\n",
              " 918841: 1.419587272392153e-06,\n",
              " 231222: 2.264384410230174e-06,\n",
              " 270635: 5.317093619962777e-07,\n",
              " 695719: 3.407072457870277e-07,\n",
              " 1789385: 2.635788732016461e-06,\n",
              " 900537: 3.8031303161910764e-07,\n",
              " 1562772: 5.556456296993328e-07,\n",
              " 625125: 6.269882977527732e-07,\n",
              " 643419: 4.169749048843362e-07,\n",
              " 312300: 4.561500827111396e-07,\n",
              " 591658: 8.184903428568966e-07,\n",
              " 660809: 5.416789802773919e-07,\n",
              " 169657: 3.9861225723072593e-07,\n",
              " 281745: 8.947890493067474e-06,\n",
              " 1513924: 6.181517095890449e-06,\n",
              " 122637: 2.28983586193646e-06,\n",
              " 7211: 1.6389419334054957e-06,\n",
              " 733917: 2.231930758847963e-06,\n",
              " 335868: 9.295067698676225e-07,\n",
              " 376990: 3.292225065522966e-07,\n",
              " 417088: 6.034429322153626e-07,\n",
              " 1535778: 6.694180288144188e-07,\n",
              " 827566: 4.042322096791342e-07,\n",
              " 1778965: 1.627460299197613e-06,\n",
              " 1602457: 2.4620379557048018e-06,\n",
              " 367827: 2.5835463800954276e-06,\n",
              " 1705661: 2.0895901558860652e-07,\n",
              " 871552: 2.2938682143073953e-06,\n",
              " 1464896: 2.250132220217716e-07,\n",
              " 267343: 2.848985910682562e-07,\n",
              " 1183878: 9.213445569929391e-07,\n",
              " 1684743: 3.6292860003069285e-06,\n",
              " 108325: 2.4921382471933393e-06,\n",
              " 1150809: 4.27662664151621e-07,\n",
              " 1440757: 7.419850764769781e-07,\n",
              " 1015566: 1.6939100349042436e-06,\n",
              " 1720226: 9.911027459943496e-07,\n",
              " 1163878: 1.698852580581098e-06,\n",
              " 1629981: 1.0779692983366879e-06,\n",
              " 1156541: 1.1386520207412659e-06,\n",
              " 1827687: 2.106911307556093e-07,\n",
              " 349107: 2.101710391239334e-06,\n",
              " 1772442: 2.9767412935920197e-06,\n",
              " 374687: 5.412977154210629e-07,\n",
              " 1482135: 5.840442981353953e-07,\n",
              " 1506186: 6.424635398975157e-07,\n",
              " 1064116: 1.0159485055133254e-06,\n",
              " 307571: 1.1224252327350161e-06,\n",
              " 1455540: 1.6133346955390251e-06,\n",
              " 1144943: 1.0303869468452595e-06,\n",
              " 1077332: 6.002220147993931e-07,\n",
              " 854944: 2.3375561166359416e-07,\n",
              " 470394: 2.883600103088727e-06,\n",
              " 1059200: 1.0851968079480617e-06,\n",
              " 1664635: 3.8251087772521125e-07,\n",
              " 1175730: 3.3793575489531305e-07,\n",
              " 689828: 7.889927254426925e-07,\n",
              " 984700: 4.060048045444417e-07,\n",
              " 1048062: 2.5501744108796754e-06,\n",
              " 1568074: 1.4146533200653146e-06,\n",
              " 711175: 4.874041256806553e-07,\n",
              " 1637605: 8.855248763984095e-07,\n",
              " 230395: 1.521803942157203e-06,\n",
              " 680861: 4.1637220984084694e-07,\n",
              " 56785: 1.1648242914792487e-06,\n",
              " 1664821: 7.422819153947133e-07,\n",
              " 922569: 7.451854057102143e-07,\n",
              " 360739: 5.79254850308422e-07,\n",
              " 990102: 5.307777768743219e-07,\n",
              " 38688: 7.593942154456565e-07,\n",
              " 353776: 4.069390603214598e-07,\n",
              " 992126: 7.20466298997961e-07,\n",
              " 1128784: 4.042322096791342e-07,\n",
              " 84132: 1.367805168468623e-06,\n",
              " 1218973: 2.723022646593302e-07,\n",
              " 1018891: 2.3398361082050507e-06,\n",
              " 1770392: 1.920835543709066e-07,\n",
              " 1435169: 1.4942406355462737e-06,\n",
              " 617793: 2.5532017278008984e-07,\n",
              " 129579: 1.3689891424416126e-06,\n",
              " 1742982: 7.524353667269785e-07,\n",
              " 897335: 1.2364552492427917e-06,\n",
              " 942803: 7.903315640570298e-07,\n",
              " 760492: 7.799121201207873e-07,\n",
              " 849609: 1.657328618929199e-06,\n",
              " 1816176: 2.17049430409683e-07,\n",
              " 1009171: 1.1899800391144326e-06,\n",
              " 7821: 2.601468919798821e-06,\n",
              " 1573412: 2.8024560094698617e-06,\n",
              " 280551: 1.8631864525926998e-07,\n",
              " 379305: 2.2826235964040174e-06,\n",
              " 1014803: 1.8521467821577877e-06,\n",
              " 1636728: 2.451207181979635e-07,\n",
              " 1457449: 3.282926341994846e-07,\n",
              " 183522: 6.428994469008903e-07,\n",
              " 373526: 6.253007516310033e-07,\n",
              " 311931: 1.0207600978698647e-06,\n",
              " 228163: 5.73493718806689e-07,\n",
              " 1484017: 2.8465419563486694e-07,\n",
              " 884709: 1.160011794214695e-06,\n",
              " 963385: 6.428994469008903e-07,\n",
              " 18517: 9.411045540654395e-07,\n",
              " 1166989: 2.080211804479281e-06,\n",
              " 767438: 1.9072556132024269e-06,\n",
              " 1689705: 6.784240147499872e-07,\n",
              " 1255532: 1.1483600742157898e-06,\n",
              " 1398871: 1.3044682799015475e-06,\n",
              " 644613: 2.13890663333168e-06,\n",
              " 1689027: 1.3093720001980013e-06,\n",
              " 1167599: 2.3515682389211672e-06,\n",
              " 793422: 9.336560168617612e-07,\n",
              " 1285415: 6.769947665039983e-07,\n",
              " 1359864: 2.6103186734608056e-07,\n",
              " 72624: 3.1191564256662536e-07,\n",
              " 363188: 8.262049528657345e-07,\n",
              " 1135381: 6.113831322421199e-07,\n",
              " 1128500: 1.8270760230031361e-06,\n",
              " 579094: 9.705642106764e-07,\n",
              " 110619: 1.5524868065349163e-06,\n",
              " 1499870: 5.328090519222583e-07,\n",
              " 1706396: 4.144316642612605e-07,\n",
              " 1531486: 1.6556497245737814e-07,\n",
              " 1476606: 5.172375303333749e-07,\n",
              " 1708719: 1.141517965784565e-06,\n",
              " 1722495: 1.423249263783422e-06,\n",
              " 1409029: 1.4903400407278685e-06,\n",
              " 1406493: 4.8517617638211215e-06,\n",
              " 1143011: 1.3040741957121205e-06,\n",
              " 416792: 2.0550139337962807e-06,\n",
              " 811702: 1.7111829286923374e-07,\n",
              " 1594917: 1.6442558125609009e-06,\n",
              " 1555548: 1.6556497245737814e-07,\n",
              " 461075: 7.683849470649877e-07,\n",
              " 898978: 1.1416554251758502e-06,\n",
              " 1668491: 4.447386150195787e-07,\n",
              " 648133: 6.288426948291202e-07,\n",
              " 760360: 1.3300459919680655e-06,\n",
              " 15671: 1.973872707536123e-07,\n",
              " 1177344: 1.5931885373376287e-06,\n",
              " 933781: 1.7992307446987706e-06,\n",
              " 125939: 1.677748542835055e-07,\n",
              " 621529: 1.9863870355927323e-06,\n",
              " 1305021: 1.973872707536123e-07,\n",
              " 1963: 9.93381045437264e-07,\n",
              " 1304862: 4.4418640353439926e-07,\n",
              " 424313: 1.3944826844083762e-06,\n",
              " 702888: 7.846567197858298e-07,\n",
              " 1363018: 2.7365258052181943e-06,\n",
              " 752401: 2.661762882965794e-06,\n",
              " 703123: 5.657675958581607e-07,\n",
              " 1617399: 7.447873524620298e-07,\n",
              " 242790: 1.8021784965708087e-06,\n",
              " 1124220: 3.0861138940858584e-06,\n",
              " 731869: 1.2053273709551661e-06,\n",
              " 804351: 3.4058761308666595e-07,\n",
              " 708341: 8.87249237389831e-07,\n",
              " 1771379: 1.2968563417072689e-06,\n",
              " 1796152: 5.889940048298614e-07,\n",
              " 40442: 1.953501076502341e-06,\n",
              " 604072: 8.179550789055839e-07,\n",
              " 503899: 4.2514128055760247e-07,\n",
              " 8250: 2.1329841990172935e-07,\n",
              " 1140863: 2.4668063478111224e-07,\n",
              " 127405: 6.629486604794701e-07,\n",
              " 537931: 8.046683145022971e-07,\n",
              " 623878: 4.4035867780902565e-07,\n",
              " 481358: 7.980948289027894e-07,\n",
              " 1811099: 1.0277394389339195e-06,\n",
              " 1756739: 7.866652589953354e-07,\n",
              " 885869: 1.0618930411346397e-06,\n",
              " 713457: 5.324857149336536e-07,\n",
              " 1445857: 5.845585666911277e-07,\n",
              " 1277246: 2.9270117382358283e-07,\n",
              " 1722634: 8.050864663068706e-07,\n",
              " 647399: 3.6341909578985373e-07,\n",
              " 753961: 4.042322096791342e-07,\n",
              " 1843752: 6.428994469008903e-07,\n",
              " 1330719: 1.4437233741894308e-06,\n",
              " 540860: 1.6925920141696547e-06,\n",
              " 1539379: 3.686661115833431e-07,\n",
              " 1371321: 1.0247670264557e-06,\n",
              " 1632610: 7.648849237031211e-07,\n",
              " 1653720: 2.848985910682562e-07,\n",
              " 1206163: 3.8322398244893636e-07,\n",
              " 1815486: 2.404085630753835e-06,\n",
              " 629075: 2.8774768582230785e-06,\n",
              " 397167: 4.655928460266432e-06,\n",
              " 401549: 3.301404574646879e-07,\n",
              " 896709: 1.7136178667109762e-06,\n",
              " 785326: 1.1757334035892338e-06,\n",
              " 1006657: 3.8585862078190375e-07,\n",
              " 1284381: 1.9165078745969877e-06,\n",
              " 1017398: 2.5648582473233286e-07,\n",
              " 640756: 2.4505402301609534e-07,\n",
              " 1813874: 1.2687503477257234e-06,\n",
              " 443939: 2.6103186734608056e-07,\n",
              " 535546: 1.2771757106690116e-06,\n",
              " 1480505: 1.3824276533887997e-06,\n",
              " 438127: 1.4402351396290269e-06,\n",
              " 521886: 2.7598777725322644e-07,\n",
              " 292052: 1.981995815351555e-06,\n",
              " 1410093: 1.8869963325603323e-06,\n",
              " 992569: 1.8064788117000207e-06,\n",
              " 1715317: 7.993590801907083e-07,\n",
              " 879385: 2.759984717495023e-06,\n",
              " 1314093: 9.51083252424539e-07,\n",
              " 789938: 6.310972208844298e-07,\n",
              " 322321: 1.498976454896918e-06,\n",
              " 1062432: 7.531118389854668e-07,\n",
              " 1691811: 5.0395557585854e-07,\n",
              " 651378: 7.903914535610229e-07,\n",
              " 211414: 1.6556497245737814e-07,\n",
              " 1097610: 3.07572478303882e-06,\n",
              " 1533744: 6.428994469008903e-07,\n",
              " 1127761: 1.1202339213444023e-06,\n",
              " 203054: 2.3375561166359416e-07,\n",
              " 849904: 6.383534042871425e-07,\n",
              " 627341: 1.5769098641433899e-06,\n",
              " 1448767: 1.738987476231447e-06,\n",
              " 1295758: 8.147124437188127e-07,\n",
              " 734119: 3.060436708572013e-07,\n",
              " 1564484: 5.083910997897043e-07,\n",
              " 1811810: 7.821220019469146e-07,\n",
              " 782699: 1.0491728642057882e-06,\n",
              " 1021154: 1.4733544667240429e-06,\n",
              " 602034: 1.2288903214479916e-06,\n",
              " 1200986: 7.796304208989952e-07,\n",
              " 634838: 1.4755736870566132e-06,\n",
              " 1292151: 7.023476964652837e-07,\n",
              " 1326077: 3.5877178354165686e-07,\n",
              " 1842965: 9.363991053314144e-07,\n",
              " 1206110: 1.6556497245737814e-07,\n",
              " 1334999: 7.10239964079867e-07,\n",
              " 148065: 1.1202339213444023e-06,\n",
              " 12244: 5.748836554875105e-07,\n",
              " 1487275: 1.1321672832054901e-06,\n",
              " 1248963: 1.1158945170312798e-06,\n",
              " 319610: 4.077094519675319e-06,\n",
              " 967102: 5.48366607326551e-07,\n",
              " 664304: 2.848985910682562e-07,\n",
              " 206540: 1.3589011585661585e-06,\n",
              " 1600366: 1.967046287234423e-06,\n",
              " 1118409: 3.0991725319029543e-07,\n",
              " 485658: 2.163222582013715e-07,\n",
              " 1707361: 3.0080974021637326e-07,\n",
              " 582634: 3.75861617800876e-06,\n",
              " 1048523: 3.807158923774155e-07,\n",
              " 363171: 3.685622993816848e-07,\n",
              " 451817: 9.427021104834355e-07,\n",
              " 1390733: 4.90956714926014e-07,\n",
              " 542070: 2.0678235061259096e-06,\n",
              " 475612: 6.144877206990074e-07,\n",
              " 1513618: 3.9123306641981684e-07,\n",
              " 287011: 1.5532238164738118e-06,\n",
              " 509247: 6.132365188461864e-07,\n",
              " 412537: 5.180230597556032e-07,\n",
              " 1359237: 2.6103186734608056e-07,\n",
              " 1654384: 1.077046516513799e-06,\n",
              " 516912: 8.672739712967593e-07,\n",
              " 1087783: 1.4974000380251655e-06,\n",
              " 10553: 4.1872272051045514e-07,\n",
              " 280719: 5.541253369713165e-07,\n",
              " 1478518: 7.021176335799726e-07,\n",
              " 89511: 1.424310337488963e-06,\n",
              " 931446: 2.2523178176281716e-07,\n",
              " 980701: 2.2612819596915932e-06,\n",
              " 846172: 3.945238995209232e-06,\n",
              " 1173091: 8.02010938382061e-07,\n",
              " 681801: 4.837879554197196e-07,\n",
              " 617497: 1.3233350604703674e-06,\n",
              " 991515: 3.0442591047730896e-07,\n",
              " 1594774: 5.051931996971268e-07,\n",
              " 2493: 5.604230918933292e-07,\n",
              " 346372: 3.940464740365464e-07,\n",
              " 559481: 3.56498762234783e-07,\n",
              " 182341: 5.089756056780467e-07,\n",
              " 601785: 7.11303839493239e-07,\n",
              " 255616: 1.53133406495473e-06,\n",
              " 799585: 2.702435852739378e-07,\n",
              " 1728920: 4.6950289889874325e-06,\n",
              " 499883: 8.60555393791269e-07,\n",
              " 1417605: 4.4477675692104433e-07,\n",
              " 1230379: 5.524609428165883e-07,\n",
              " 756045: 8.938600314847837e-07,\n",
              " 1766188: 5.09927700448769e-07,\n",
              " 111238: 4.0356786343178366e-07,\n",
              " 98644: 7.73212478385469e-07,\n",
              " 923375: 2.0895901558860652e-07,\n",
              " 415223: 1.988355861986366e-06,\n",
              " 542584: 2.4276540748463086e-07,\n",
              " 1431345: 7.66591070030576e-07,\n",
              " 1554188: 2.217646886317267e-06,\n",
              " 555799: 9.066895511986207e-07,\n",
              " 697117: 2.0106276450240393e-06,\n",
              " 573724: 2.0215570524866703e-06,\n",
              " 1270943: 9.91427005468669e-07,\n",
              " 1097752: 2.1860213628443504e-07,\n",
              " 1384386: 6.655014670062616e-07,\n",
              " 639133: 1.5876834023119957e-06,\n",
              " 911225: 7.790201432606186e-07,\n",
              " 175345: 5.295175465186745e-07,\n",
              " 1083846: 1.6556497245737814e-07,\n",
              " 1141252: 1.6771241415284999e-06,\n",
              " 1859230: 2.1329841990172935e-07,\n",
              " 521884: 4.042322096791342e-07,\n",
              " 1662727: 3.246764639385488e-07,\n",
              " 537157: 3.246764639385488e-07,\n",
              " 1275484: 1.5869852796692071e-06,\n",
              " 701935: 3.3172963730511257e-07,\n",
              " 1774821: 1.0889798783748868e-06,\n",
              " 1241870: 2.7826894558987406e-07,\n",
              " 129970: 1.7627125776567735e-06,\n",
              " 1593220: 9.599357790339078e-07,\n",
              " 1211768: 2.2620188217267624e-06,\n",
              " 689907: 5.233846896177373e-07,\n",
              " 343678: 5.905966976609451e-07,\n",
              " 1832188: 6.646485707262414e-07,\n",
              " 836552: 3.193225286342606e-07,\n",
              " 504642: 1.2855125799448252e-06,\n",
              " 721519: 9.40034993934405e-07,\n",
              " 1787289: 5.835828068960415e-07,\n",
              " 1803738: 1.2956062575593633e-06,\n",
              " 1087393: 7.837228165245231e-07,\n",
              " 1197429: 1.3321420266948496e-06,\n",
              " 733972: 4.215106828670391e-06,\n",
              " 949699: 1.8316207109623816e-06,\n",
              " 495204: 6.74517756105482e-07,\n",
              " 1073320: 6.843820857513384e-07,\n",
              " 1053296: 5.122007217556429e-07,\n",
              " 17271: 1.2787168381139094e-06,\n",
              " 360050: 4.60988384908492e-07,\n",
              " 1392993: 7.44995987267975e-07,\n",
              " 344557: 6.915972064148244e-07,\n",
              " 741161: 8.648880295231166e-07,\n",
              " 1644408: 1.0823603989847395e-06,\n",
              " 1430171: 4.460927791057253e-07,\n",
              " 1024577: 2.2176159906006297e-06,\n",
              " 1832376: 3.628995209185708e-06,\n",
              " 1394586: 1.9687400787786658e-07,\n",
              " 842187: 1.102358585306106e-06,\n",
              " 555555: 8.340672241657674e-07,\n",
              " 751546: 2.5010943652702766e-06,\n",
              " 108673: 2.735334845338868e-07,\n",
              " 906283: 3.98274138677783e-07,\n",
              " 1065400: 3.4194707559077715e-07,\n",
              " 1535940: 1.1397612407534554e-06,\n",
              " 1533415: 2.2423899056236712e-06,\n",
              " 1122776: 2.9560085840959883e-06,\n",
              " 959167: 3.437698429162893e-07,\n",
              " 728944: 7.677554618565443e-07,\n",
              " 1534498: 7.374821551840873e-07,\n",
              " 304984: 5.480008073389063e-07,\n",
              " 1641628: 1.075123190792598e-06,\n",
              " 1266290: 1.2442738597124617e-06,\n",
              " 1773719: 8.467033887933341e-07,\n",
              " 1601865: 4.28383061064669e-07,\n",
              " 1499731: 6.208445517566577e-07,\n",
              " 496945: 2.4155075628208767e-06,\n",
              " 81393: 2.0647935598110775e-07,\n",
              " 568199: 1.4959824716476666e-06,\n",
              " 77972: 8.721347897065644e-07,\n",
              " 942866: 3.0460741828707085e-06,\n",
              " 312503: 1.9677894525041907e-06,\n",
              " 1240018: 2.7374012283451177e-07,\n",
              " 893254: 1.906678956947926e-06,\n",
              " 1210368: 5.440110986114564e-07,\n",
              " 25555: 2.848985910682562e-07,\n",
              " 982702: 4.710553895429796e-07,\n",
              " 1133519: 3.4979933101452315e-07,\n",
              " 281441: 5.139227075941838e-07,\n",
              " 1557796: 1.3625173288270945e-06,\n",
              " 1585307: 2.3567575122837858e-06,\n",
              " 290047: 2.751393234733585e-07,\n",
              " 59507: 8.646309534005976e-07,\n",
              " 1635312: 1.766544145029e-06,\n",
              " 1344467: 3.67275978471361e-07,\n",
              " 917597: 9.541476503404468e-07,\n",
              " 1785341: 5.506871052470301e-07,\n",
              " 1843022: 2.272450605028098e-06,\n",
              " 1242208: 5.235658282900123e-07,\n",
              " 394556: 2.3330219244062385e-06,\n",
              " 1743132: 1.6556497245737814e-07,\n",
              " 1777224: 1.040678175603817e-06,\n",
              " 1354482: 6.324986524361039e-07,\n",
              " 948669: 8.149086123127317e-07,\n",
              " 1330050: 4.0592462767840465e-06,\n",
              " 879593: 3.253409688922204e-07,\n",
              " 387658: 1.1194432052103223e-06,\n",
              " 759275: 4.906929228211694e-07,\n",
              " 1791073: 7.022046391802357e-07,\n",
              " 931027: 1.6221153039163137e-06,\n",
              " 812080: 2.927581910747146e-07,\n",
              " 9285: 7.013156027244751e-07,\n",
              " 1535925: 2.6216038116125805e-07,\n",
              " 686248: 3.832290471131673e-07,\n",
              " 182631: 3.246764639385488e-07,\n",
              " 1379691: 7.502997036506806e-07,\n",
              " 1128159: 2.7479571461885817e-06,\n",
              " 1476900: 3.5107520586040114e-06,\n",
              " 730964: 1.5895566200599707e-06,\n",
              " 622268: 4.7674790331648517e-07,\n",
              " 902595: 6.636285476116692e-07,\n",
              " 667845: 4.827764363435862e-07,\n",
              " 1262789: 6.747834988623608e-07,\n",
              " 539098: 9.712631379603083e-07,\n",
              " 1334753: 1.2318941152934374e-06,\n",
              " 1725849: 8.434553382625463e-07,\n",
              " ...}"
            ]
          },
          "metadata": {
            "tags": []
          },
          "execution_count": 43
        }
      ]
    },
    {
      "cell_type": "code",
      "metadata": {
        "id": "E_lURYK1I1od",
        "colab_type": "code",
        "outputId": "d131f391-e8fa-4008-8d14-3f898b43eafe",
        "colab": {
          "base_uri": "https://localhost:8080/",
          "height": 70
        }
      },
      "source": [
        "print('min',pr[min(pr, key=pr.get)])\n",
        "print('max',pr[max(pr, key=pr.get)])\n",
        "print('mean',float(sum(pr.values())) / len(pr))"
      ],
      "execution_count": 0,
      "outputs": [
        {
          "output_type": "stream",
          "text": [
            "min 1.6556497245737814e-07\n",
            "max 2.7098251341935827e-05\n",
            "mean 5.615699699389075e-07\n"
          ],
          "name": "stdout"
        }
      ]
    },
    {
      "cell_type": "code",
      "metadata": {
        "id": "vlLnM2rTI1ol",
        "colab_type": "code",
        "outputId": "4a3321d5-7b11-4993-a369-3d78dc637e82",
        "colab": {
          "base_uri": "https://localhost:8080/",
          "height": 34
        }
      },
      "source": [
        "#for imputing to nodes which are not there in Train data\n",
        "mean_pr = float(sum(pr.values())) / len(pr)\n",
        "print(mean_pr)"
      ],
      "execution_count": 0,
      "outputs": [
        {
          "output_type": "stream",
          "text": [
            "5.615699699389075e-07\n"
          ],
          "name": "stdout"
        }
      ]
    },
    {
      "cell_type": "markdown",
      "metadata": {
        "id": "hpmNPKjjI1os",
        "colab_type": "text"
      },
      "source": [
        "# 4. Other Graph Features"
      ]
    },
    {
      "cell_type": "markdown",
      "metadata": {
        "id": "cXHosqIKI1ov",
        "colab_type": "text"
      },
      "source": [
        "## 4.1 Shortest path:"
      ]
    },
    {
      "cell_type": "markdown",
      "metadata": {
        "id": "afRGP2_fI1ox",
        "colab_type": "text"
      },
      "source": [
        "Getting Shortest path between twoo nodes, if nodes have direct path i.e directly connected then we are removing that edge and calculating path. "
      ]
    },
    {
      "cell_type": "code",
      "metadata": {
        "id": "zwlssVmHI1o0",
        "colab_type": "code",
        "colab": {}
      },
      "source": [
        "#if has direct edge then deleting that edge and calculating shortest path\n",
        "def compute_shortest_path_length(a,b):\n",
        "    p=-1\n",
        "    try:\n",
        "        if train_graph.has_edge(a,b):\n",
        "            train_graph.remove_edge(a,b)\n",
        "            p= nx.shortest_path_length(train_graph,source=a,target=b)\n",
        "            train_graph.add_edge(a,b)\n",
        "        else:\n",
        "            p= nx.shortest_path_length(train_graph,source=a,target=b)\n",
        "        return p\n",
        "    except:\n",
        "        return -1"
      ],
      "execution_count": 0,
      "outputs": []
    },
    {
      "cell_type": "code",
      "metadata": {
        "id": "S-qN6aBzI1o6",
        "colab_type": "code",
        "outputId": "0723be77-2575-424d-8452-4ac69ebefaac",
        "colab": {
          "base_uri": "https://localhost:8080/",
          "height": 34
        }
      },
      "source": [
        "#testing\n",
        "compute_shortest_path_length(77697, 826021)"
      ],
      "execution_count": 0,
      "outputs": [
        {
          "output_type": "execute_result",
          "data": {
            "text/plain": [
              "10"
            ]
          },
          "metadata": {
            "tags": []
          },
          "execution_count": 47
        }
      ]
    },
    {
      "cell_type": "code",
      "metadata": {
        "id": "xGLfM7bbI1pA",
        "colab_type": "code",
        "outputId": "aa98cdeb-c487-42a5-8b69-4b78af30a816",
        "colab": {
          "base_uri": "https://localhost:8080/",
          "height": 34
        }
      },
      "source": [
        "#testing\n",
        "compute_shortest_path_length(669354,1635354)"
      ],
      "execution_count": 0,
      "outputs": [
        {
          "output_type": "execute_result",
          "data": {
            "text/plain": [
              "-1"
            ]
          },
          "metadata": {
            "tags": []
          },
          "execution_count": 48
        }
      ]
    },
    {
      "cell_type": "markdown",
      "metadata": {
        "id": "wTVX8zb2I1pI",
        "colab_type": "text"
      },
      "source": [
        "## 4.2 Checking for same community"
      ]
    },
    {
      "cell_type": "code",
      "metadata": {
        "id": "zF9plzhHI1pJ",
        "colab_type": "code",
        "colab": {}
      },
      "source": [
        "#getting weekly connected edges from graph \n",
        "wcc=list(nx.weakly_connected_components(train_graph))\n",
        "def belongs_to_same_wcc(a,b):\n",
        "    index = []\n",
        "    if train_graph.has_edge(b,a):\n",
        "        return 1\n",
        "    if train_graph.has_edge(a,b):\n",
        "            for i in wcc:\n",
        "                if a in i:\n",
        "                    index= i\n",
        "                    break\n",
        "            if (b in index):\n",
        "                train_graph.remove_edge(a,b)\n",
        "                if compute_shortest_path_length(a,b)==-1:\n",
        "                    train_graph.add_edge(a,b)\n",
        "                    return 0\n",
        "                else:\n",
        "                    train_graph.add_edge(a,b)\n",
        "                    return 1\n",
        "            else:\n",
        "                return 0\n",
        "    else:\n",
        "            for i in wcc:\n",
        "                if a in i:\n",
        "                    index= i\n",
        "                    break\n",
        "            if(b in index):\n",
        "                return 1\n",
        "            else:\n",
        "                return 0"
      ],
      "execution_count": 0,
      "outputs": []
    },
    {
      "cell_type": "code",
      "metadata": {
        "id": "qvuvmAyiI1pP",
        "colab_type": "code",
        "outputId": "3d02ab06-8aee-4f69-ce94-6cbdfdc2088f",
        "colab": {
          "base_uri": "https://localhost:8080/",
          "height": 34
        }
      },
      "source": [
        "belongs_to_same_wcc(861, 1659750)"
      ],
      "execution_count": 0,
      "outputs": [
        {
          "output_type": "execute_result",
          "data": {
            "text/plain": [
              "0"
            ]
          },
          "metadata": {
            "tags": []
          },
          "execution_count": 50
        }
      ]
    },
    {
      "cell_type": "code",
      "metadata": {
        "id": "e9kdEykdI1pZ",
        "colab_type": "code",
        "outputId": "50e5d990-f794-4371-e695-404e7883b6de",
        "colab": {
          "base_uri": "https://localhost:8080/",
          "height": 34
        }
      },
      "source": [
        "belongs_to_same_wcc(669354,1635354)"
      ],
      "execution_count": 0,
      "outputs": [
        {
          "output_type": "execute_result",
          "data": {
            "text/plain": [
              "0"
            ]
          },
          "metadata": {
            "tags": []
          },
          "execution_count": 51
        }
      ]
    },
    {
      "cell_type": "markdown",
      "metadata": {
        "id": "9UVmW1ClI1pc",
        "colab_type": "text"
      },
      "source": [
        "## 4.3 Adamic/Adar Index:\n",
        "Adamic/Adar measures is defined as inverted sum of degrees of common neighbours for given two vertices.\n",
        "$$A(x,y)=\\sum_{u \\in N(x) \\cap N(y)}\\frac{1}{log(|N(u)|)}$$"
      ]
    },
    {
      "cell_type": "code",
      "metadata": {
        "id": "-I0lb4eiI1pd",
        "colab_type": "code",
        "colab": {}
      },
      "source": [
        "#adar index\n",
        "def calc_adar_in(a,b):\n",
        "    sum=0\n",
        "    try:\n",
        "        n=list(set(train_graph.successors(a)).intersection(set(train_graph.successors(b))))\n",
        "        if len(n)!=0:\n",
        "            for i in n:\n",
        "                sum=sum+(1/np.log10(len(list(train_graph.predecessors(i)))))\n",
        "            return sum\n",
        "        else:\n",
        "            return 0\n",
        "    except:\n",
        "        return 0"
      ],
      "execution_count": 0,
      "outputs": []
    },
    {
      "cell_type": "code",
      "metadata": {
        "id": "oz4n_gnOI1pn",
        "colab_type": "code",
        "outputId": "25f8bc87-208d-4af9-a992-317584eb0066",
        "colab": {
          "base_uri": "https://localhost:8080/",
          "height": 34
        }
      },
      "source": [
        "calc_adar_in(1,189226)"
      ],
      "execution_count": 0,
      "outputs": [
        {
          "output_type": "execute_result",
          "data": {
            "text/plain": [
              "0"
            ]
          },
          "metadata": {
            "tags": []
          },
          "execution_count": 53
        }
      ]
    },
    {
      "cell_type": "code",
      "metadata": {
        "id": "OnsaIBP0I1pu",
        "colab_type": "code",
        "outputId": "24b25577-1711-4f6e-b693-53061d46c38a",
        "colab": {
          "base_uri": "https://localhost:8080/",
          "height": 34
        }
      },
      "source": [
        "calc_adar_in(669354,1635354)"
      ],
      "execution_count": 0,
      "outputs": [
        {
          "output_type": "execute_result",
          "data": {
            "text/plain": [
              "0"
            ]
          },
          "metadata": {
            "tags": []
          },
          "execution_count": 54
        }
      ]
    },
    {
      "cell_type": "markdown",
      "metadata": {
        "id": "qyiXTh48I1pz",
        "colab_type": "text"
      },
      "source": [
        "## 4.4 Is persion was following back:"
      ]
    },
    {
      "cell_type": "code",
      "metadata": {
        "id": "d1DJlrNdI1p1",
        "colab_type": "code",
        "colab": {}
      },
      "source": [
        "def follows_back(a,b):\n",
        "    if train_graph.has_edge(b,a):\n",
        "        return 1\n",
        "    else:\n",
        "        return 0"
      ],
      "execution_count": 0,
      "outputs": []
    },
    {
      "cell_type": "code",
      "metadata": {
        "id": "gvSWEi6FI1p4",
        "colab_type": "code",
        "outputId": "961af0db-e8c7-4e1f-c71e-0adb0f56fd69",
        "colab": {
          "base_uri": "https://localhost:8080/",
          "height": 34
        }
      },
      "source": [
        "follows_back(1,189226)"
      ],
      "execution_count": 0,
      "outputs": [
        {
          "output_type": "execute_result",
          "data": {
            "text/plain": [
              "1"
            ]
          },
          "metadata": {
            "tags": []
          },
          "execution_count": 56
        }
      ]
    },
    {
      "cell_type": "code",
      "metadata": {
        "id": "oZU8gQTeI1p-",
        "colab_type": "code",
        "outputId": "03e205cf-632c-4dc2-c8a4-9e5fa2f6035f",
        "colab": {
          "base_uri": "https://localhost:8080/",
          "height": 34
        }
      },
      "source": [
        "follows_back(669354,1635354)"
      ],
      "execution_count": 0,
      "outputs": [
        {
          "output_type": "execute_result",
          "data": {
            "text/plain": [
              "0"
            ]
          },
          "metadata": {
            "tags": []
          },
          "execution_count": 57
        }
      ]
    },
    {
      "cell_type": "markdown",
      "metadata": {
        "id": "I3UqBMbDI1qP",
        "colab_type": "text"
      },
      "source": [
        "## 4.5 Katz Centrality:\n",
        "https://en.wikipedia.org/wiki/Katz_centrality\n",
        "\n",
        "https://www.geeksforgeeks.org/katz-centrality-centrality-measure/\n",
        " Katz centrality computes the centrality for a node \n",
        "    based on the centrality of its neighbors. It is a \n",
        "    generalization of the eigenvector centrality. The\n",
        "    Katz centrality for node `i` is\n",
        " \n",
        "$$x_i = \\alpha \\sum_{j} A_{ij} x_j + \\beta,$$\n",
        "where `A` is the adjacency matrix of the graph G \n",
        "with eigenvalues $$\\lambda$$.\n",
        "\n",
        "The parameter $$\\beta$$ controls the initial centrality and \n",
        "\n",
        "$$\\alpha < \\frac{1}{\\lambda_{max}}.$$"
      ]
    },
    {
      "cell_type": "code",
      "metadata": {
        "id": "llG5dwb0I1qS",
        "colab_type": "code",
        "colab": {}
      },
      "source": [
        "if not os.path.isfile('drive/My Drive/Facebook/data/fea_sample/katz.p'):\n",
        "    katz = nx.katz.katz_centrality(train_graph,alpha=0.005,beta=1)\n",
        "    pickle.dump(katz,open('drive/My Drive/Facebook/data/fea_sample/katz.p','wb'))\n",
        "else:\n",
        "    katz = pickle.load(open('drive/My Drive/Facebook/data/fea_sample/katz.p','rb'))"
      ],
      "execution_count": 0,
      "outputs": []
    },
    {
      "cell_type": "code",
      "metadata": {
        "id": "oqHKfZgxI1qa",
        "colab_type": "code",
        "outputId": "f2396b78-dde0-4d57-8b5c-09c15527e0cd",
        "colab": {
          "base_uri": "https://localhost:8080/",
          "height": 70
        }
      },
      "source": [
        "print('min',katz[min(katz, key=katz.get)])\n",
        "print('max',katz[max(katz, key=katz.get)])\n",
        "print('mean',float(sum(katz.values())) / len(katz))"
      ],
      "execution_count": 0,
      "outputs": [
        {
          "output_type": "stream",
          "text": [
            "min 0.0007313532484065916\n",
            "max 0.003394554981699122\n",
            "mean 0.0007483800935562018\n"
          ],
          "name": "stdout"
        }
      ]
    },
    {
      "cell_type": "code",
      "metadata": {
        "id": "6Pa-oqM5I1qi",
        "colab_type": "code",
        "outputId": "5f01effe-a5cf-4762-f19c-4d7b19042e31",
        "colab": {
          "base_uri": "https://localhost:8080/",
          "height": 34
        }
      },
      "source": [
        "mean_katz = float(sum(katz.values())) / len(katz)\n",
        "\n",
        "print(mean_katz)"
      ],
      "execution_count": 0,
      "outputs": [
        {
          "output_type": "stream",
          "text": [
            "0.0007483800935562018\n"
          ],
          "name": "stdout"
        }
      ]
    },
    {
      "cell_type": "markdown",
      "metadata": {
        "id": "OO5jztbxI1qo",
        "colab_type": "text"
      },
      "source": [
        "## 4.6 Hits Score\n",
        "The HITS algorithm computes two numbers for a node. Authorities estimates the node value based on the incoming links. Hubs estimates the node value based on outgoing links.\n",
        "\n",
        "https://en.wikipedia.org/wiki/HITS_algorithm"
      ]
    },
    {
      "cell_type": "code",
      "metadata": {
        "id": "2ysw-25II1qq",
        "colab_type": "code",
        "colab": {}
      },
      "source": [
        "if not os.path.isfile('drive/My Drive/Facebook/data/fea_sample/hits.p'):\n",
        "    hits = nx.hits(train_graph, max_iter=100, tol=1e-08, nstart=None, normalized=True)\n",
        "    pickle.dump(hits,open('drive/My Drive/Facebook/data/fea_sample/hits.p','wb'))\n",
        "else:\n",
        "    hits = pickle.load(open('drive/My Drive/Facebook/data/fea_sample/hits.p','rb'))"
      ],
      "execution_count": 0,
      "outputs": []
    },
    {
      "cell_type": "code",
      "metadata": {
        "id": "_hSh-TEvI1qw",
        "colab_type": "code",
        "colab": {
          "base_uri": "https://localhost:8080/",
          "height": 70
        },
        "outputId": "2d546cd0-9b95-4b78-a7f7-c00f9b1a291c"
      },
      "source": [
        "print('min',hits[0][min(hits[0], key=hits[0].get)])\n",
        "print('max',hits[0][max(hits[0], key=hits[0].get)])\n",
        "print('mean',float(sum(hits[0].values())) / len(hits[0]))"
      ],
      "execution_count": 8,
      "outputs": [
        {
          "output_type": "stream",
          "text": [
            "min 0.0\n",
            "max 0.004868653378780953\n",
            "mean 5.615699699344123e-07\n"
          ],
          "name": "stdout"
        }
      ]
    },
    {
      "cell_type": "markdown",
      "metadata": {
        "id": "_fC5T3DJI1q7",
        "colab_type": "text"
      },
      "source": [
        "# 5. Featurization"
      ]
    },
    {
      "cell_type": "markdown",
      "metadata": {
        "id": "ac4lNVwtI1q-",
        "colab_type": "text"
      },
      "source": [
        "## 5. 1 Reading a sample of Data from both train and test"
      ]
    },
    {
      "cell_type": "code",
      "metadata": {
        "id": "-11PI8stI1rF",
        "colab_type": "code",
        "colab": {}
      },
      "source": [
        "import random\n",
        "if os.path.isfile('drive/My Drive/Facebook/data/after_eda/train_after_eda.csv'):\n",
        "    filename = \"drive/My Drive/Facebook/data/after_eda/train_after_eda.csv\"\n",
        "    # you uncomment this line, if you dont know the lentgh of the file name\n",
        "    # here we have hardcoded the number of lines as 15100030\n",
        "    # n_train = sum(1 for line in open(filename)) #number of records in file (excludes header)\n",
        "    n_train =  15100028\n",
        "    s = 100000 #desired sample size\n",
        "    skip_train = sorted(random.sample(range(1,n_train+1),n_train-s))\n",
        "    #https://stackoverflow.com/a/22259008/4084039"
      ],
      "execution_count": 0,
      "outputs": []
    },
    {
      "cell_type": "code",
      "metadata": {
        "id": "uIWptG0DI1rR",
        "colab_type": "code",
        "colab": {
          "base_uri": "https://localhost:8080/",
          "height": 34
        },
        "outputId": "39afc926-dd42-412f-83d1-565addb486b0"
      },
      "source": [
        "len(skip_train)"
      ],
      "execution_count": 10,
      "outputs": [
        {
          "output_type": "execute_result",
          "data": {
            "text/plain": [
              "15000028"
            ]
          },
          "metadata": {
            "tags": []
          },
          "execution_count": 10
        }
      ]
    },
    {
      "cell_type": "code",
      "metadata": {
        "id": "2GdVo29pI1rg",
        "colab_type": "code",
        "colab": {}
      },
      "source": [
        "if os.path.isfile('drive/My Drive/Facebook/data/after_eda/train_after_eda.csv'):\n",
        "    filename = \"drive/My Drive/Facebook/data/after_eda/test_after_eda.csv\"\n",
        "    # you uncomment this line, if you dont know the lentgh of the file name\n",
        "    # here we have hardcoded the number of lines as 3775008\n",
        "    # n_test = sum(1 for line in open(filename)) #number of records in file (excludes header)\n",
        "    n_test = 3775006\n",
        "    s = 50000 #desired sample size\n",
        "    skip_test = sorted(random.sample(range(1,n_test+1),n_test-s))\n",
        "    #https://stackoverflow.com/a/22259008/4084039"
      ],
      "execution_count": 0,
      "outputs": []
    },
    {
      "cell_type": "code",
      "metadata": {
        "id": "YN0t6ADKI1rt",
        "colab_type": "code",
        "outputId": "007cfe0f-22f4-4a63-e5ee-03a35ebcc1f8",
        "colab": {
          "base_uri": "https://localhost:8080/",
          "height": 87
        }
      },
      "source": [
        "print(\"Number of rows in the train data file:\", n_train)\n",
        "print(\"Number of rows we are going to elimiate in train data are\",len(skip_train))\n",
        "print(\"Number of rows in the test data file:\", n_test)\n",
        "print(\"Number of rows we are going to elimiate in test data are\",len(skip_test))"
      ],
      "execution_count": 14,
      "outputs": [
        {
          "output_type": "stream",
          "text": [
            "Number of rows in the train data file: 15100028\n",
            "Number of rows we are going to elimiate in train data are 15000028\n",
            "Number of rows in the test data file: 3775006\n",
            "Number of rows we are going to elimiate in test data are 3725006\n"
          ],
          "name": "stdout"
        }
      ]
    },
    {
      "cell_type": "code",
      "metadata": {
        "id": "z2qAU4IdI1r9",
        "colab_type": "code",
        "outputId": "ad8e224e-77ae-4e0a-ece8-59d4eca297b9",
        "colab": {
          "base_uri": "https://localhost:8080/",
          "height": 125
        }
      },
      "source": [
        "df_final_train = pd.read_csv('drive/My Drive/Facebook/data/after_eda/train_after_eda.csv', skiprows=skip_train, names=['source_node', 'destination_node'])\n",
        "df_final_train['indicator_link'] = pd.read_csv('drive/My Drive/Facebook/data/train_y.csv', skiprows=skip_train, names=['indicator_link'])\n",
        "print(\"Our train matrix size \",df_final_train.shape)\n",
        "df_final_train.head(2)"
      ],
      "execution_count": 15,
      "outputs": [
        {
          "output_type": "stream",
          "text": [
            "Our train matrix size  (100002, 3)\n"
          ],
          "name": "stdout"
        },
        {
          "output_type": "execute_result",
          "data": {
            "text/html": [
              "<div>\n",
              "<style scoped>\n",
              "    .dataframe tbody tr th:only-of-type {\n",
              "        vertical-align: middle;\n",
              "    }\n",
              "\n",
              "    .dataframe tbody tr th {\n",
              "        vertical-align: top;\n",
              "    }\n",
              "\n",
              "    .dataframe thead th {\n",
              "        text-align: right;\n",
              "    }\n",
              "</style>\n",
              "<table border=\"1\" class=\"dataframe\">\n",
              "  <thead>\n",
              "    <tr style=\"text-align: right;\">\n",
              "      <th></th>\n",
              "      <th>source_node</th>\n",
              "      <th>destination_node</th>\n",
              "      <th>indicator_link</th>\n",
              "    </tr>\n",
              "  </thead>\n",
              "  <tbody>\n",
              "    <tr>\n",
              "      <th>0</th>\n",
              "      <td>273084</td>\n",
              "      <td>1505602</td>\n",
              "      <td>1</td>\n",
              "    </tr>\n",
              "    <tr>\n",
              "      <th>1</th>\n",
              "      <td>170193</td>\n",
              "      <td>1034617</td>\n",
              "      <td>1</td>\n",
              "    </tr>\n",
              "  </tbody>\n",
              "</table>\n",
              "</div>"
            ],
            "text/plain": [
              "   source_node  destination_node  indicator_link\n",
              "0       273084           1505602               1\n",
              "1       170193           1034617               1"
            ]
          },
          "metadata": {
            "tags": []
          },
          "execution_count": 15
        }
      ]
    },
    {
      "cell_type": "code",
      "metadata": {
        "id": "jsxD6XtFI1sF",
        "colab_type": "code",
        "outputId": "118f1962-443a-4190-d5e4-76ea03ebbc84",
        "colab": {
          "base_uri": "https://localhost:8080/",
          "height": 125
        }
      },
      "source": [
        "df_final_test = pd.read_csv('drive/My Drive/Facebook/data/after_eda/test_after_eda.csv', skiprows=skip_test, names=['source_node', 'destination_node'])\n",
        "df_final_test['indicator_link'] = pd.read_csv('drive/My Drive/Facebook/data/test_y.csv', skiprows=skip_test, names=['indicator_link'])\n",
        "print(\"Our test matrix size \",df_final_test.shape)\n",
        "df_final_test.head(2)"
      ],
      "execution_count": 16,
      "outputs": [
        {
          "output_type": "stream",
          "text": [
            "Our test matrix size  (50002, 3)\n"
          ],
          "name": "stdout"
        },
        {
          "output_type": "execute_result",
          "data": {
            "text/html": [
              "<div>\n",
              "<style scoped>\n",
              "    .dataframe tbody tr th:only-of-type {\n",
              "        vertical-align: middle;\n",
              "    }\n",
              "\n",
              "    .dataframe tbody tr th {\n",
              "        vertical-align: top;\n",
              "    }\n",
              "\n",
              "    .dataframe thead th {\n",
              "        text-align: right;\n",
              "    }\n",
              "</style>\n",
              "<table border=\"1\" class=\"dataframe\">\n",
              "  <thead>\n",
              "    <tr style=\"text-align: right;\">\n",
              "      <th></th>\n",
              "      <th>source_node</th>\n",
              "      <th>destination_node</th>\n",
              "      <th>indicator_link</th>\n",
              "    </tr>\n",
              "  </thead>\n",
              "  <tbody>\n",
              "    <tr>\n",
              "      <th>0</th>\n",
              "      <td>848424</td>\n",
              "      <td>784690</td>\n",
              "      <td>1</td>\n",
              "    </tr>\n",
              "    <tr>\n",
              "      <th>1</th>\n",
              "      <td>1552352</td>\n",
              "      <td>330406</td>\n",
              "      <td>1</td>\n",
              "    </tr>\n",
              "  </tbody>\n",
              "</table>\n",
              "</div>"
            ],
            "text/plain": [
              "   source_node  destination_node  indicator_link\n",
              "0       848424            784690               1\n",
              "1      1552352            330406               1"
            ]
          },
          "metadata": {
            "tags": []
          },
          "execution_count": 16
        }
      ]
    },
    {
      "cell_type": "markdown",
      "metadata": {
        "id": "A7VqET07I1sP",
        "colab_type": "text"
      },
      "source": [
        "## 5.2 Adding a set of features\n",
        "\n",
        "__we will create these each of these features for both train and test data points__\n",
        "<ol>\n",
        "<li>jaccard_followers</li>\n",
        "<li>jaccard_followees</li>\n",
        "<li>cosine_followers</li>\n",
        "<li>cosine_followees</li>\n",
        "<li>num_followers_s</li>\n",
        "<li>num_followees_s</li>\n",
        "<li>num_followers_d</li>\n",
        "<li>num_followees_d</li>\n",
        "<li>inter_followers</li>\n",
        "<li>inter_followees</li>\n",
        "</ol>"
      ]
    },
    {
      "cell_type": "code",
      "metadata": {
        "id": "GFq_cxwJI1sQ",
        "colab_type": "code",
        "colab": {}
      },
      "source": [
        "if not os.path.isfile('drive/My Drive/Facebook/data/fea_sample/storage_sample_stage1.h5'):\n",
        "    #mapping jaccrd followers to train and test data\n",
        "    df_final_train['jaccard_followers'] = df_final_train.apply(lambda row:\n",
        "                                            jaccard_for_followers(row['source_node'],row['destination_node']),axis=1)\n",
        "    df_final_test['jaccard_followers'] = df_final_test.apply(lambda row:\n",
        "                                            jaccard_for_followers(row['source_node'],row['destination_node']),axis=1)\n",
        "\n",
        "    #mapping jaccrd followees to train and test data\n",
        "    df_final_train['jaccard_followees'] = df_final_train.apply(lambda row:\n",
        "                                            jaccard_for_followees(row['source_node'],row['destination_node']),axis=1)\n",
        "    df_final_test['jaccard_followees'] = df_final_test.apply(lambda row:\n",
        "                                            jaccard_for_followees(row['source_node'],row['destination_node']),axis=1)\n",
        "    \n",
        "\n",
        "        #mapping jaccrd followers to train and test data\n",
        "    df_final_train['cosine_followers'] = df_final_train.apply(lambda row:\n",
        "                                            cosine_for_followers(row['source_node'],row['destination_node']),axis=1)\n",
        "    df_final_test['cosine_followers'] = df_final_test.apply(lambda row:\n",
        "                                            cosine_for_followers(row['source_node'],row['destination_node']),axis=1)\n",
        "\n",
        "    #mapping jaccrd followees to train and test data\n",
        "    df_final_train['cosine_followees'] = df_final_train.apply(lambda row:\n",
        "                                            cosine_for_followees(row['source_node'],row['destination_node']),axis=1)\n",
        "    df_final_test['cosine_followees'] = df_final_test.apply(lambda row:\n",
        "                                            cosine_for_followees(row['source_node'],row['destination_node']),axis=1)"
      ],
      "execution_count": 0,
      "outputs": []
    },
    {
      "cell_type": "code",
      "metadata": {
        "id": "QjHBjwygI1sU",
        "colab_type": "code",
        "colab": {}
      },
      "source": [
        "def compute_features_stage1(df_final):\n",
        "    #calculating no of followers followees for source and destination\n",
        "    #calculating intersection of followers and followees for source and destination\n",
        "    num_followers_s=[]\n",
        "    num_followees_s=[]\n",
        "    num_followers_d=[]\n",
        "    num_followees_d=[]\n",
        "    inter_followers=[]\n",
        "    inter_followees=[]\n",
        "    for i,row in df_final.iterrows():\n",
        "        try:\n",
        "            s1=set(train_graph.predecessors(row['source_node']))\n",
        "            s2=set(train_graph.successors(row['source_node']))\n",
        "        except:\n",
        "            s1 = set()\n",
        "            s2 = set()\n",
        "        try:\n",
        "            d1=set(train_graph.predecessors(row['destination_node']))\n",
        "            d2=set(train_graph.successors(row['destination_node']))\n",
        "        except:\n",
        "            d1 = set()\n",
        "            d2 = set()\n",
        "        num_followers_s.append(len(s1))\n",
        "        num_followees_s.append(len(s2))\n",
        "\n",
        "        num_followers_d.append(len(d1))\n",
        "        num_followees_d.append(len(d2))\n",
        "\n",
        "        inter_followers.append(len(s1.intersection(d1)))\n",
        "        inter_followees.append(len(s2.intersection(d2)))\n",
        "    \n",
        "    return num_followers_s, num_followers_d, num_followees_s, num_followees_d, inter_followers, inter_followees"
      ],
      "execution_count": 0,
      "outputs": []
    },
    {
      "cell_type": "code",
      "metadata": {
        "id": "8COHzOwuI1sY",
        "colab_type": "code",
        "colab": {}
      },
      "source": [
        "if not os.path.isfile('drive/My Drive/Facebook/data/fea_sample/storage_sample_stage1.h5'):\n",
        "    df_final_train['num_followers_s'], df_final_train['num_followers_d'], \\\n",
        "    df_final_train['num_followees_s'], df_final_train['num_followees_d'], \\\n",
        "    df_final_train['inter_followers'], df_final_train['inter_followees']= compute_features_stage1(df_final_train)\n",
        "    \n",
        "    df_final_test['num_followers_s'], df_final_test['num_followers_d'], \\\n",
        "    df_final_test['num_followees_s'], df_final_test['num_followees_d'], \\\n",
        "    df_final_test['inter_followers'], df_final_test['inter_followees']= compute_features_stage1(df_final_test)\n",
        "    \n",
        "    hdf = HDFStore('drive/My Drive/Facebook/data/fea_sample/storage_sample_stage1.h5')\n",
        "    hdf.put('train_df',df_final_train, format='table', data_columns=True)\n",
        "    hdf.put('test_df',df_final_test, format='table', data_columns=True)\n",
        "    hdf.close()\n",
        "else:\n",
        "    df_final_train = read_hdf('drive/My Drive/Facebook/data/fea_sample/storage_sample_stage1.h5', 'train_df',mode='r')\n",
        "    df_final_test = read_hdf('drive/My Drive/Facebook/data/fea_sample/storage_sample_stage1.h5', 'test_df',mode='r')"
      ],
      "execution_count": 0,
      "outputs": []
    },
    {
      "cell_type": "markdown",
      "metadata": {
        "id": "6RfmhfA3I1sd",
        "colab_type": "text"
      },
      "source": [
        "## 5.3 Adding new set of features\n",
        "\n",
        "__we will create these each of these features for both train and test data points__\n",
        "<ol>\n",
        "<li>adar index</li>\n",
        "<li>is following back</li>\n",
        "<li>belongs to same weakly connect components</li>\n",
        "<li>shortest path between source and destination</li>\n",
        "</ol>"
      ]
    },
    {
      "cell_type": "code",
      "metadata": {
        "id": "Sxyy3_prI1se",
        "colab_type": "code",
        "colab": {}
      },
      "source": [
        "if not os.path.isfile('drive/My Drive/Facebook/data/fea_sample/storage_sample_stage2.h5'):\n",
        "    #mapping adar index on train\n",
        "    df_final_train['adar_index'] = df_final_train.apply(lambda row: calc_adar_in(row['source_node'],row['destination_node']),axis=1)\n",
        "    #mapping adar index on test\n",
        "    df_final_test['adar_index'] = df_final_test.apply(lambda row: calc_adar_in(row['source_node'],row['destination_node']),axis=1)\n",
        "\n",
        "    #--------------------------------------------------------------------------------------------------------\n",
        "    #mapping followback or not on train\n",
        "    df_final_train['follows_back'] = df_final_train.apply(lambda row: follows_back(row['source_node'],row['destination_node']),axis=1)\n",
        "\n",
        "    #mapping followback or not on test\n",
        "    df_final_test['follows_back'] = df_final_test.apply(lambda row: follows_back(row['source_node'],row['destination_node']),axis=1)\n",
        "\n",
        "    #--------------------------------------------------------------------------------------------------------\n",
        "    #mapping same component of wcc or not on train\n",
        "    df_final_train['same_comp'] = df_final_train.apply(lambda row: belongs_to_same_wcc(row['source_node'],row['destination_node']),axis=1)\n",
        "\n",
        "    ##mapping same component of wcc or not on train\n",
        "    df_final_test['same_comp'] = df_final_test.apply(lambda row: belongs_to_same_wcc(row['source_node'],row['destination_node']),axis=1)\n",
        "    \n",
        "    #--------------------------------------------------------------------------------------------------------\n",
        "    #mapping shortest path on train \n",
        "    df_final_train['shortest_path'] = df_final_train.apply(lambda row: compute_shortest_path_length(row['source_node'],row['destination_node']),axis=1)\n",
        "    #mapping shortest path on test\n",
        "    df_final_test['shortest_path'] = df_final_test.apply(lambda row: compute_shortest_path_length(row['source_node'],row['destination_node']),axis=1)\n",
        "\n",
        "    hdf = HDFStore('drive/My Drive/Facebook/data/fea_sample/storage_sample_stage2.h5')\n",
        "    hdf.put('train_df',df_final_train, format='table', data_columns=True)\n",
        "    hdf.put('test_df',df_final_test, format='table', data_columns=True)\n",
        "    hdf.close()\n",
        "else:\n",
        "    df_final_train = read_hdf('drive/My Drive/Facebook/data/fea_sample/storage_sample_stage2.h5', 'train_df',mode='r')\n",
        "    df_final_test = read_hdf('drive/My Drive/Facebook/data/fea_sample/storage_sample_stage2.h5', 'test_df',mode='r')"
      ],
      "execution_count": 0,
      "outputs": []
    },
    {
      "cell_type": "markdown",
      "metadata": {
        "id": "1wubR6_xI1sl",
        "colab_type": "text"
      },
      "source": [
        "## 5.4 Adding new set of features\n",
        "\n",
        "__we will create these each of these features for both train and test data points__\n",
        "<ol>\n",
        "<li>Weight Features\n",
        "    <ul>\n",
        "        <li>weight of incoming edges</li>\n",
        "        <li>weight of outgoing edges</li>\n",
        "        <li>weight of incoming edges + weight of outgoing edges</li>\n",
        "        <li>weight of incoming edges * weight of outgoing edges</li>\n",
        "        <li>2*weight of incoming edges + weight of outgoing edges</li>\n",
        "        <li>weight of incoming edges + 2*weight of outgoing edges</li>\n",
        "    </ul>\n",
        "</li>\n",
        "<li>Page Ranking of source</li>\n",
        "<li>Page Ranking of dest</li>\n",
        "<li>katz of source</li>\n",
        "<li>katz of dest</li>\n",
        "<li>hubs of source</li>\n",
        "<li>hubs of dest</li>\n",
        "<li>authorities_s of source</li>\n",
        "<li>authorities_s of dest</li>\n",
        "</ol>"
      ]
    },
    {
      "cell_type": "markdown",
      "metadata": {
        "id": "_umgVRCUI1sm",
        "colab_type": "text"
      },
      "source": [
        "#### Weight Features"
      ]
    },
    {
      "cell_type": "markdown",
      "metadata": {
        "id": "Dl2ogU4zI1so",
        "colab_type": "text"
      },
      "source": [
        "In order to determine the similarity of nodes, an edge weight value was calculated between nodes. Edge weight decreases as the neighbor count goes up. Intuitively, consider one million people following a celebrity on a social network then chances are most of them never met each other or the celebrity. On the other hand, if a user has 30 contacts in his/her social network, the chances are higher that many of them know each other. \n",
        "`credit` - Graph-based Features for Supervised Link Prediction\n",
        "William Cukierski, Benjamin Hamner, Bo Yang"
      ]
    },
    {
      "cell_type": "markdown",
      "metadata": {
        "id": "m4TWOEYRI1sq",
        "colab_type": "text"
      },
      "source": [
        "\\begin{equation}\n",
        "W = \\frac{1}{\\sqrt{1+|X|}}\n",
        "\\end{equation}"
      ]
    },
    {
      "cell_type": "markdown",
      "metadata": {
        "id": "c72QAx1nI1ss",
        "colab_type": "text"
      },
      "source": [
        "it is directed graph so calculated Weighted in and Weighted out differently"
      ]
    },
    {
      "cell_type": "code",
      "metadata": {
        "id": "ftgdl1-qI1sy",
        "colab_type": "code",
        "outputId": "cca1700e-039d-4e4a-f865-08e31007ff8b",
        "colab": {
          "base_uri": "https://localhost:8080/",
          "height": 34
        }
      },
      "source": [
        "#weight for source and destination of each link\n",
        "Weight_in = {}\n",
        "Weight_out = {}\n",
        "for i in  tqdm(train_graph.nodes()):\n",
        "    s1=set(train_graph.predecessors(i))\n",
        "    w_in = 1.0/(np.sqrt(1+len(s1)))\n",
        "    Weight_in[i]=w_in\n",
        "    \n",
        "    s2=set(train_graph.successors(i))\n",
        "    w_out = 1.0/(np.sqrt(1+len(s2)))\n",
        "    Weight_out[i]=w_out\n",
        "    \n",
        "#for imputing with mean\n",
        "mean_weight_in = np.mean(list(Weight_in.values()))\n",
        "mean_weight_out = np.mean(list(Weight_out.values()))"
      ],
      "execution_count": 27,
      "outputs": [
        {
          "output_type": "stream",
          "text": [
            "100%|██████████| 1780722/1780722 [00:20<00:00, 88364.55it/s] \n"
          ],
          "name": "stderr"
        }
      ]
    },
    {
      "cell_type": "code",
      "metadata": {
        "id": "VmgjIdtII1s8",
        "colab_type": "code",
        "colab": {}
      },
      "source": [
        "if not os.path.isfile('drive/My Drive/Facebook/data/fea_sample/storage_sample_stage3.h5'):\n",
        "    #mapping to pandas train\n",
        "    df_final_train['weight_in'] = df_final_train.destination_node.apply(lambda x: Weight_in.get(x,mean_weight_in))\n",
        "    df_final_train['weight_out'] = df_final_train.source_node.apply(lambda x: Weight_out.get(x,mean_weight_out))\n",
        "\n",
        "    #mapping to pandas test\n",
        "    df_final_test['weight_in'] = df_final_test.destination_node.apply(lambda x: Weight_in.get(x,mean_weight_in))\n",
        "    df_final_test['weight_out'] = df_final_test.source_node.apply(lambda x: Weight_out.get(x,mean_weight_out))\n",
        "\n",
        "\n",
        "    #some features engineerings on the in and out weights\n",
        "    df_final_train['weight_f1'] = df_final_train.weight_in + df_final_train.weight_out\n",
        "    df_final_train['weight_f2'] = df_final_train.weight_in * df_final_train.weight_out\n",
        "    df_final_train['weight_f3'] = (2*df_final_train.weight_in + 1*df_final_train.weight_out)\n",
        "    df_final_train['weight_f4'] = (1*df_final_train.weight_in + 2*df_final_train.weight_out)\n",
        "\n",
        "    #some features engineerings on the in and out weights\n",
        "    df_final_test['weight_f1'] = df_final_test.weight_in + df_final_test.weight_out\n",
        "    df_final_test['weight_f2'] = df_final_test.weight_in * df_final_test.weight_out\n",
        "    df_final_test['weight_f3'] = (2*df_final_test.weight_in + 1*df_final_test.weight_out)\n",
        "    df_final_test['weight_f4'] = (1*df_final_test.weight_in + 2*df_final_test.weight_out)"
      ],
      "execution_count": 0,
      "outputs": []
    },
    {
      "cell_type": "code",
      "metadata": {
        "id": "BWJihSfCI1tA",
        "colab_type": "code",
        "colab": {}
      },
      "source": [
        "if not os.path.isfile('drive/My Drive/Facebook/data/fea_sample/storage_sample_stage3.h5'):\n",
        "    \n",
        "    #page rank for source and destination in Train and Test\n",
        "    #if anything not there in train graph then adding mean page rank \n",
        "    df_final_train['page_rank_s'] = df_final_train.source_node.apply(lambda x:pr.get(x,mean_pr))\n",
        "    df_final_train['page_rank_d'] = df_final_train.destination_node.apply(lambda x:pr.get(x,mean_pr))\n",
        "\n",
        "    df_final_test['page_rank_s'] = df_final_test.source_node.apply(lambda x:pr.get(x,mean_pr))\n",
        "    df_final_test['page_rank_d'] = df_final_test.destination_node.apply(lambda x:pr.get(x,mean_pr))\n",
        "    #================================================================================\n",
        "\n",
        "    #Katz centrality score for source and destination in Train and test\n",
        "    #if anything not there in train graph then adding mean katz score\n",
        "    df_final_train['katz_s'] = df_final_train.source_node.apply(lambda x: katz.get(x,mean_katz))\n",
        "    df_final_train['katz_d'] = df_final_train.destination_node.apply(lambda x: katz.get(x,mean_katz))\n",
        "\n",
        "    df_final_test['katz_s'] = df_final_test.source_node.apply(lambda x: katz.get(x,mean_katz))\n",
        "    df_final_test['katz_d'] = df_final_test.destination_node.apply(lambda x: katz.get(x,mean_katz))\n",
        "    #================================================================================\n",
        "\n",
        "    #Hits algorithm score for source and destination in Train and test\n",
        "    #if anything not there in train graph then adding 0\n",
        "    df_final_train['hubs_s'] = df_final_train.source_node.apply(lambda x: hits[0].get(x,0))\n",
        "    df_final_train['hubs_d'] = df_final_train.destination_node.apply(lambda x: hits[0].get(x,0))\n",
        "\n",
        "    df_final_test['hubs_s'] = df_final_test.source_node.apply(lambda x: hits[0].get(x,0))\n",
        "    df_final_test['hubs_d'] = df_final_test.destination_node.apply(lambda x: hits[0].get(x,0))\n",
        "    #================================================================================\n",
        "\n",
        "    #Hits algorithm score for source and destination in Train and Test\n",
        "    #if anything not there in train graph then adding 0\n",
        "    df_final_train['authorities_s'] = df_final_train.source_node.apply(lambda x: hits[1].get(x,0))\n",
        "    df_final_train['authorities_d'] = df_final_train.destination_node.apply(lambda x: hits[1].get(x,0))\n",
        "\n",
        "    df_final_test['authorities_s'] = df_final_test.source_node.apply(lambda x: hits[1].get(x,0))\n",
        "    df_final_test['authorities_d'] = df_final_test.destination_node.apply(lambda x: hits[1].get(x,0))\n",
        "    #================================================================================\n",
        "\n",
        "    hdf = HDFStore('drive/My Drive/Facebook/data/fea_sample/storage_sample_stage3.h5')\n",
        "    hdf.put('train_df',df_final_train, format='table', data_columns=True)\n",
        "    hdf.put('test_df',df_final_test, format='table', data_columns=True)\n",
        "    hdf.close()\n",
        "else:\n",
        "    df_final_train = read_hdf('drive/My Drive/Facebook/data/fea_sample/storage_sample_stage3.h5', 'train_df',mode='r')\n",
        "    df_final_test = read_hdf('drive/My Drive/Facebook/data/fea_sample/storage_sample_stage3.h5', 'test_df',mode='r')"
      ],
      "execution_count": 0,
      "outputs": []
    },
    {
      "cell_type": "markdown",
      "metadata": {
        "id": "PCMgNJJ3I1tE",
        "colab_type": "text"
      },
      "source": [
        "## 5.5 Adding new set of features\n",
        "\n",
        "__we will create these each of these features for both train and test data points__\n",
        "<ol>\n",
        "<li>SVD features for both source and destination</li>\n",
        "</ol>"
      ]
    },
    {
      "cell_type": "code",
      "metadata": {
        "id": "knDPmw41I1tF",
        "colab_type": "code",
        "colab": {}
      },
      "source": [
        "def svd(x, S):\n",
        "    try:\n",
        "        z = sadj_dict[x]\n",
        "        return S[z]\n",
        "    except:\n",
        "        return [0,0,0,0,0,0]"
      ],
      "execution_count": 0,
      "outputs": []
    },
    {
      "cell_type": "code",
      "metadata": {
        "id": "0FazYeizI1tO",
        "colab_type": "code",
        "colab": {}
      },
      "source": [
        "#for svd features to get feature vector creating a dict node val and inedx in svd vector\n",
        "sadj_col = sorted(train_graph.nodes())\n",
        "sadj_dict = { val:idx for idx,val in enumerate(sadj_col)}"
      ],
      "execution_count": 0,
      "outputs": []
    },
    {
      "cell_type": "code",
      "metadata": {
        "id": "MfdRIu9wI1tW",
        "colab_type": "code",
        "colab": {}
      },
      "source": [
        "Adj = nx.adjacency_matrix(train_graph,nodelist=sorted(train_graph.nodes())).asfptype()"
      ],
      "execution_count": 0,
      "outputs": []
    },
    {
      "cell_type": "code",
      "metadata": {
        "id": "4UGfgCbLI1tn",
        "colab_type": "code",
        "outputId": "9a29f479-92fb-406a-bc5e-4862f45b7887",
        "colab": {
          "base_uri": "https://localhost:8080/",
          "height": 87
        }
      },
      "source": [
        "U, s, V = svds(Adj, k = 6)\n",
        "print('Adjacency matrix Shape',Adj.shape)\n",
        "print('U Shape',U.shape)\n",
        "print('V Shape',V.shape)\n",
        "print('s Shape',s.shape)"
      ],
      "execution_count": 33,
      "outputs": [
        {
          "output_type": "stream",
          "text": [
            "Adjacency matrix Shape (1780722, 1780722)\n",
            "U Shape (1780722, 6)\n",
            "V Shape (6, 1780722)\n",
            "s Shape (6,)\n"
          ],
          "name": "stdout"
        }
      ]
    },
    {
      "cell_type": "code",
      "metadata": {
        "id": "L9-9g2nNI1ty",
        "colab_type": "code",
        "colab": {}
      },
      "source": [
        "if not os.path.isfile('drive/My Drive/Facebook/data/fea_sample/storage_sample_stage4.h5'):\n",
        "    #===================================================================================================\n",
        "    \n",
        "    df_final_train[['svd_u_s_1', 'svd_u_s_2','svd_u_s_3', 'svd_u_s_4', 'svd_u_s_5', 'svd_u_s_6']] = \\\n",
        "    df_final_train.source_node.apply(lambda x: svd(x, U)).apply(pd.Series)\n",
        "    \n",
        "    df_final_train[['svd_u_d_1', 'svd_u_d_2', 'svd_u_d_3', 'svd_u_d_4', 'svd_u_d_5','svd_u_d_6']] = \\\n",
        "    df_final_train.destination_node.apply(lambda x: svd(x, U)).apply(pd.Series)\n",
        "    #===================================================================================================\n",
        "    \n",
        "    df_final_train[['svd_v_s_1','svd_v_s_2', 'svd_v_s_3', 'svd_v_s_4', 'svd_v_s_5', 'svd_v_s_6',]] = \\\n",
        "    df_final_train.source_node.apply(lambda x: svd(x, V.T)).apply(pd.Series)\n",
        "\n",
        "    df_final_train[['svd_v_d_1', 'svd_v_d_2', 'svd_v_d_3', 'svd_v_d_4', 'svd_v_d_5','svd_v_d_6']] = \\\n",
        "    df_final_train.destination_node.apply(lambda x: svd(x, V.T)).apply(pd.Series)\n",
        "    #===================================================================================================\n",
        "    \n",
        "    df_final_test[['svd_u_s_1', 'svd_u_s_2','svd_u_s_3', 'svd_u_s_4', 'svd_u_s_5', 'svd_u_s_6']] = \\\n",
        "    df_final_test.source_node.apply(lambda x: svd(x, U)).apply(pd.Series)\n",
        "    \n",
        "    df_final_test[['svd_u_d_1', 'svd_u_d_2', 'svd_u_d_3', 'svd_u_d_4', 'svd_u_d_5','svd_u_d_6']] = \\\n",
        "    df_final_test.destination_node.apply(lambda x: svd(x, U)).apply(pd.Series)\n",
        "\n",
        "    #===================================================================================================\n",
        "    \n",
        "    df_final_test[['svd_v_s_1','svd_v_s_2', 'svd_v_s_3', 'svd_v_s_4', 'svd_v_s_5', 'svd_v_s_6',]] = \\\n",
        "    df_final_test.source_node.apply(lambda x: svd(x, V.T)).apply(pd.Series)\n",
        "\n",
        "    df_final_test[['svd_v_d_1', 'svd_v_d_2', 'svd_v_d_3', 'svd_v_d_4', 'svd_v_d_5','svd_v_d_6']] = \\\n",
        "    df_final_test.destination_node.apply(lambda x: svd(x, V.T)).apply(pd.Series)\n",
        "    #===================================================================================================\n",
        "\n",
        "    hdf = HDFStore('drive/My Drive/Facebook/data/fea_sample/storage_sample_stage4.h5')\n",
        "    hdf.put('train_df',df_final_train, format='table', data_columns=True)\n",
        "    hdf.put('test_df',df_final_test, format='table', data_columns=True)\n",
        "    hdf.close()"
      ],
      "execution_count": 0,
      "outputs": []
    },
    {
      "cell_type": "code",
      "metadata": {
        "id": "HEJIaoR-I1t5",
        "colab_type": "code",
        "colab": {}
      },
      "source": [
        "# prepared and stored the data from machine learning models\n",
        "# pelase check the FB_Models.ipynb"
      ],
      "execution_count": 0,
      "outputs": []
    },
    {
      "cell_type": "markdown",
      "metadata": {
        "colab_type": "text",
        "id": "naWvqMEMHglO"
      },
      "source": [
        "<p style=\"font-size:32px;text-align:center\"> <b>Social network Graph Link Prediction - Facebook Challenge</b> </p>"
      ]
    },
    {
      "cell_type": "code",
      "metadata": {
        "colab_type": "code",
        "id": "9wb9N5RzHglP",
        "colab": {}
      },
      "source": [
        "#Importing Libraries\n",
        "# please do go through this python notebook: \n",
        "import warnings\n",
        "warnings.filterwarnings(\"ignore\")\n",
        "\n",
        "import csv\n",
        "import pandas as pd#pandas to create small dataframes \n",
        "import datetime #Convert to unix time\n",
        "import time #Convert to unix time\n",
        "# if numpy is not installed already : pip3 install numpy\n",
        "import numpy as np#Do aritmetic operations on arrays\n",
        "# matplotlib: used to plot graphs\n",
        "import matplotlib\n",
        "import matplotlib.pylab as plt\n",
        "import seaborn as sns#Plots\n",
        "from matplotlib import rcParams#Size of plots  \n",
        "from sklearn.cluster import MiniBatchKMeans, KMeans#Clustering\n",
        "import math\n",
        "import pickle\n",
        "import os\n",
        "# to install xgboost: pip3 install xgboost\n",
        "import xgboost as xgb\n",
        "\n",
        "import warnings\n",
        "import networkx as nx\n",
        "import pdb\n",
        "import pickle\n",
        "from pandas import HDFStore,DataFrame\n",
        "from pandas import read_hdf\n",
        "from scipy.sparse.linalg import svds, eigs\n",
        "import gc\n",
        "from tqdm import tqdm\n",
        "from sklearn.ensemble import RandomForestClassifier\n",
        "from sklearn.metrics import f1_score"
      ],
      "execution_count": 0,
      "outputs": []
    },
    {
      "cell_type": "code",
      "metadata": {
        "colab_type": "code",
        "id": "XC4OJFKkHglU",
        "colab": {}
      },
      "source": [
        "#reading\n",
        "from pandas import read_hdf\n",
        "df_final_train = read_hdf('drive/My Drive/Facebook/data/fea_sample/storage_sample_stage4.h5', 'train_df',mode='r')\n",
        "df_final_test = read_hdf('drive/My Drive/Facebook/data/fea_sample/storage_sample_stage4.h5', 'test_df',mode='r')"
      ],
      "execution_count": 0,
      "outputs": []
    },
    {
      "cell_type": "code",
      "metadata": {
        "colab_type": "code",
        "id": "5Gm-BHRkHglW",
        "outputId": "defcaebe-31fc-4e77-caef-76178b45e863",
        "colab": {
          "base_uri": "https://localhost:8080/",
          "height": 247
        }
      },
      "source": [
        "df_final_train.columns"
      ],
      "execution_count": 37,
      "outputs": [
        {
          "output_type": "execute_result",
          "data": {
            "text/plain": [
              "Index(['source_node', 'destination_node', 'indicator_link',\n",
              "       'jaccard_followers', 'jaccard_followees', 'cosine_followers',\n",
              "       'cosine_followees', 'num_followers_s', 'num_followees_s',\n",
              "       'num_followees_d', 'inter_followers', 'inter_followees', 'adar_index',\n",
              "       'follows_back', 'same_comp', 'shortest_path', 'weight_in', 'weight_out',\n",
              "       'weight_f1', 'weight_f2', 'weight_f3', 'weight_f4', 'page_rank_s',\n",
              "       'page_rank_d', 'katz_s', 'katz_d', 'hubs_s', 'hubs_d', 'authorities_s',\n",
              "       'authorities_d', 'svd_u_s_1', 'svd_u_s_2', 'svd_u_s_3', 'svd_u_s_4',\n",
              "       'svd_u_s_5', 'svd_u_s_6', 'svd_u_d_1', 'svd_u_d_2', 'svd_u_d_3',\n",
              "       'svd_u_d_4', 'svd_u_d_5', 'svd_u_d_6', 'svd_v_s_1', 'svd_v_s_2',\n",
              "       'svd_v_s_3', 'svd_v_s_4', 'svd_v_s_5', 'svd_v_s_6', 'svd_v_d_1',\n",
              "       'svd_v_d_2', 'svd_v_d_3', 'svd_v_d_4', 'svd_v_d_5', 'svd_v_d_6'],\n",
              "      dtype='object')"
            ]
          },
          "metadata": {
            "tags": []
          },
          "execution_count": 37
        }
      ]
    },
    {
      "cell_type": "code",
      "metadata": {
        "colab_type": "code",
        "id": "XRW7VZ4AHglc",
        "colab": {}
      },
      "source": [
        "y_train = df_final_train.indicator_link\n",
        "y_test = df_final_test.indicator_link"
      ],
      "execution_count": 0,
      "outputs": []
    },
    {
      "cell_type": "code",
      "metadata": {
        "colab_type": "code",
        "id": "4lj9M_qtHglf",
        "colab": {}
      },
      "source": [
        "df_final_train.drop(['source_node', 'destination_node','indicator_link'],axis=1,inplace=True)\n",
        "df_final_test.drop(['source_node', 'destination_node','indicator_link'],axis=1,inplace=True)"
      ],
      "execution_count": 0,
      "outputs": []
    },
    {
      "cell_type": "code",
      "metadata": {
        "colab_type": "code",
        "id": "lIEc91uVHgli",
        "outputId": "f8e6020f-cd8b-4289-c1e7-117ceb4e74b4",
        "colab": {
          "base_uri": "https://localhost:8080/",
          "height": 401
        }
      },
      "source": [
        "estimators = [10,50,100,250,450]\n",
        "train_scores = []\n",
        "test_scores = []\n",
        "for i in estimators:\n",
        "    clf = RandomForestClassifier(bootstrap=True, class_weight=None, criterion='gini',\n",
        "            max_depth=5, max_features='auto', max_leaf_nodes=None,\n",
        "            min_impurity_decrease=0.0, min_impurity_split=None,\n",
        "            min_samples_leaf=52, min_samples_split=120,\n",
        "            min_weight_fraction_leaf=0.0, n_estimators=i, n_jobs=-1,random_state=25,verbose=0,warm_start=False)\n",
        "    clf.fit(df_final_train,y_train)\n",
        "    train_sc = f1_score(y_train,clf.predict(df_final_train))\n",
        "    test_sc = f1_score(y_test,clf.predict(df_final_test))\n",
        "    test_scores.append(test_sc)\n",
        "    train_scores.append(train_sc)\n",
        "    print('Estimators = ',i,'Train Score',train_sc,'test Score',test_sc)\n",
        "plt.plot(estimators,train_scores,label='Train Score')\n",
        "plt.plot(estimators,test_scores,label='Test Score')\n",
        "plt.xlabel('Estimators')\n",
        "plt.ylabel('Score')\n",
        "plt.title('Estimators vs score at depth of 5')"
      ],
      "execution_count": 40,
      "outputs": [
        {
          "output_type": "stream",
          "text": [
            "Estimators =  10 Train Score 0.9063252121775113 test Score 0.8745605278006858\n",
            "Estimators =  50 Train Score 0.9205725512208812 test Score 0.9125653355634538\n",
            "Estimators =  100 Train Score 0.9238690848446947 test Score 0.9141199714153599\n",
            "Estimators =  250 Train Score 0.9239789348046863 test Score 0.9188007232664732\n",
            "Estimators =  450 Train Score 0.9237190618658074 test Score 0.9161507685828595\n"
          ],
          "name": "stdout"
        },
        {
          "output_type": "execute_result",
          "data": {
            "text/plain": [
              "Text(0.5, 1.0, 'Estimators vs score at depth of 5')"
            ]
          },
          "metadata": {
            "tags": []
          },
          "execution_count": 40
        },
        {
          "output_type": "display_data",
          "data": {
            "image/png": "[encoded data removed]",
            "text/plain": [
              "<Figure size 432x288 with 1 Axes>"
            ]
          },
          "metadata": {
            "tags": []
          }
        }
      ]
    },
    {
      "cell_type": "code",
      "metadata": {
        "colab_type": "code",
        "id": "nZxhrTdQHglm",
        "outputId": "978c0c00-14f2-43a5-814c-f98cca21160a",
        "colab": {
          "base_uri": "https://localhost:8080/",
          "height": 454
        }
      },
      "source": [
        "depths = [3,9,11,15,20,35,50,70,130]\n",
        "train_scores = []\n",
        "test_scores = []\n",
        "for i in depths:\n",
        "    clf = RandomForestClassifier(bootstrap=True, class_weight=None, criterion='gini',\n",
        "            max_depth=i, max_features='auto', max_leaf_nodes=None,\n",
        "            min_impurity_decrease=0.0, min_impurity_split=None,\n",
        "            min_samples_leaf=52, min_samples_split=120,\n",
        "            min_weight_fraction_leaf=0.0, n_estimators=115, n_jobs=-1,random_state=25,verbose=0,warm_start=False)\n",
        "    clf.fit(df_final_train,y_train)\n",
        "    train_sc = f1_score(y_train,clf.predict(df_final_train))\n",
        "    test_sc = f1_score(y_test,clf.predict(df_final_test))\n",
        "    test_scores.append(test_sc)\n",
        "    train_scores.append(train_sc)\n",
        "    print('depth = ',i,'Train Score',train_sc,'test Score',test_sc)\n",
        "plt.plot(depths,train_scores,label='Train Score')\n",
        "plt.plot(depths,test_scores,label='Test Score')\n",
        "plt.xlabel('Depth')\n",
        "plt.ylabel('Score')\n",
        "plt.title('Depth vs score at depth of 5 at estimators = 115')\n",
        "plt.show()"
      ],
      "execution_count": 41,
      "outputs": [
        {
          "output_type": "stream",
          "text": [
            "depth =  3 Train Score 0.8916120853581238 test Score 0.8687934859875491\n",
            "depth =  9 Train Score 0.9572226298198419 test Score 0.9222953031452904\n",
            "depth =  11 Train Score 0.9623451340902863 test Score 0.9252318758281279\n",
            "depth =  15 Train Score 0.9634267621927706 test Score 0.9231288356496615\n",
            "depth =  20 Train Score 0.9631629153051491 test Score 0.9235051024711141\n",
            "depth =  35 Train Score 0.9634333127085721 test Score 0.9235601652753184\n",
            "depth =  50 Train Score 0.9634333127085721 test Score 0.9235601652753184\n",
            "depth =  70 Train Score 0.9634333127085721 test Score 0.9235601652753184\n",
            "depth =  130 Train Score 0.9634333127085721 test Score 0.9235601652753184\n"
          ],
          "name": "stdout"
        },
        {
          "output_type": "display_data",
          "data": {
            "image/png": "[encoded data removed]",
            "text/plain": [
              "<Figure size 432x288 with 1 Axes>"
            ]
          },
          "metadata": {
            "tags": []
          }
        }
      ]
    },
    {
      "cell_type": "code",
      "metadata": {
        "colab_type": "code",
        "id": "MrG1Lfl3Hglq",
        "outputId": "e2802394-bbaa-478e-fe7b-502348bed7f5",
        "colab": {
          "base_uri": "https://localhost:8080/",
          "height": 52
        }
      },
      "source": [
        "from sklearn.metrics import f1_score\n",
        "from sklearn.ensemble import RandomForestClassifier\n",
        "from sklearn.metrics import f1_score\n",
        "from sklearn.model_selection import RandomizedSearchCV\n",
        "from scipy.stats import randint as sp_randint\n",
        "from scipy.stats import uniform\n",
        "\n",
        "param_dist = {\"n_estimators\":sp_randint(105,125),\n",
        "              \"max_depth\": sp_randint(10,15),\n",
        "              \"min_samples_split\": sp_randint(110,190),\n",
        "              \"min_samples_leaf\": sp_randint(25,65)}\n",
        "\n",
        "clf = RandomForestClassifier(random_state=25,n_jobs=-1)\n",
        "\n",
        "rf_random = RandomizedSearchCV(clf, param_distributions=param_dist,\n",
        "                                   n_iter=5,cv=10,scoring='f1',random_state=25,return_train_score=True)\n",
        "\n",
        "rf_random.fit(df_final_train,y_train)\n",
        "print('mean test scores',rf_random.cv_results_['mean_test_score'])\n",
        "print('mean train scores',rf_random.cv_results_['mean_train_score'])"
      ],
      "execution_count": 42,
      "outputs": [
        {
          "output_type": "stream",
          "text": [
            "mean test scores [0.96225043 0.96215493 0.96057081 0.96194015 0.96330005]\n",
            "mean train scores [0.96294922 0.96266735 0.96115674 0.96263457 0.96430539]\n"
          ],
          "name": "stdout"
        }
      ]
    },
    {
      "cell_type": "code",
      "metadata": {
        "id": "bGiPUSiNI1ur",
        "colab_type": "code",
        "outputId": "9a16a841-c4be-4427-c3dd-8199c148e2c9",
        "colab": {
          "base_uri": "https://localhost:8080/",
          "height": 52
        }
      },
      "source": [
        "sp_randint(105,125)"
      ],
      "execution_count": 43,
      "outputs": [
        {
          "output_type": "execute_result",
          "data": {
            "text/plain": [
              "<scipy.stats._distn_infrastructure.rv_frozen at 0x7f35acd4bac8>"
            ]
          },
          "metadata": {
            "tags": []
          },
          "execution_count": 43
        },
        {
          "output_type": "execute_result",
          "data": {
            "text/plain": [
              "<scipy.stats._distn_infrastructure.rv_frozen at 0x7f35acd4bac8>"
            ]
          },
          "metadata": {
            "tags": []
          },
          "execution_count": 43
        },
        {
          "output_type": "execute_result",
          "data": {
            "text/plain": [
              "<scipy.stats._distn_infrastructure.rv_frozen at 0x7f35acd4bac8>"
            ]
          },
          "metadata": {
            "tags": []
          },
          "execution_count": 43
        }
      ]
    },
    {
      "cell_type": "code",
      "metadata": {
        "colab_type": "code",
        "id": "hme3j_diHglu",
        "outputId": "71412f36-306f-445e-fd0e-4a505b5a538a",
        "colab": {
          "base_uri": "https://localhost:8080/",
          "height": 390
        }
      },
      "source": [
        "print(rf_random.best_estimator_)"
      ],
      "execution_count": 44,
      "outputs": [
        {
          "output_type": "stream",
          "text": [
            "RandomForestClassifier(bootstrap=True, class_weight=None, criterion='gini',\n",
            "                       max_depth=14, max_features='auto', max_leaf_nodes=None,\n",
            "                       min_impurity_decrease=0.0, min_impurity_split=None,\n",
            "                       min_samples_leaf=28, min_samples_split=111,\n",
            "                       min_weight_fraction_leaf=0.0, n_estimators=121,\n",
            "                       n_jobs=-1, oob_score=False, random_state=25, verbose=0,\n",
            "                       warm_start=False)\n",
            "RandomForestClassifier(bootstrap=True, class_weight=None, criterion='gini',\n",
            "                       max_depth=14, max_features='auto', max_leaf_nodes=None,\n",
            "                       min_impurity_decrease=0.0, min_impurity_split=None,\n",
            "                       min_samples_leaf=28, min_samples_split=111,\n",
            "                       min_weight_fraction_leaf=0.0, n_estimators=121,\n",
            "                       n_jobs=-1, oob_score=False, random_state=25, verbose=0,\n",
            "                       warm_start=False)\n",
            "RandomForestClassifier(bootstrap=True, class_weight=None, criterion='gini',\n",
            "                       max_depth=14, max_features='auto', max_leaf_nodes=None,\n",
            "                       min_impurity_decrease=0.0, min_impurity_split=None,\n",
            "                       min_samples_leaf=28, min_samples_split=111,\n",
            "                       min_weight_fraction_leaf=0.0, n_estimators=121,\n",
            "                       n_jobs=-1, oob_score=False, random_state=25, verbose=0,\n",
            "                       warm_start=False)\n"
          ],
          "name": "stdout"
        }
      ]
    },
    {
      "cell_type": "markdown",
      "metadata": {
        "id": "gkSLMmE5N_-e",
        "colab_type": "text"
      },
      "source": [
        "# **Randomforest**\n",
        "\n",
        "\n",
        "\n",
        "\n",
        "\n"
      ]
    },
    {
      "cell_type": "code",
      "metadata": {
        "colab_type": "code",
        "id": "qu4KIEweHglx",
        "colab": {}
      },
      "source": [
        "clf = RandomForestClassifier(bootstrap=True, class_weight=None, criterion='gini',\n",
        "            max_depth=14, max_features='auto', max_leaf_nodes=None,\n",
        "            min_impurity_decrease=0.0, min_impurity_split=None,\n",
        "            min_samples_leaf=28, min_samples_split=111,\n",
        "            min_weight_fraction_leaf=0.0, n_estimators=121, n_jobs=-1,\n",
        "            oob_score=False, random_state=25, verbose=0, warm_start=False)"
      ],
      "execution_count": 0,
      "outputs": []
    },
    {
      "cell_type": "code",
      "metadata": {
        "colab_type": "code",
        "id": "Dax83GfLHgl1",
        "colab": {}
      },
      "source": [
        "clf.fit(df_final_train,y_train)\n",
        "y_train_pred = clf.predict(df_final_train)\n",
        "y_test_pred = clf.predict(df_final_test)"
      ],
      "execution_count": 0,
      "outputs": []
    },
    {
      "cell_type": "code",
      "metadata": {
        "colab_type": "code",
        "id": "PTtAp1iTHgl4",
        "colab": {}
      },
      "source": [
        "from sklearn.metrics import f1_score\n",
        "print('Train f1 score',f1_score(y_train,y_train_pred))\n",
        "print('Test f1 score',f1_score(y_test,y_test_pred))"
      ],
      "execution_count": 0,
      "outputs": []
    },
    {
      "cell_type": "code",
      "metadata": {
        "colab_type": "code",
        "id": "5XfUkZYQHgl7",
        "colab": {}
      },
      "source": [
        "from sklearn.metrics import confusion_matrix\n",
        "def plot_confusion_matrix(test_y, predict_y):\n",
        "    C = confusion_matrix(test_y, predict_y)\n",
        "    \n",
        "    A =(((C.T)/(C.sum(axis=1))).T)\n",
        "    \n",
        "    B =(C/C.sum(axis=0))\n",
        "    plt.figure(figsize=(20,4))\n",
        "    \n",
        "    labels = [0,1]\n",
        "    # representing A in heatmap format\n",
        "    cmap=sns.light_palette(\"blue\")\n",
        "    plt.subplot(1, 3, 1)\n",
        "    sns.heatmap(C, annot=True, cmap=cmap, fmt=\".3f\", xticklabels=labels, yticklabels=labels)\n",
        "    plt.xlabel('Predicted Class')\n",
        "    plt.ylabel('Original Class')\n",
        "    plt.title(\"Confusion matrix\")\n",
        "    \n",
        "    plt.subplot(1, 3, 2)\n",
        "    sns.heatmap(B, annot=True, cmap=cmap, fmt=\".3f\", xticklabels=labels, yticklabels=labels)\n",
        "    plt.xlabel('Predicted Class')\n",
        "    plt.ylabel('Original Class')\n",
        "    plt.title(\"Precision matrix\")\n",
        "    \n",
        "    plt.subplot(1, 3, 3)\n",
        "    # representing B in heatmap format\n",
        "    sns.heatmap(A, annot=True, cmap=cmap, fmt=\".3f\", xticklabels=labels, yticklabels=labels)\n",
        "    plt.xlabel('Predicted Class')\n",
        "    plt.ylabel('Original Class')\n",
        "    plt.title(\"Recall matrix\")\n",
        "    \n",
        "    plt.show()"
      ],
      "execution_count": 0,
      "outputs": []
    },
    {
      "cell_type": "code",
      "metadata": {
        "colab_type": "code",
        "id": "s6t11dhTHgl-",
        "outputId": "f6f006ad-9e03-44d8-8cb9-b3325b27bb9e",
        "colab": {
          "base_uri": "https://localhost:8080/",
          "height": 851
        }
      },
      "source": [
        "print('Train confusion_matrix')\n",
        "plot_confusion_matrix(y_train,y_train_pred)\n",
        "print('Test confusion_matrix')\n",
        "plot_confusion_matrix(y_test,y_test_pred)"
      ],
      "execution_count": 49,
      "outputs": [
        {
          "output_type": "display_data",
          "data": {
            "image/png": "[encoded data removed]",
            "text/plain": [
              "<Figure size 1440x288 with 6 Axes>"
            ]
          },
          "metadata": {
            "tags": []
          }
        },
        {
          "output_type": "display_data",
          "data": {
            "image/png": "[encoded data removed]",
            "text/plain": [
              "<Figure size 1440x288 with 6 Axes>"
            ]
          },
          "metadata": {
            "tags": []
          }
        },
        {
          "output_type": "display_data",
          "data": {
            "image/png": "[encoded data removed]",
            "text/plain": [
              "<Figure size 1440x288 with 6 Axes>"
            ]
          },
          "metadata": {
            "tags": []
          }
        }
      ]
    },
    {
      "cell_type": "code",
      "metadata": {
        "colab_type": "code",
        "id": "61TF-VLeHgmD",
        "outputId": "8b3731c0-47e6-49f0-8a67-4543e06f88b8",
        "colab": {
          "base_uri": "https://localhost:8080/",
          "height": 851
        }
      },
      "source": [
        "from sklearn.metrics import roc_curve, auc\n",
        "fpr,tpr,ths = roc_curve(y_test,y_test_pred)\n",
        "auc_sc = auc(fpr, tpr)\n",
        "plt.plot(fpr, tpr, color='navy',label='ROC curve (area = %0.2f)' % auc_sc)\n",
        "plt.xlabel('False Positive Rate')\n",
        "plt.ylabel('True Positive Rate')\n",
        "plt.title('Receiver operating characteristic with test data')\n",
        "plt.legend()\n",
        "plt.show()"
      ],
      "execution_count": 50,
      "outputs": [
        {
          "output_type": "display_data",
          "data": {
            "image/png": "[encoded data removed]",
            "text/plain": [
              "<Figure size 432x288 with 1 Axes>"
            ]
          },
          "metadata": {
            "tags": []
          }
        },
        {
          "output_type": "display_data",
          "data": {
            "image/png": "[encoded data removed]",
            "text/plain": [
              "<Figure size 432x288 with 1 Axes>"
            ]
          },
          "metadata": {
            "tags": []
          }
        },
        {
          "output_type": "display_data",
          "data": {
            "image/png": "[encoded data removed]",
            "text/plain": [
              "<Figure size 432x288 with 1 Axes>"
            ]
          },
          "metadata": {
            "tags": []
          }
        }
      ]
    },
    {
      "cell_type": "code",
      "metadata": {
        "colab_type": "code",
        "id": "HEZ7uvN6HgmK",
        "outputId": "fb012efe-149f-4b3e-d061-59b260e60650",
        "scrolled": false,
        "colab": {
          "base_uri": "https://localhost:8080/",
          "height": 730
        }
      },
      "source": [
        "features = df_final_train.columns\n",
        "importances = clf.feature_importances_\n",
        "indices = (np.argsort(importances))[-25:]\n",
        "plt.figure(figsize=(10,12))\n",
        "plt.title('Feature Importances')\n",
        "plt.barh(range(len(indices)), importances[indices], color='r', align='center')\n",
        "plt.yticks(range(len(indices)), [features[i] for i in indices])\n",
        "plt.xlabel('Relative Importance')\n",
        "plt.show()"
      ],
      "execution_count": 54,
      "outputs": [
        {
          "output_type": "display_data",
          "data": {
            "image/png": "[encoded data removed]",
            "text/plain": [
              "<Figure size 720x864 with 1 Axes>"
            ]
          },
          "metadata": {
            "tags": []
          }
        }
      ]
    },
    {
      "cell_type": "markdown",
      "metadata": {
        "id": "rNGJ6gG-NsFp",
        "colab_type": "text"
      },
      "source": [
        "From the above that we can analyze that follow_back and weight_f1 are most important features."
      ]
    },
    {
      "cell_type": "markdown",
      "metadata": {
        "colab_type": "text",
        "id": "xdHW32hcHgmN"
      },
      "source": [
        "# Assignments:\n",
        "\n",
        "1. Add another feature called  Preferential Attachment  with followers and followees data of vertex. you can check about Preferential Attachment in below link\n",
        "http://be.amazd.com/link-prediction/ <br>\n",
        "2. Add  feature called svd_dot. you can calculate svd_dot as Dot product between sourse node svd and destination node svd features.  you can read about this in below pdf \n",
        "https://storage.googleapis.com/kaggle-forum-message-attachments/2594/supervised_link_prediction.pdf<br>\n",
        "3. Tune hyperparameters for XG boost with all these features and check the error metric."
      ]
    },
    {
      "cell_type": "code",
      "metadata": {
        "id": "SXT4X0jCI1ve",
        "colab_type": "code",
        "outputId": "020fa5b1-ceb0-4ee1-fff7-231ffbe46bec",
        "colab": {
          "base_uri": "https://localhost:8080/",
          "height": 230
        }
      },
      "source": [
        "df_final_train.columns"
      ],
      "execution_count": 55,
      "outputs": [
        {
          "output_type": "execute_result",
          "data": {
            "text/plain": [
              "Index(['jaccard_followers', 'jaccard_followees', 'cosine_followers',\n",
              "       'cosine_followees', 'num_followers_s', 'num_followees_s',\n",
              "       'num_followees_d', 'inter_followers', 'inter_followees', 'adar_index',\n",
              "       'follows_back', 'same_comp', 'shortest_path', 'weight_in', 'weight_out',\n",
              "       'weight_f1', 'weight_f2', 'weight_f3', 'weight_f4', 'page_rank_s',\n",
              "       'page_rank_d', 'katz_s', 'katz_d', 'hubs_s', 'hubs_d', 'authorities_s',\n",
              "       'authorities_d', 'svd_u_s_1', 'svd_u_s_2', 'svd_u_s_3', 'svd_u_s_4',\n",
              "       'svd_u_s_5', 'svd_u_s_6', 'svd_u_d_1', 'svd_u_d_2', 'svd_u_d_3',\n",
              "       'svd_u_d_4', 'svd_u_d_5', 'svd_u_d_6', 'svd_v_s_1', 'svd_v_s_2',\n",
              "       'svd_v_s_3', 'svd_v_s_4', 'svd_v_s_5', 'svd_v_s_6', 'svd_v_d_1',\n",
              "       'svd_v_d_2', 'svd_v_d_3', 'svd_v_d_4', 'svd_v_d_5', 'svd_v_d_6'],\n",
              "      dtype='object')"
            ]
          },
          "metadata": {
            "tags": []
          },
          "execution_count": 55
        }
      ]
    },
    {
      "cell_type": "code",
      "metadata": {
        "id": "5Ond0Ej0I1vh",
        "colab_type": "code",
        "colab": {}
      },
      "source": [
        "num_followers_s = list(df_final_train['num_followers_s'])\n",
        "num_followers_d = list(df_final_train['num_followers_d'])\n",
        "num_followees_s = list(df_final_train['num_followees_s'])\n",
        "num_followees_d = list(df_final_train['num_followees_d'])\n",
        "\n",
        "preferential_followers_train = []\n",
        "for i in range(df_final_train.shape[0]):\n",
        "    res = num_followers_s[i] * num_followers_d[i]\n",
        "    preferential_followers_train.append(res)\n",
        "\n",
        "preferential_followees_train = []\n",
        "for i in range(df_final_train.shape[0]):\n",
        "    res = num_followees_s[i] * num_followees_d[i]\n",
        "    preferential_followees_train.append(res)\n",
        "\n",
        "num_followers_s = list(df_final_test['num_followers_s'])\n",
        "num_followers_d = list(df_final_test['num_followers_d'])\n",
        "num_followees_s = list(df_final_test['num_followees_s'])\n",
        "num_followees_d = list(df_final_test['num_followees_d'])\n",
        "\n",
        "    \n",
        "preferential_followers_test = []\n",
        "for i in range(df_final_test.shape[0]):\n",
        "    res = num_followers_s[i] * num_followers_d[i]\n",
        "    preferential_followers_test.append(res)\n",
        "\n",
        "preferential_followees_test = []\n",
        "for i in range(df_final_test.shape[0]):\n",
        "    res = num_followees_s[i] * num_followees_d[i]\n",
        "    preferential_followees_test.append(res)\n",
        "\n",
        "print(\"preferential_followers_train \",len(preferential_followers_train))\n",
        "print(\"preferential_followees_train \",len(preferential_followees_train))\n",
        "print(\"preferential_followers_test \",len(preferential_followers_test))\n",
        "print(\"preferential_followees_test \",len(preferential_followees_test))"
      ],
      "execution_count": 0,
      "outputs": []
    },
    {
      "cell_type": "code",
      "metadata": {
        "id": "R8AG6PpII1vk",
        "colab_type": "code",
        "colab": {}
      },
      "source": [
        "ss = df_final_train[['svd_u_s_1','svd_u_s_2','svd_u_s_3','svd_u_s_4','svd_u_s_5']].values\n",
        "dd = df_final_train[['svd_u_d_1','svd_u_d_2','svd_u_d_3','svd_u_d_4','svd_u_d_5']].values"
      ],
      "execution_count": 0,
      "outputs": []
    },
    {
      "cell_type": "code",
      "metadata": {
        "id": "3y8S-WuyI1vm",
        "colab_type": "code",
        "colab": {}
      },
      "source": [
        "np.dot(ss[0],dd[0])"
      ],
      "execution_count": 0,
      "outputs": []
    },
    {
      "cell_type": "code",
      "metadata": {
        "id": "QYxVy9J3I1vq",
        "colab_type": "code",
        "colab": {}
      },
      "source": [
        "ss = df_final_train[['svd_u_s_1','svd_u_s_2','svd_u_s_3','svd_u_s_4','svd_u_s_5']].values\n",
        "dd = df_final_train[['svd_u_d_1','svd_u_d_2','svd_u_d_3','svd_u_d_4','svd_u_d_5']].values\n",
        "svd_u_dot_train = []\n",
        "for i in range(df_final_train.shape[0]):\n",
        "    res = np.dot(ss[i],dd[i])\n",
        "    svd_u_dot_train.append(res)\n",
        "\n",
        "ss = df_final_test[['svd_u_s_1','svd_u_s_2','svd_u_s_3','svd_u_s_4','svd_u_s_5']].values\n",
        "dd = df_final_test[['svd_u_d_1','svd_u_d_2','svd_u_d_3','svd_u_d_4','svd_u_d_5']].values\n",
        "svd_u_dot_test = []\n",
        "for i in range(df_final_test.shape[0]):\n",
        "    res = np.dot(ss[i],dd[i])\n",
        "    svd_u_dot_test.append(res)\n",
        "    \n",
        "print(\"svd_dot_train \",len(svd_u_dot_train))\n",
        "print(\"svd_dot_test \",len(svd_u_dot_test))"
      ],
      "execution_count": 0,
      "outputs": []
    },
    {
      "cell_type": "code",
      "metadata": {
        "id": "_Kb_xHDqI1vu",
        "colab_type": "code",
        "outputId": "886f4e9d-f5d9-4ae7-8fb5-d65fdf71af39",
        "colab": {}
      },
      "source": [
        "ss = df_final_train[['svd_v_s_1','svd_v_s_2','svd_v_s_3','svd_v_s_4','svd_v_s_5']].values\n",
        "dd = df_final_train[['svd_v_d_1','svd_v_d_2','svd_v_d_3','svd_v_d_4','svd_v_d_5']].values\n",
        "svd_v_dot_train = []\n",
        "for i in range(df_final_train.shape[0]):\n",
        "    res = np.dot(ss[i],dd[i])\n",
        "    svd_v_dot_train.append(res)\n",
        "\n",
        "ss = df_final_test[['svd_v_s_1','svd_v_s_2','svd_v_s_3','svd_v_s_4','svd_v_s_5']].values\n",
        "dd = df_final_test[['svd_v_s_1','svd_v_s_2','svd_v_s_3','svd_v_s_4','svd_v_s_5']].values\n",
        "svd_v_dot_test = []\n",
        "for i in range(df_final_test.shape[0]):\n",
        "    res = np.dot(ss[i],dd[i])\n",
        "    svd_v_dot_test.append(res)\n",
        "    \n",
        "print(\"svd_dot_train \",len(svd_v_dot_train))\n",
        "print(\"svd_dot_test \",len(svd_v_dot_test))"
      ],
      "execution_count": 0,
      "outputs": [
        {
          "output_type": "stream",
          "text": [
            "svd_dot_train  100002\n",
            "svd_dot_test  50002\n"
          ],
          "name": "stdout"
        }
      ]
    },
    {
      "cell_type": "code",
      "metadata": {
        "id": "1JOF_ACgI1vy",
        "colab_type": "code",
        "colab": {}
      },
      "source": [
        "#https://stackoverflow.com/a/51308247\n",
        "dataset_train = pd.DataFrame({'preferential_followers_train': preferential_followers_train, 'preferential_followees_train': preferential_followees_train,'svd_u_dot_train':svd_u_dot_train,'svd_v_dot_train':svd_v_dot_train})\n",
        "#https://stackoverflow.com/a/51308247\n",
        "dataset_test = pd.DataFrame({'preferential_followers_test': preferential_followers_test, 'preferential_followees_test': preferential_followees_test,'svd_u_dot_test':svd_u_dot_test,'svd_v_dot_test':svd_v_dot_test})"
      ],
      "execution_count": 0,
      "outputs": []
    },
    {
      "cell_type": "code",
      "metadata": {
        "id": "HnnmNon-I1v0",
        "colab_type": "code",
        "colab": {}
      },
      "source": [
        "# merge two sparse matrices: https://stackoverflow.com/a/19710648/4084039\n",
        "from scipy.sparse import hstack\n",
        "X_tr = hstack((df_final_train,dataset_train))\n",
        "X_te = hstack((df_final_test,dataset_test))\n",
        "\n",
        "print(\"Final Data matrix on BOW\")\n",
        "print(X_tr.shape, y_train.shape)\n",
        "# print(X_cr.shape, y_cv.shape)\n",
        "\n",
        "print(X_te.shape, y_test.shape)\n",
        "print(\"=\"*100)"
      ],
      "execution_count": 0,
      "outputs": []
    },
    {
      "cell_type": "code",
      "metadata": {
        "id": "WARjO9pkI1v4",
        "colab_type": "code",
        "colab": {}
      },
      "source": [
        "from sklearn.model_selection import GridSearchCV\n",
        "import xgboost as xgb\n",
        "import time\n",
        "\n",
        "start_time = time.time()\n",
        "gbdt = xgb.XGBClassifier(n_jobs=-1,class_weight='balanced')\n",
        "parameters = {'n_estimators': [10, 100, 500], 'max_depth':[10, 50, 100, 500]}\n",
        "clf = GridSearchCV(gbdt, parameters, cv= 3, scoring='f1',return_train_score=True)\n",
        "clf.fit(X_tr, y_train)\n",
        "\n",
        "train_auc= clf.cv_results_['mean_train_score']\n",
        "train_auc_std= clf.cv_results_['std_train_score']\n",
        "cv_auc = clf.cv_results_['mean_test_score']\n",
        "cv_auc_std= clf.cv_results_['std_test_score']\n",
        "print(\"Execution time: \" + str((time.time() - start_time)) + ' ms')"
      ],
      "execution_count": 0,
      "outputs": []
    },
    {
      "cell_type": "code",
      "metadata": {
        "colab_type": "code",
        "id": "RCDDZ_EOI1v9",
        "colab": {}
      },
      "source": [
        "print(clf.best_estimator_)"
      ],
      "execution_count": 0,
      "outputs": []
    },
    {
      "cell_type": "markdown",
      "metadata": {
        "id": "azulTh6LI1wB",
        "colab_type": "text"
      },
      "source": [
        "### With clf.best_estimator_ we are overfitting the model with those params , so we'll manually check the params using heatmaps"
      ]
    },
    {
      "cell_type": "code",
      "metadata": {
        "id": "KX09x1jeI1wB",
        "colab_type": "code",
        "colab": {}
      },
      "source": [
        "train_auc = train_auc.reshape(3,4) \n",
        "cv_auc = cv_auc.reshape(3,4) \n",
        "train_auc \n",
        "cv_auc\n"
      ],
      "execution_count": 0,
      "outputs": []
    },
    {
      "cell_type": "code",
      "metadata": {
        "id": "km3PBg8SI1wE",
        "colab_type": "code",
        "colab": {}
      },
      "source": [
        "import matplotlib.pyplot as plt\n",
        "# plt.show() \n",
        "import numpy as np; np.random.seed(0) \n",
        "import seaborn as sns \n",
        "\n",
        "sns.heatmap(train_auc,annot=True) \n",
        "plt.yticks(np.arange(3), [10, 100, 500])\n",
        "plt.xticks(np.arange(4), [10, 50, 100, 500]) \n",
        "plt.xlabel('max_depth') \n",
        "plt.ylabel('n_estimators') \n",
        "plt.show()"
      ],
      "execution_count": 0,
      "outputs": []
    },
    {
      "cell_type": "code",
      "metadata": {
        "id": "06zK4V_II1wS",
        "colab_type": "code",
        "colab": {}
      },
      "source": [
        "import matplotlib.pyplot as plt\n",
        "# plt.show() \n",
        "import numpy as np; np.random.seed(0) \n",
        "import seaborn as sns \n",
        "\n",
        "sns.heatmap(cv_auc,annot=True) \n",
        "plt.yticks(np.arange(3), [10, 100, 500])\n",
        "plt.xticks(np.arange(4), [10, 50, 100, 500]) \n",
        "plt.xlabel('max_depth') \n",
        "plt.ylabel('n_estimators') \n",
        "plt.show()"
      ],
      "execution_count": 0,
      "outputs": []
    },
    {
      "cell_type": "markdown",
      "metadata": {
        "id": "lPmGFx9hNdT0",
        "colab_type": "text"
      },
      "source": [
        "# **Xgboost**"
      ]
    },
    {
      "cell_type": "code",
      "metadata": {
        "colab_type": "code",
        "id": "3o15BRi_I1wg",
        "colab": {}
      },
      "source": [
        "clf = xgb.XGBClassifier(base_score=0.5, booster='gbtree', class_weight='balanced',\n",
        "              colsample_bylevel=1, colsample_bynode=1, colsample_bytree=1,\n",
        "              gamma=0, learning_rate=0.1, max_delta_step=0, max_depth=10,\n",
        "              min_child_weight=1, missing=None, n_estimators=10, n_jobs=-1,\n",
        "              nthread=None, objective='binary:logistic', random_state=0,\n",
        "              reg_alpha=0, reg_lambda=1, scale_pos_weight=1, seed=None,\n",
        "              silent=None, subsample=1, verbosity=1)"
      ],
      "execution_count": 0,
      "outputs": []
    },
    {
      "cell_type": "code",
      "metadata": {
        "colab_type": "code",
        "id": "FEDDR3q6I1wl",
        "colab": {}
      },
      "source": [
        "clf.fit(df_final_train,y_train)\n",
        "y_train_pred = clf.predict(df_final_train)\n",
        "y_test_pred = clf.predict(df_final_test)"
      ],
      "execution_count": 0,
      "outputs": []
    },
    {
      "cell_type": "code",
      "metadata": {
        "colab_type": "code",
        "id": "krtu5KcFI1wq",
        "colab": {}
      },
      "source": [
        "from sklearn.metrics import f1_score\n",
        "print('Train f1 score',f1_score(y_train,y_train_pred))\n",
        "print('Test f1 score',f1_score(y_test,y_test_pred))"
      ],
      "execution_count": 0,
      "outputs": []
    },
    {
      "cell_type": "code",
      "metadata": {
        "colab_type": "code",
        "id": "Bqlh0gchI1wx",
        "colab": {}
      },
      "source": [
        "from sklearn.metrics import confusion_matrix\n",
        "def plot_confusion_matrix(test_y, predict_y):\n",
        "    C = confusion_matrix(test_y, predict_y)\n",
        "    \n",
        "    A =(((C.T)/(C.sum(axis=1))).T)\n",
        "    \n",
        "    B =(C/C.sum(axis=0))\n",
        "    plt.figure(figsize=(20,4))\n",
        "    \n",
        "    labels = [0,1]\n",
        "    # representing A in heatmap format\n",
        "    cmap=sns.light_palette(\"blue\")\n",
        "    plt.subplot(1, 3, 1)\n",
        "    sns.heatmap(C, annot=True, cmap=cmap, fmt=\".3f\", xticklabels=labels, yticklabels=labels)\n",
        "    plt.xlabel('Predicted Class')\n",
        "    plt.ylabel('Original Class')\n",
        "    plt.title(\"Confusion matrix\")\n",
        "    \n",
        "    plt.subplot(1, 3, 2)\n",
        "    sns.heatmap(B, annot=True, cmap=cmap, fmt=\".3f\", xticklabels=labels, yticklabels=labels)\n",
        "    plt.xlabel('Predicted Class')\n",
        "    plt.ylabel('Original Class')\n",
        "    plt.title(\"Precision matrix\")\n",
        "    \n",
        "    plt.subplot(1, 3, 3)\n",
        "    # representing B in heatmap format\n",
        "    sns.heatmap(A, annot=True, cmap=cmap, fmt=\".3f\", xticklabels=labels, yticklabels=labels)\n",
        "    plt.xlabel('Predicted Class')\n",
        "    plt.ylabel('Original Class')\n",
        "    plt.title(\"Recall matrix\")\n",
        "    \n",
        "    plt.show()"
      ],
      "execution_count": 0,
      "outputs": []
    },
    {
      "cell_type": "code",
      "metadata": {
        "id": "loNgnbAtI1w6",
        "colab_type": "code",
        "colab": {}
      },
      "source": [
        "print('Train confusion_matrix')\n",
        "plot_confusion_matrix(y_train,y_train_pred)\n",
        "print('Test confusion_matrix')\n",
        "plot_confusion_matrix(y_test,y_test_pred)"
      ],
      "execution_count": 0,
      "outputs": []
    },
    {
      "cell_type": "code",
      "metadata": {
        "colab_type": "code",
        "outputId": "795f1b39-61c7-470f-e2d0-1fe6dc7ac5fd",
        "id": "EQfcaxJdI1xJ",
        "colab": {}
      },
      "source": [
        "from sklearn.metrics import roc_curve, auc\n",
        "fpr,tpr,ths = roc_curve(y_test,y_test_pred)\n",
        "auc_sc = auc(fpr, tpr)\n",
        "plt.plot(fpr, tpr, color='navy',label='ROC curve (area = %0.2f)' % auc_sc)\n",
        "plt.xlabel('False Positive Rate')\n",
        "plt.ylabel('True Positive Rate')\n",
        "plt.title('Receiver operating characteristic with test data')\n",
        "plt.legend()\n",
        "plt.show()"
      ],
      "execution_count": 0,
      "outputs": [
        {
          "output_type": "display_data",
          "data": {
            "image/png": "[encoded data removed]",
            "text/plain": [
              "<Figure size 432x288 with 1 Axes>"
            ]
          },
          "metadata": {
            "tags": [],
            "needs_background": "light"
          }
        }
      ]
    },
    {
      "cell_type": "code",
      "metadata": {
        "id": "UqP-NROkI1xM",
        "colab_type": "code",
        "colab": {}
      },
      "source": [
        "names = df_final_train.columns"
      ],
      "execution_count": 0,
      "outputs": []
    },
    {
      "cell_type": "code",
      "metadata": {
        "id": "lcOc1IuwI1xR",
        "colab_type": "code",
        "outputId": "3b7f2cb5-e4e2-4e80-e61e-ccf22146f98f",
        "colab": {}
      },
      "source": [
        "names.append(dataset_train.columns)"
      ],
      "execution_count": 0,
      "outputs": [
        {
          "output_type": "execute_result",
          "data": {
            "text/plain": [
              "Index(['jaccard_followers', 'jaccard_followees', 'cosine_followers',\n",
              "       'cosine_followees', 'num_followers_s', 'num_followers_d',\n",
              "       'num_followees_s', 'num_followees_d', 'inter_followers',\n",
              "       'inter_followees', 'adar_index', 'follows_back', 'same_comp',\n",
              "       'shortest_path', 'weight_in', 'weight_out', 'weight_f1', 'weight_f2',\n",
              "       'weight_f3', 'weight_f4', 'page_rank_s', 'page_rank_d', 'katz_s',\n",
              "       'katz_d', 'hubs_s', 'hubs_d', 'authorities_s', 'authorities_d',\n",
              "       'svd_u_s_1', 'svd_u_s_2', 'svd_u_s_3', 'svd_u_s_4', 'svd_u_s_5',\n",
              "       'svd_u_s_6', 'svd_u_d_1', 'svd_u_d_2', 'svd_u_d_3', 'svd_u_d_4',\n",
              "       'svd_u_d_5', 'svd_u_d_6', 'svd_v_s_1', 'svd_v_s_2', 'svd_v_s_3',\n",
              "       'svd_v_s_4', 'svd_v_s_5', 'svd_v_s_6', 'svd_v_d_1', 'svd_v_d_2',\n",
              "       'svd_v_d_3', 'svd_v_d_4', 'svd_v_d_5', 'svd_v_d_6',\n",
              "       'preferential_followers_train', 'preferential_followees_train',\n",
              "       'svd_u_dot_train', 'svd_v_dot_train'],\n",
              "      dtype='object')"
            ]
          },
          "metadata": {
            "tags": []
          },
          "execution_count": 24
        }
      ]
    },
    {
      "cell_type": "code",
      "metadata": {
        "colab_type": "code",
        "outputId": "6f762256-54fc-4e2f-865b-22342033eb2c",
        "scrolled": false,
        "id": "zAaxz1CBI1xW",
        "colab": {}
      },
      "source": [
        "# features = df_final_train.columns\n",
        "importances = clf.feature_importances_\n",
        "indices = (np.argsort(importances))[-25:]\n",
        "plt.figure(figsize=(10,12))\n",
        "plt.title('Feature Importances')\n",
        "plt.barh(range(len(indices)), importances[indices], color='r', align='center')\n",
        "plt.yticks(range(len(indices)), [names[i] for i in indices])\n",
        "plt.xlabel('Relative Importance')\n",
        "plt.show()"
      ],
      "execution_count": 0,
      "outputs": [
        {
          "output_type": "display_data",
          "data": {
            "image/png": "[encoded data removed]",
            "text/plain": [
              "<Figure size 720x864 with 1 Axes>"
            ]
          },
          "metadata": {
            "tags": [],
            "needs_background": "light"
          }
        }
      ]
    },
    {
      "cell_type": "markdown",
      "metadata": {
        "id": "Oo84jDoTM0lo",
        "colab_type": "text"
      },
      "source": [
        "#### from the above we can analyze that follow_back_is most important feature nad second one cosine_followers which are most important features."
      ]
    },
    {
      "cell_type": "markdown",
      "metadata": {
        "id": "t7bQN4sCI1xj",
        "colab_type": "text"
      },
      "source": [
        "# Pretty Table:"
      ]
    },
    {
      "cell_type": "code",
      "metadata": {
        "id": "JM9VHRO2I1xl",
        "colab_type": "code",
        "outputId": "23a78906-d4be-4469-eccc-0a89768b1ea0",
        "colab": {}
      },
      "source": [
        "from prettytable import PrettyTable\n",
        "x = PrettyTable()\n",
        "\n",
        "\n",
        "x.field_names = [ \"Model\", \"Hyperparameters(max_depth,n_estimators)\" , \"Test F1\"] \n",
        "x.add_row([ \"RF\",\"(14,121)\", 0.92]) \n",
        "x.add_row([ \"GBDT After Feature Engineering\", \"(10,10)\", 0.93])\n",
        "print(x)"
      ],
      "execution_count": 0,
      "outputs": [
        {
          "output_type": "stream",
          "text": [
            "+--------------------------------+-----------------------------------------+---------+\n",
            "|             Model              | Hyperparameters(max_depth,n_estimators) | Test F1 |\n",
            "+--------------------------------+-----------------------------------------+---------+\n",
            "|               RF               |                 (14,121)                |   0.92  |\n",
            "| GBDT After Feature Engineering |                 (10,10)                 |   0.93  |\n",
            "+--------------------------------+-----------------------------------------+---------+\n"
          ],
          "name": "stdout"
        }
      ]
    },
    {
      "cell_type": "code",
      "metadata": {
        "id": "UPSWttMLI1x3",
        "colab_type": "code",
        "colab": {}
      },
      "source": [
        ""
      ],
      "execution_count": 0,
      "outputs": []
    }
  ]
}